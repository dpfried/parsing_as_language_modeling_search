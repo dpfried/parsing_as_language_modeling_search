{
 "cells": [
  {
   "cell_type": "code",
   "execution_count": 1,
   "metadata": {
    "collapsed": true
   },
   "outputs": [],
   "source": [
    "# section 22, beam decode from RNNG discriminative model\n",
    "rnng_gold_file = '../rnng/corpora/22.auto.clean'\n",
    "rnng_samples_file = 'dyer_beam/dev_pos_embeddings_beam=100.ptb_samples'\n",
    "rnng_lstm_score_file = 'dyer_beam/dev_pos_embeddings_beam=100.ptb_samples.likelihoods'\n",
    "rnng_gen_score_file = 'dyer_beam/dev_pos_embeddings_beam=100.samples.likelihoods2'"
   ]
  },
  {
   "cell_type": "code",
   "execution_count": 2,
   "metadata": {
    "collapsed": false
   },
   "outputs": [],
   "source": [
    "# section 22, files in \n",
    "lstm_gold_file = 'wsj/dev_22.txt.stripped'\n",
    "lstm_decode_file = 'expts/beam_size=50-at_word=5.decode_all'\n",
    "lstm_stderr_file = 'expts/beam_size=50-at_word=5.stderr_all'"
   ]
  },
  {
   "cell_type": "code",
   "execution_count": 3,
   "metadata": {
    "collapsed": false
   },
   "outputs": [],
   "source": [
    "import rnng_interpolate\n",
    "import rnng_output_to_nbest\n",
    "import rnng_threeway_interpolate\n",
    "import decode_analysis"
   ]
  },
  {
   "cell_type": "code",
   "execution_count": 4,
   "metadata": {
    "collapsed": true
   },
   "outputs": [],
   "source": [
    "from ptb_reader import get_tags_tokens_lowercase"
   ]
  },
  {
   "cell_type": "code",
   "execution_count": 5,
   "metadata": {
    "collapsed": true
   },
   "outputs": [],
   "source": [
    "# RNNG order"
   ]
  },
  {
   "cell_type": "code",
   "execution_count": 29,
   "metadata": {
    "collapsed": false
   },
   "outputs": [],
   "source": [
    "with open(rnng_gold_file) as f:\n",
    "    rnng_gold_tokens = [get_tags_tokens_lowercase(line)[1] for line in f]\n",
    "with open(rnng_gold_file) as f:\n",
    "    rnng_gold_trees = [line.strip() for line in f]"
   ]
  },
  {
   "cell_type": "code",
   "execution_count": 7,
   "metadata": {
    "collapsed": true
   },
   "outputs": [],
   "source": [
    "with open(rnng_samples_file) as f:\n",
    "    rnng_indices_discrim_scores_and_parses = list(rnng_output_to_nbest.parse_rnng_file(f))"
   ]
  },
  {
   "cell_type": "code",
   "execution_count": 8,
   "metadata": {
    "collapsed": true
   },
   "outputs": [],
   "source": [
    "sample_lens = [len(l) for l in rnng_indices_discrim_scores_and_parses]"
   ]
  },
  {
   "cell_type": "code",
   "execution_count": 9,
   "metadata": {
    "collapsed": true
   },
   "outputs": [],
   "source": [
    "with open(rnng_lstm_score_file) as f:\n",
    "    rnng_lstm_scores = list(rnng_interpolate.parse_likelihood_file(f))"
   ]
  },
  {
   "cell_type": "code",
   "execution_count": 10,
   "metadata": {
    "collapsed": true
   },
   "outputs": [],
   "source": [
    "with open(rnng_gen_score_file) as f:\n",
    "    rnng_gen_scores = list(rnng_threeway_interpolate.parse_rnng_gen_score_file(f, sample_lens))"
   ]
  },
  {
   "cell_type": "code",
   "execution_count": 11,
   "metadata": {
    "collapsed": true
   },
   "outputs": [],
   "source": [
    "# LSTM order"
   ]
  },
  {
   "cell_type": "code",
   "execution_count": 12,
   "metadata": {
    "collapsed": false
   },
   "outputs": [],
   "source": [
    "with open(lstm_gold_file) as f:\n",
    "    lstm_gold_tokens = [get_tags_tokens_lowercase(line)[1] for line in f]\n",
    "with open(lstm_gold_file) as f:\n",
    "    lstm_gold_trees = [line.strip() for line in f]"
   ]
  },
  {
   "cell_type": "code",
   "execution_count": 13,
   "metadata": {
    "collapsed": false
   },
   "outputs": [],
   "source": [
    "lstm_decode_instances = decode_analysis.parse_decode_output_files(lstm_gold_trees, lstm_decode_file, lstm_stderr_file)"
   ]
  },
  {
   "cell_type": "code",
   "execution_count": 14,
   "metadata": {
    "collapsed": false
   },
   "outputs": [
    {
     "data": {
      "text/plain": [
       "1692"
      ]
     },
     "execution_count": 14,
     "metadata": {},
     "output_type": "execute_result"
    }
   ],
   "source": [
    "rs = [tuple(s) for s in rnng_gold_tokens]\n",
    "len(set(rs))"
   ]
  },
  {
   "cell_type": "code",
   "execution_count": 15,
   "metadata": {
    "collapsed": false
   },
   "outputs": [
    {
     "data": {
      "text/plain": [
       "1692"
      ]
     },
     "execution_count": 15,
     "metadata": {},
     "output_type": "execute_result"
    }
   ],
   "source": [
    "ls = [tuple(s) for s in lstm_gold_tokens]\n",
    "len(set(ls))"
   ]
  },
  {
   "cell_type": "code",
   "execution_count": 16,
   "metadata": {
    "collapsed": true
   },
   "outputs": [],
   "source": [
    "import collections"
   ]
  },
  {
   "cell_type": "code",
   "execution_count": 17,
   "metadata": {
    "collapsed": false
   },
   "outputs": [
    {
     "name": "stdout",
     "output_type": "stream",
     "text": [
      "('Among', 'Big', 'Board', 'specialists', ',', 'the', 'cry', 'was', '``', 'Pull', 'your', 'offers', \"''\", '--', 'meaning', 'that', 'specialists', 'soon', 'expected', 'to', 'get', 'higher', 'prices', 'for', 'their', 'shares', '.'): [127, 1056]\n",
      "('Many', 'market', 'makers', 'in', 'the', 'S&P', '100', 'index', 'options', 'contract', 'had', 'bullish', 'positions', 'Friday', ',', 'and', 'when', 'the', 'shutdown', 'came', 'they', 'were', 'frozen', 'with', 'huge', 'losses', '.'): [131, 1065]\n",
      "('Over', 'the', 'weekend', ',', 'clearing', 'firms', 'told', 'the', 'Chicago', 'market', 'makers', 'to', 'get', 'out', 'of', 'their', 'positions', 'at', 'any', 'cost', 'Monday', 'morning', '.'): [132, 1066]\n",
      "('Source', ':', 'Telerate', 'Systems', 'Inc', '.'): [1180, 1182]\n",
      "('The', 'carnage', 'on', 'the', 'Chicago', 'Board', 'Options', 'Exchange', ',', 'the', 'nation', \"'s\", 'major', 'options', 'market', ',', 'was', 'heavy', 'after', 'the', 'trading', 'in', 'S&P', '100', 'stock-index', 'options', 'was', 'halted', 'Friday', '.'): [130, 1064]\n",
      "('Then', ',', 'nine', 'minutes', 'later', ',', 'Wall', 'Street', 'suddenly', 'rebounded', 'to', 'a', 'gain', 'on', 'the', 'day', '.'): [1046, 1135]\n",
      "('``', 'It', 'was', 'bedlam', 'on', 'the', 'upside', ',', \"''\", 'said', 'one', 'Big', 'Board', 'specialist', '.'): [128, 1057]\n",
      "('``', 'They', 'were', 'absolutely', 'killed', ',', 'slaughtered', ',', \"''\", 'said', 'one', 'Chicago-based', 'options', 'trader', '.'): [133, 1067]\n"
     ]
    }
   ],
   "source": [
    "dups = collections.defaultdict(list)\n",
    "for i, e in enumerate(ls):\n",
    "    dups[e].append(i)\n",
    "for k, v in sorted(dups.iteritems()):\n",
    "    if len(v) >= 2:\n",
    "        print '%s: %r' % (k, v)"
   ]
  },
  {
   "cell_type": "code",
   "execution_count": 18,
   "metadata": {
    "collapsed": false
   },
   "outputs": [
    {
     "data": {
      "text/plain": [
       "\"<eos> (S (PP among (NP big board specialists )NP )PP , (NP the <unk> )NP (VP was `` (S (VP pull (NP your offers )NP )VP )S '' (PRN -- (S (VP meaning (SBAR that (S (NP specialists )NP (VP (ADVP soon )ADVP expected (S (VP to (VP get (NP higher prices )NP (PP for (NP their shares )NP )PP )VP )VP )S )VP )S )SBAR )VP )S )PRN )VP . )S <eos>\""
      ]
     },
     "execution_count": 18,
     "metadata": {},
     "output_type": "execute_result"
    }
   ],
   "source": [
    "lstm_decode_instances[127].gold_linearized"
   ]
  },
  {
   "cell_type": "code",
   "execution_count": 19,
   "metadata": {
    "collapsed": false
   },
   "outputs": [
    {
     "data": {
      "text/plain": [
       "\"<eos> (S (PP among (NP big board specialists )NP )PP , (NP the <unk> )NP (VP was (S `` (VP pull (NP your offers )NP )VP '' )S -- (S (VP meaning (SBAR that (S (NP specialists )NP (VP (ADVP soon )ADVP expected (S (VP to (VP get (NP higher prices )NP (PP for (NP their shares )NP )PP )VP )VP )S )VP )S )SBAR )VP )S )VP . )S <eos>\""
      ]
     },
     "execution_count": 19,
     "metadata": {},
     "output_type": "execute_result"
    }
   ],
   "source": [
    "lstm_decode_instances[1056].gold_linearized"
   ]
  },
  {
   "cell_type": "code",
   "execution_count": 20,
   "metadata": {
    "collapsed": true
   },
   "outputs": [],
   "source": [
    "rnng_indices_to_lstm_indices = [\n",
    "    lstm_gold_tokens.index(rnng_gt) for rnng_gt in rnng_gold_tokens\n",
    "]"
   ]
  },
  {
   "cell_type": "code",
   "execution_count": 21,
   "metadata": {
    "collapsed": false
   },
   "outputs": [
    {
     "data": {
      "text/plain": [
       "1700"
      ]
     },
     "execution_count": 21,
     "metadata": {},
     "output_type": "execute_result"
    }
   ],
   "source": [
    "len(rnng_indices_to_lstm_indices)"
   ]
  },
  {
   "cell_type": "code",
   "execution_count": 22,
   "metadata": {
    "collapsed": false
   },
   "outputs": [
    {
     "data": {
      "text/plain": [
       "1692"
      ]
     },
     "execution_count": 22,
     "metadata": {},
     "output_type": "execute_result"
    }
   ],
   "source": [
    "len(set(rnng_indices_to_lstm_indices))"
   ]
  },
  {
   "cell_type": "code",
   "execution_count": 23,
   "metadata": {
    "collapsed": false
   },
   "outputs": [
    {
     "data": {
      "text/plain": [
       "1692"
      ]
     },
     "execution_count": 23,
     "metadata": {},
     "output_type": "execute_result"
    }
   ],
   "source": [
    "len(set(tuple(s) for s in lstm_gold_tokens) - set())"
   ]
  },
  {
   "cell_type": "code",
   "execution_count": 24,
   "metadata": {
    "collapsed": true
   },
   "outputs": [],
   "source": [
    "# get max scoring from rnng samples under lstm probability"
   ]
  },
  {
   "cell_type": "code",
   "execution_count": 34,
   "metadata": {
    "collapsed": false
   },
   "outputs": [],
   "source": [
    "best_from_proposal = [\n",
    "    max((lstm_score, parse) for (_, _, parse), lstm_score in zip(ipp, scores))\n",
    "    for ipp, scores in zip(rnng_indices_discrim_scores_and_parses, rnng_lstm_scores)\n",
    "]\n",
    "# for i, (ipp, lstm_scores) in enumerate(zip(rnng_indices_discrim_scores_and_parses, rnng_lstm_scores)):\n",
    "        "
   ]
  },
  {
   "cell_type": "code",
   "execution_count": 35,
   "metadata": {
    "collapsed": false
   },
   "outputs": [
    {
     "data": {
      "text/plain": [
       "(-147.777460351,\n",
       " \"(S (NP (NP (JJ Influential) (NNS members)) (PP (IN of) (NP (DT the) (NNP House) (NNP Ways) (CC and) (NNP Means) (NNP Committee)))) (VP (VBD introduced) (NP (NP (NN legislation)) (SBAR (WHNP (WDT that)) (S (VP (MD would) (VP (VB restrict) (SBAR (WHADVP (WRB how)) (S (NP (DT the) (JJ new) (JJ savings-and-loan) (NN bailout) (NN agency)) (VP (MD can) (VP (VB raise) (NP (NN capital)) (, ,) (S (VP (VBG creating) (NP (NP (DT another) (JJ potential) (NN obstacle)) (PP (TO to) (NP (NP (NP (DT the) (NN government) (POS 's)) (NN sale)) (PP (IN of) (NP (JJ sick) (NNS thrifts)))))))))))))))))) (. .))\")"
      ]
     },
     "execution_count": 35,
     "metadata": {},
     "output_type": "execute_result"
    }
   ],
   "source": [
    "best_from_proposal[0]"
   ]
  },
  {
   "cell_type": "code",
   "execution_count": 36,
   "metadata": {
    "collapsed": false,
    "scrolled": true
   },
   "outputs": [
    {
     "data": {
      "text/plain": [
       "DecodeInstance(index=764, gold_linearized=\"<eos> (S (NP (NP influential members )NP (PP of (NP the house ways and means committee )NP )PP )NP (VP introduced (NP (NP legislation )NP (SBAR (WHNP that )WHNP (S (VP would (VP restrict (SBAR (WHADVP how )WHADVP (S (NP the new savings-and-loan bailout agency )NP (VP can (VP raise (NP capital )NP )VP )VP )S )SBAR , (S (VP creating (NP (NP another potential obstacle )NP (PP to (NP (NP (NP the government 's )NP sale )NP (PP of (NP sick thrifts )NP )PP )NP )PP )NP )VP )S )VP )VP )S )SBAR )NP )VP . )S <eos>\", pred_linearized=\"<eos> (S (S (S (S (NP (NP (ADJP (ADJP influential )ADJP (SBAR (S (NP (NP members )NP (PP of (NP the house ways and means committee )NP )PP )NP (VP introduced (NP (NP legislation )NP (SBAR (WHNP that )WHNP (S (VP would (VP restrict (SBAR (WHADVP how )WHADVP (S (NP the new savings-and-loan bailout agency )NP (VP can (VP raise (NP capital )NP )VP )VP )S )SBAR )VP )VP )S , (S (VP creating (NP (NP another potential obstacle )NP (PP to (NP (NP (NP the government 's )NP sale )NP (PP of (NP sick thrifts )NP )PP )NP )PP )NP )VP )S (VP (S (VP (VP (VP (NP (NP (NP . )NP )NP )NP )VP )VP )VP )S )VP )SBAR )NP )VP )S )SBAR )ADJP )NP )NP )S )S )S )S <eos>\", gold_ptb=\"(S1 (S (NP (NP (JJ Influential) (NNS members)) (PP (IN of) (NP (DT the) (NNP House) (NNP Ways) (CC and) (NNP Means) (NNP Committee)))) (VP (VBD introduced) (NP (NP (NN legislation)) (SBAR (WHNP (WDT that)) (S (VP (MD would) (VP (VB restrict) (SBAR (WHADVP (WRB how)) (S (NP (DT the) (JJ new) (NN savings-and-loan) (NN bailout) (NN agency)) (VP (MD can) (VP (VB raise) (NP (NN capital)))))) (, ,) (S (VP (VBG creating) (NP (NP (DT another) (JJ potential) (NN obstacle)) (PP (TO to) (NP (NP (NP (DT the) (NN government) (POS 's)) (NN sale)) (PP (IN of) (NP (JJ sick) (NNS thrifts)))))))))))))) (. .)))\", pred_ptb=\"(S (S (S (S (NP (NP (ADJP (ADJP (JJ Influential) ) (SBAR (S (NP (NP (NNS members) ) (PP (IN of) (NP (DT the) (NNP House) (NNP Ways) (CC and) (NNP Means) (NNP Committee) ) ) ) (VP (VBD introduced) (NP (NP (NN legislation) ) (SBAR (WHNP (WDT that) ) (S (VP (MD would) (VP (VB restrict) (SBAR (WHADVP (WRB how) ) (S (NP (DT the) (JJ new) (NN savings-and-loan) (NN bailout) (NN agency) ) (VP (MD can) (VP (VB raise) (NP (NN capital) ) ) ) ) ) ) ) ) (, ,) (S (VP (VBG creating) (NP (NP (DT another) (JJ potential) (NN obstacle) ) (PP (TO to) (NP (NP (NP (DT the) (NN government) (POS 's) ) (NN sale) ) (PP (IN of) (NP (JJ sick) (NNS thrifts) ) ) ) ) ) ) ) (VP (S (VP (VP (VP (NP (NP (NP (. .) ) ) ) ) ) ) ) ) ) ) ) ) ) ) ) ) ) ) ) )\", gold_score=-149.69249759, pred_score=-368.571829039, pred_rescore=-368.571829039, match=False, time=477.06)"
      ]
     },
     "execution_count": 36,
     "metadata": {},
     "output_type": "execute_result"
    }
   ],
   "source": [
    "lstm_decode_instances[rnng_indices_to_lstm_indices[0]]"
   ]
  },
  {
   "cell_type": "code",
   "execution_count": 37,
   "metadata": {
    "collapsed": true
   },
   "outputs": [],
   "source": [
    "best_proposal_fname = '/tmp/best_from_proposal.out'\n",
    "best_proposal_gold_fname = '/tmp/best_from_proposal_and_gold.out'\n",
    "best_proposal_decode_fname = '/tmp/best_from_proposal_and_decode.out'\n",
    "best_proposal_gold_decode_fname = '/tmp/best_from_proposal_gold_and_decode.out'"
   ]
  },
  {
   "cell_type": "code",
   "execution_count": 50,
   "metadata": {
    "collapsed": true
   },
   "outputs": [],
   "source": [
    "only_decode_fname = '/tmp/only_decode.out'"
   ]
  },
  {
   "cell_type": "code",
   "execution_count": 39,
   "metadata": {
    "collapsed": false
   },
   "outputs": [],
   "source": [
    "di = lstm_decode_instances[0]"
   ]
  },
  {
   "cell_type": "code",
   "execution_count": 40,
   "metadata": {
    "collapsed": false
   },
   "outputs": [
    {
     "data": {
      "text/plain": [
       "'(S1 (S (NP (NNP Chicago) (NN investor) (NNP William) (NNP Farley)) (VP (VBD agreed) (S (VP (TO to) (VP (VB sell) (NP (NP (CD three) (NNS divisions)) (PP (IN of) (NP (NNP Cluett) (NNP Peabody) (CC &) (NNP Co.)))) (PP (IN for) (NP (QP (RB about) ($ $) (CD 600) (CD million)))) (PP (TO to) (NP (NP (NNP Bidermann) (NNP S.A.)) (, ,) (NP (NP (DT a) (ADJP (RB closely) (VBN held)) (NN clothing) (NN maker)) (VP (VBN based) (PP (IN in) (NP (NNP Paris))))))))))) (. .)))'"
      ]
     },
     "execution_count": 40,
     "metadata": {},
     "output_type": "execute_result"
    }
   ],
   "source": [
    "di.gold_ptb"
   ]
  },
  {
   "cell_type": "code",
   "execution_count": 46,
   "metadata": {
    "collapsed": true
   },
   "outputs": [],
   "source": [
    "N_sents = len(rnng_indices_discrim_scores_and_parses)"
   ]
  },
  {
   "cell_type": "code",
   "execution_count": 49,
   "metadata": {
    "collapsed": true
   },
   "outputs": [],
   "source": [
    "import evaluate"
   ]
  },
  {
   "cell_type": "code",
   "execution_count": 48,
   "metadata": {
    "collapsed": true
   },
   "outputs": [],
   "source": [
    "def percent_tuple_str(n):\n",
    "    return \"%s / %s (%0.2f%%)\" % (n, N_sents, float(n) * 100 / N_sents)"
   ]
  },
  {
   "cell_type": "code",
   "execution_count": 56,
   "metadata": {
    "collapsed": false
   },
   "outputs": [
    {
     "name": "stdout",
     "output_type": "stream",
     "text": [
      "decode beats proposal:\t251 / 1700 (14.76%)\n",
      "decode beats gold:\t360 / 1700 (21.18%)\n",
      "decode beats gold and prop:\t86 / 1700 (5.06%)\n",
      "\n",
      "gold sanity check (R, P, F1, exact match):\n",
      "(100.0, 99.99, 100.0, 99.88)\n",
      "rescore proposal (R, P, F1, exact match):\n",
      "(93.49, 93.6, 93.54, 49.26)\n",
      "rescore proposal+gold (R, P, F1, exact match):\n",
      "(94.12, 94.18, 94.15, 53.27)\n",
      "rescore proposal+decode (R, P, F1, exact match):\n",
      "(93.52, 93.56, 93.54, 49.47)\n",
      "rescore proposal+decode+gold (R, P, F1, exact match):\n",
      "(94.05, 94.06, 94.06, 52.59)\n"
     ]
    }
   ],
   "source": [
    "decode_beats_proposal = 0\n",
    "decode_beats_gold = 0\n",
    "decode_beats_gold_and_proposal = 0\n",
    "# just the samples\n",
    "with open(best_proposal_fname, 'w') as f_proposal,\\\n",
    "    open(best_proposal_gold_fname, 'w') as f_proposal_gold,\\\n",
    "    open(best_proposal_decode_fname, 'w') as f_proposal_decode,\\\n",
    "    open(best_proposal_gold_decode_fname, 'w') as f_proposal_gold_decode,\\\n",
    "    open(only_decode_fname, 'w') as f_decode:\n",
    "    for i, (best_proposal_score, best_proposal) in enumerate(best_from_proposal):\n",
    "        gold_parse = rnng_gold_trees[i]\n",
    "        decode_instance = lstm_decode_instances[rnng_indices_to_lstm_indices[i]]\n",
    "        assert(get_tags_tokens_lowercase(decode_instance.gold_ptb)[1] == get_tags_tokens_lowercase(gold_parse)[1])\n",
    "#         print(i, best_proposal_score, decode_instance.pred_score, decode_instance.gold_score)\n",
    "        f_proposal.write(\"%s\\n\" % best_proposal)\n",
    "        \n",
    "        f_decode.write(\"%s\\n\" % decode_instance.gold_ptb)\n",
    "        \n",
    "        if decode_instance.pred_score > best_proposal_score + 1e-3:\n",
    "            decode_beats_proposal += 1\n",
    "            \n",
    "        if decode_instance.pred_score > decode_instance.gold_score + 1e-3:\n",
    "            decode_beats_gold += 1\n",
    "            \n",
    "        if decode_instance.pred_score > decode_instance.gold_score + 1e-3 and decode_instance.pred_score > best_proposal_score + 1e-3:\n",
    "            decode_beats_gold_and_proposal += 1\n",
    "        \n",
    "        f_proposal_decode.write(\"%s\\n\" % max([\n",
    "                    (best_proposal_score, best_proposal),\n",
    "                    (decode_instance.pred_score, decode_instance.pred_ptb)\n",
    "                ], key=lambda t: t[0])[1])\n",
    "        \n",
    "        f_proposal_gold.write(\"%s\\n\" % max([\n",
    "                    (best_proposal_score, best_proposal),\n",
    "                    (decode_instance.gold_score, decode_instance.gold_ptb)\n",
    "                ], key=lambda t: t[0])[1])\n",
    "        \n",
    "        f_proposal_gold_decode.write(\"%s\\n\" % max([\n",
    "                    (best_proposal_score, best_proposal),\n",
    "                    (decode_instance.pred_score, decode_instance.pred_ptb),\n",
    "                    (decode_instance.gold_score, decode_instance.gold_ptb)\n",
    "                ], key=lambda t: t[0])[1])\n",
    "            \n",
    "print(\"decode beats proposal:\\t\" + percent_tuple_str(decode_beats_proposal))\n",
    "print(\"decode beats gold:\\t\" + percent_tuple_str(decode_beats_gold))\n",
    "print(\"decode beats gold and prop:\\t\" + percent_tuple_str(decode_beats_gold_and_proposal))\n",
    "print\n",
    "print(\"gold sanity check (R, P, F1, exact match):\")\n",
    "print(evaluate.eval_b(rnng_gold_file, only_decode_fname))\n",
    "print(\"rescore proposal (R, P, F1, exact match):\")\n",
    "print(evaluate.eval_b(rnng_gold_file, best_proposal_fname))\n",
    "print(\"rescore proposal+gold (R, P, F1, exact match):\")\n",
    "print(evaluate.eval_b(rnng_gold_file, best_proposal_gold_fname))\n",
    "print(\"rescore proposal+decode (R, P, F1, exact match):\")\n",
    "print(evaluate.eval_b(rnng_gold_file, best_proposal_decode_fname))\n",
    "print(\"rescore proposal+decode+gold (R, P, F1, exact match):\")\n",
    "print(evaluate.eval_b(rnng_gold_file, best_proposal_gold_decode_fname))"
   ]
  },
  {
   "cell_type": "code",
   "execution_count": null,
   "metadata": {
    "collapsed": true
   },
   "outputs": [],
   "source": []
  }
 ],
 "metadata": {
  "kernelspec": {
   "display_name": "Python 2",
   "language": "python",
   "name": "python2"
  },
  "language_info": {
   "codemirror_mode": {
    "name": "ipython",
    "version": 2
   },
   "file_extension": ".py",
   "mimetype": "text/x-python",
   "name": "python",
   "nbconvert_exporter": "python",
   "pygments_lexer": "ipython2",
   "version": "2.7.12"
  }
 },
 "nbformat": 4,
 "nbformat_minor": 0
}
