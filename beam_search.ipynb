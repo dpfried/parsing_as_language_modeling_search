{
 "cells": [
  {
   "cell_type": "code",
   "execution_count": 1,
   "metadata": {
    "collapsed": false
   },
   "outputs": [],
   "source": [
    "import numpy\n",
    "import reader\n",
    "import tensorflow as tf\n",
    "import pickle\n",
    "from utils import PTBModel, MediumConfig"
   ]
  },
  {
   "cell_type": "code",
   "execution_count": 2,
   "metadata": {
    "collapsed": false
   },
   "outputs": [],
   "source": [
    "import utils\n",
    "import rerank"
   ]
  },
  {
   "cell_type": "code",
   "execution_count": 3,
   "metadata": {
    "collapsed": true
   },
   "outputs": [],
   "source": [
    "data_path=\"wsj\"\n",
    "model_path=\"models/wsj/model\"\n",
    "train_path=\"wsj/train_02-21.txt.traversed.gz\"\n",
    "valid_path=\"wsj/dev_22.txt.traversed.gz\"\n",
    "valid_nbest_path=\"wsj/dev_22.txt.nbest.gz\"\n",
    "valid_nbest_traversed_path=\"wsj/dev_22.txt.nbest.traversed.gz\""
   ]
  },
  {
   "cell_type": "code",
   "execution_count": 4,
   "metadata": {
    "collapsed": false
   },
   "outputs": [],
   "source": [
    "config = pickle.load(open(model_path + '.config', 'rb'))\n",
    "config.batch_size = 10\n",
    "# t = reader.ptb_raw_data(data_path,\n",
    "#                       train_path=train_path,\n",
    "#                       valid_path=valid_path,\n",
    "#                       valid_nbest_path=valid_nbest_traversed_path)\n",
    "# train_data, valid_data, valid_nbest_data, vocab = t"
   ]
  },
  {
   "cell_type": "code",
   "execution_count": 5,
   "metadata": {
    "collapsed": false
   },
   "outputs": [],
   "source": [
    "train_data, valid_data, _, word_to_id = reader.ptb_raw_data(\n",
    "data_path, train_path=train_path, valid_path=valid_path, valid_nbest_path=valid_nbest_traversed_path)"
   ]
  },
  {
   "cell_type": "code",
   "execution_count": 6,
   "metadata": {
    "collapsed": false
   },
   "outputs": [
    {
     "data": {
      "text/plain": [
       "[4, 0, 600, 659, 933, 21, 1, 2, 405, 4]"
      ]
     },
     "execution_count": 6,
     "metadata": {},
     "output_type": "execute_result"
    }
   ],
   "source": [
    "valid_data[:10]"
   ]
  },
  {
   "cell_type": "code",
   "execution_count": 7,
   "metadata": {
    "collapsed": false
   },
   "outputs": [
    {
     "name": "stdout",
     "output_type": "stream",
     "text": [
      "Automatic pdb calling has been turned ON\n"
     ]
    }
   ],
   "source": [
    "pdb on"
   ]
  },
  {
   "cell_type": "code",
   "execution_count": 8,
   "metadata": {
    "collapsed": false
   },
   "outputs": [],
   "source": [
    "valid_nbest_data, vocab = reader.ptb_raw_data2(data_path,\n",
    "                                             valid_nbest_path,\n",
    "                                             train_path=train_path,\n",
    "                                             remove_duplicates=False,\n",
    "                                             sent_limit=1)"
   ]
  },
  {
   "cell_type": "code",
   "execution_count": 9,
   "metadata": {
    "collapsed": false
   },
   "outputs": [],
   "source": [
    "id_to_word = {v:k for k,v in word_to_id.items()}"
   ]
  },
  {
   "cell_type": "code",
   "execution_count": 10,
   "metadata": {
    "collapsed": true
   },
   "outputs": [],
   "source": [
    "all_data = list(utils.ptb_iterator(valid_data, 5, 10))"
   ]
  },
  {
   "cell_type": "code",
   "execution_count": 11,
   "metadata": {
    "collapsed": false
   },
   "outputs": [
    {
     "data": {
      "text/plain": [
       "(array([[ 625,    1,    8,    0, 6296,    1,    1,    7,    1,    1],\n",
       "        [   1,    7,    1,    7,    1,    7,    3,    5,    8,    0],\n",
       "        [  15,    0,  930,    1,    7,    1,    7,    3,   11,    5],\n",
       "        [   0,   16,  215,    1,    6,   14,    0,  241, 1433,  110],\n",
       "        [  21,    1,    2,  259,    0, 4049,  156,    1,    6,   15]], dtype=int32),\n",
       " array([[   1,    8,    0, 6296,    1,    1,    7,    1,    1,    7],\n",
       "        [   7,    1,    7,    1,    7,    3,    5,    8,    0,    0],\n",
       "        [   0,  930,    1,    7,    1,    7,    3,   11,    5,   10],\n",
       "        [  16,  215,    1,    6,   14,    0,  241, 1433,  110,    1],\n",
       "        [   1,    2,  259,    0, 4049,  156,    1,    6,   15,    0]], dtype=int32))"
      ]
     },
     "execution_count": 11,
     "metadata": {},
     "output_type": "execute_result"
    }
   ],
   "source": [
    "all_data[-1]"
   ]
  },
  {
   "cell_type": "code",
   "execution_count": 12,
   "metadata": {
    "collapsed": false
   },
   "outputs": [
    {
     "name": "stdout",
     "output_type": "stream",
     "text": [
      "washington )NP , (NP n.y )NP )NP )PP )NP )NP\n",
      ")NP )PP )NP )PP )NP )PP )VP )S , (NP\n",
      "to (NP process )NP )PP )NP )PP )VP . )S\n",
      "(NP a unit )NP (PP of (NP general motors corp.\n",
      "<cunk> )NP (VP fell (NP 37.5 cents )NP (PP to\n",
      ")NP , (NP n.y )NP )NP )PP )NP )NP )PP\n",
      ")PP )NP )PP )NP )PP )VP )S , (NP (NP\n",
      "(NP process )NP )PP )NP )PP )VP . )S <eos>\n",
      "a unit )NP (PP of (NP general motors corp. )NP\n",
      ")NP (VP fell (NP 37.5 cents )NP (PP to (NP\n"
     ]
    }
   ],
   "source": [
    "for a in all_data[-1]:\n",
    "    for row in a:\n",
    "        print(' '.join([id_to_word[id] for id in row]))"
   ]
  },
  {
   "cell_type": "code",
   "execution_count": 13,
   "metadata": {
    "collapsed": false
   },
   "outputs": [
    {
     "data": {
      "text/plain": [
       "<module 'utils' from 'utils.pyc'>"
      ]
     },
     "execution_count": 13,
     "metadata": {},
     "output_type": "execute_result"
    }
   ],
   "source": [
    "import utils\n",
    "reload(utils)"
   ]
  },
  {
   "cell_type": "code",
   "execution_count": 14,
   "metadata": {
    "collapsed": true
   },
   "outputs": [],
   "source": [
    "it = utils.ptb_iterator2(valid_nbest_data['data'], 5, 10, valid_nbest_data['idx2tree'], word_to_id[\"<eos>\"])"
   ]
  },
  {
   "cell_type": "code",
   "execution_count": 15,
   "metadata": {
    "collapsed": false
   },
   "outputs": [
    {
     "name": "stdout",
     "output_type": "stream",
     "text": [
      "<eos> (S (NP chicago investor william <cunk> )NP (VP agreed\n",
      "(S (NP chicago investor william <cunk> )NP (VP agreed (S\n",
      "(S )S <eos> (S (NP chicago investor william <cunk> )NP\n",
      "(S )S )VP . )S <eos> (S (NP chicago investor\n",
      "(S (S (NP chicago investor william <cunk> )NP (VP agreed\n",
      "[(0, 0) (0, 0) (0, 0) (0, 0) (0, 0) (0, 0) (0, 0) (0, 0) (0, 0) (0, 0)]\n",
      "[(0, 10) (0, 10) (0, 10) (0, 10) (0, 10) (0, 10) (0, 10) (0, 10) (0, 10)\n",
      " (0, 10)]\n",
      "[(0, 19) (0, 19) (0, 20) (0, 20) (0, 20) (0, 20) (0, 20) (0, 20) (0, 20)\n",
      " (0, 20)]\n",
      "[(0, 29) (0, 29) (0, 29) (0, 29) (0, 29) (0, 30) (0, 30) (0, 30) (0, 30)\n",
      " (0, 30)]\n",
      "[(0, 40) (0, 40) (0, 40) (0, 40) (0, 40) (0, 40) (0, 40) (0, 40) (0, 40)\n",
      " (0, 40)]\n"
     ]
    }
   ],
   "source": [
    "x, y, z = next(it)\n",
    "for row in x:\n",
    "    print(' '.join([id_to_word[i] for i in row]))\n",
    "for row in z:\n",
    "    print row"
   ]
  },
  {
   "cell_type": "code",
   "execution_count": 16,
   "metadata": {
    "collapsed": false
   },
   "outputs": [
    {
     "name": "stdout",
     "output_type": "stream",
     "text": [
      "(S (VP to (VP sell (NP (NP three divisions )NP\n",
      "(VP to (VP sell (NP (NP three divisions )NP (PP\n",
      "(VP agreed (S (VP to (VP sell (NP (NP three\n",
      "william <cunk> )NP (VP agreed (S (VP to (VP sell\n",
      "(S (VP to (VP sell (NP three divisions )NP (PP\n"
     ]
    }
   ],
   "source": [
    "x, y, z =next(it)\n",
    "for row in x:\n",
    "    print(' '.join([id_to_word[i] for i in row]))"
   ]
  },
  {
   "cell_type": "code",
   "execution_count": 17,
   "metadata": {
    "collapsed": false
   },
   "outputs": [
    {
     "data": {
      "text/plain": [
       "['(S',\n",
       " '(NP',\n",
       " 'chicago',\n",
       " 'investor',\n",
       " 'william',\n",
       " '<cunk>',\n",
       " ')NP',\n",
       " '(VP',\n",
       " 'agreed',\n",
       " '(S',\n",
       " '(VP',\n",
       " 'to',\n",
       " '(VP',\n",
       " 'sell',\n",
       " '(NP',\n",
       " '(NP',\n",
       " 'three',\n",
       " 'divisions',\n",
       " ')NP',\n",
       " '(PP',\n",
       " 'of',\n",
       " '(NP',\n",
       " '<cunk>',\n",
       " 'peabody',\n",
       " '&',\n",
       " 'co.',\n",
       " ')NP',\n",
       " ')PP',\n",
       " ')NP',\n",
       " '(PP',\n",
       " 'for',\n",
       " '(NP',\n",
       " '(QP',\n",
       " 'about',\n",
       " '$',\n",
       " '600',\n",
       " 'million',\n",
       " ')QP',\n",
       " ')NP',\n",
       " ')PP',\n",
       " '(PP',\n",
       " 'to',\n",
       " '(NP',\n",
       " '(NP',\n",
       " '<cunk>',\n",
       " 's.a.',\n",
       " ')NP',\n",
       " ',',\n",
       " '(NP',\n",
       " '(NP',\n",
       " 'a',\n",
       " '(ADJP',\n",
       " 'closely',\n",
       " 'held',\n",
       " ')ADJP',\n",
       " 'clothing',\n",
       " 'maker',\n",
       " ')NP',\n",
       " '(VP',\n",
       " 'based',\n",
       " '(PP',\n",
       " 'in',\n",
       " '(NP',\n",
       " 'paris',\n",
       " ')NP',\n",
       " ')PP',\n",
       " ')VP',\n",
       " ')NP',\n",
       " ')NP',\n",
       " ')PP',\n",
       " ')VP',\n",
       " ')VP',\n",
       " ')S',\n",
       " ')VP',\n",
       " '.',\n",
       " ')S',\n",
       " '<eos>',\n",
       " '(S',\n",
       " '(PP',\n",
       " 'shortly',\n",
       " 'after',\n",
       " '(S',\n",
       " '(VP',\n",
       " 'completing',\n",
       " '(NP',\n",
       " '(NP',\n",
       " 'the',\n",
       " '(ADJP',\n",
       " '(QP',\n",
       " '$',\n",
       " '<unkn>',\n",
       " 'billion',\n",
       " ')QP',\n",
       " ')ADJP',\n",
       " 'acquisition',\n",
       " ')NP',\n",
       " '(PP',\n",
       " 'of',\n",
       " '(NP',\n",
       " 'west']"
      ]
     },
     "execution_count": 17,
     "metadata": {},
     "output_type": "execute_result"
    }
   ],
   "source": [
    "[id_to_word[i] for i in valid_data][:100]"
   ]
  },
  {
   "cell_type": "code",
   "execution_count": 18,
   "metadata": {
    "collapsed": false
   },
   "outputs": [
    {
     "data": {
      "text/plain": [
       "<module 'reader' from 'reader.pyc'>"
      ]
     },
     "execution_count": 18,
     "metadata": {},
     "output_type": "execute_result"
    }
   ],
   "source": [
    "reload(reader)"
   ]
  },
  {
   "cell_type": "code",
   "execution_count": 19,
   "metadata": {
    "collapsed": false
   },
   "outputs": [],
   "source": [
    "valid_nbest_trees = list(reader.ptb_iterator2_unlimited(valid_nbest_data['data'], valid_nbest_data['idx2tree'], word_to_id['<eos>']))"
   ]
  },
  {
   "cell_type": "code",
   "execution_count": 20,
   "metadata": {
    "collapsed": false
   },
   "outputs": [
    {
     "data": {
      "text/plain": [
       "50"
      ]
     },
     "execution_count": 20,
     "metadata": {},
     "output_type": "execute_result"
    }
   ],
   "source": [
    "len(valid_nbest_trees)"
   ]
  },
  {
   "cell_type": "code",
   "execution_count": 21,
   "metadata": {
    "collapsed": false,
    "scrolled": true
   },
   "outputs": [
    {
     "name": "stdout",
     "output_type": "stream",
     "text": [
      "0\n",
      "<eos> (S (NP chicago investor william <cunk> )NP (VP agreed (S (VP to (VP sell (NP (NP three divisions )NP (PP of (NP (NP <cunk> peabody & co. )NP (PP for (NP (QP about $ 600 million )QP )NP )PP )NP )PP (PP to (NP (NP <cunk> s.a. )NP , (NP (NP a (ADJP closely held )ADJP clothing maker )NP (VP based (PP in (NP paris )NP )PP )VP )NP )NP )PP )NP )VP )VP )S )VP . )S <eos>\n",
      "\n",
      "1\n",
      "<eos> (S (NP chicago investor william <cunk> )NP (VP agreed (S (VP to (VP sell (NP (NP three divisions )NP (PP of (NP <cunk> peabody & co. )NP )PP )NP (PP for (NP (QP about $ 600 million )QP )NP )PP (PP to (NP (NP <cunk> s.a. )NP , (NP (NP a (ADJP closely held clothing )ADJP maker )NP (VP based (PP in (NP paris )NP )PP )VP )NP )NP )PP )VP )VP )S )VP . )S <eos>\n",
      "\n",
      "2\n",
      "<eos> (S (NP chicago investor william <cunk> )NP (VP agreed (S (VP to (VP sell (NP (NP three divisions )NP (PP of (NP <cunk> peabody & co. )NP )PP )NP (PP for (NP (QP about $ 600 million )QP )NP )PP (PP to (NP (NP <cunk> s.a. )NP , (NP (NP a (ADJP closely held )ADJP clothing maker )NP (VP based (PP in (NP paris )NP )PP )VP )NP )NP )PP )VP )VP )S )VP . )S <eos>\n",
      "\n",
      "3\n",
      "<eos> (S (NP chicago investor william <cunk> )NP (VP agreed (S (VP to (VP sell (NP (NP three divisions )NP (PP of (NP <cunk> peabody & co. )NP )PP )NP (PP (PP for (NP (QP about $ 600 million )QP )NP )PP (PP to (NP (NP <cunk> s.a. )NP , (NP (NP a (ADJP closely held )ADJP clothing maker )NP (VP based (PP in (NP paris )NP )PP )VP )NP )NP )PP )PP )VP )VP )S )VP . )S <eos>\n",
      "\n",
      "4\n",
      "<eos> (S (NP chicago investor william <cunk> )NP (VP agreed (S (VP to (VP sell (NP (NP three divisions )NP (PP of (NP (NP <cunk> peabody & co. )NP (PP for (NP (QP about $ 600 million )QP )NP )PP )NP )PP )NP (PP to (NP (NP <cunk> s.a. )NP , (NP (NP a (ADJP closely held )ADJP clothing maker )NP (VP based (PP in (NP paris )NP )PP )VP )NP )NP )PP )VP )VP )S )VP . )S <eos>\n",
      "\n",
      "5\n",
      "<eos> (S (NP chicago investor william <cunk> )NP (VP agreed (S (VP to (VP sell (NP (NP three divisions )NP (PP of (NP <cunk> peabody & co. )NP )PP (PP for (NP (QP about $ 600 million )QP )NP )PP )NP (PP to (NP (NP <cunk> s.a. )NP , (NP (NP a (ADJP closely held )ADJP clothing maker )NP (VP based (PP in (NP paris )NP )PP )VP )NP )NP )PP )VP )VP )S )VP . )S <eos>\n",
      "\n",
      "6\n",
      "<eos> (S (NP chicago investor william <cunk> )NP (VP agreed (S (VP to (VP sell (NP (NP (NP three divisions )NP (PP of (NP <cunk> peabody & co. )NP )PP )NP (PP for (NP (QP about $ 600 million )QP )NP )PP )NP (PP to (NP (NP <cunk> s.a. )NP , (NP (NP a (ADJP closely held )ADJP clothing maker )NP (VP based (PP in (NP paris )NP )PP )VP )NP )NP )PP )VP )VP )S )VP . )S <eos>\n",
      "\n",
      "7\n",
      "<eos> (S (NP chicago investor william <cunk> )NP (VP agreed (S (VP to (VP sell (NP (NP three divisions )NP (PP of (NP <cunk> peabody & co. )NP )PP )NP (PP for (NP (NP (QP about $ 600 million )QP )NP (PP to (NP (NP <cunk> s.a. )NP , (NP (NP a (ADJP closely held )ADJP clothing maker )NP (VP based (PP in (NP paris )NP )PP )VP )NP )NP )PP )NP )PP )VP )VP )S )VP . )S <eos>\n",
      "\n",
      "8\n",
      "<eos> (S (NP chicago investor william <cunk> )NP (VP agreed (S (VP to (VP sell (NP (NP three divisions )NP (PP of (NP <cunk> peabody & co. )NP )PP )NP (PP for (NP (QP about $ 600 million )QP )NP )PP (PP to (NP (NP (NP <cunk> s.a. )NP , (NP a (ADJP closely held )ADJP clothing maker )NP )NP (VP based (PP in (NP paris )NP )PP )VP )NP )PP )VP )VP )S )VP . )S <eos>\n",
      "\n",
      "9\n",
      "<eos> (S (NP chicago investor william <cunk> )NP (VP agreed (S (VP to (VP sell (NP (NP three divisions )NP (PP of (NP <cunk> peabody & co. )NP )PP )NP (PP for (NP (QP about $ 600 million )QP )NP )PP (PP to (NP (NP <cunk> s.a. )NP , (NP a (ADJP closely held )ADJP clothing maker )NP (VP based (PP in (NP paris )NP )PP )VP )NP )PP )VP )VP )S )VP . )S <eos>\n",
      "\n",
      "10\n",
      "<eos> (S (NP chicago investor william <cunk> )NP (VP agreed (S (VP to (VP sell (NP (NP three divisions )NP (PP of (NP <cunk> peabody & co. )NP )PP (PP for (NP (QP about $ 600 million )QP )NP )PP (PP to (NP (NP <cunk> s.a. )NP , (NP (NP a (ADJP closely held )ADJP clothing maker )NP (VP based (PP in (NP paris )NP )PP )VP )NP )NP )PP )NP )VP )VP )S )VP . )S <eos>\n",
      "\n",
      "11\n",
      "<eos> (S (NP chicago investor william <cunk> )NP (VP agreed (S (VP to (VP sell (NP three divisions )NP (PP of (NP <cunk> peabody & co. )NP )PP (PP for (NP (QP about $ 600 million )QP )NP )PP (PP to (NP (NP <cunk> s.a. )NP , (NP (NP a (ADJP closely held )ADJP clothing maker )NP (VP based (PP in (NP paris )NP )PP )VP )NP )NP )PP )VP )VP )S )VP . )S <eos>\n",
      "\n",
      "12\n",
      "<eos> (S (NP chicago investor william <cunk> )NP (VP agreed (S (VP to (VP sell (NP (NP three divisions )NP (PP of (NP <cunk> peabody & co. )NP )PP )NP (PP for about (NP (QP $ 600 million )QP )NP )PP (PP to (NP (NP <cunk> s.a. )NP , (NP (NP a (ADJP closely held )ADJP clothing maker )NP (VP based (PP in (NP paris )NP )PP )VP )NP )NP )PP )VP )VP )S )VP . )S <eos>\n",
      "\n",
      "13\n",
      "<eos> (S (NP chicago investor william <cunk> )NP (VP agreed (S (VP to (VP sell (NP (NP three divisions )NP (PP of (NP <cunk> peabody & co. )NP )PP )NP (PP for (NP (QP about $ 600 million )QP )NP )PP (PP to (NP (NP <cunk> s.a. )NP , (NP (NP a (ADJP closely held )ADJP clothing maker )NP (PP based (PP in (NP paris )NP )PP )PP )NP )NP )PP )VP )VP )S )VP . )S <eos>\n",
      "\n",
      "14\n",
      "<eos> (S (NP chicago investor william <cunk> )NP (VP agreed (S (VP to (VP sell (NP (NP three divisions )NP (PP of (NP (NP <cunk> peabody & co. )NP (PP for (NP (QP about $ 600 million )QP )NP )PP )NP )PP )NP (PP to (NP (NP <cunk> s.a. )NP , (NP (NP a (ADJP closely held clothing )ADJP maker )NP (VP based (PP in (NP paris )NP )PP )VP )NP )NP )PP )VP )VP )S )VP . )S <eos>\n",
      "\n",
      "15\n",
      "<eos> (S (NP chicago investor william <cunk> )NP (VP agreed (S (VP to (VP sell (NP (NP three divisions )NP (PP of (NP (NP <cunk> peabody & co. )NP (PP for (NP (QP about $ 600 million )QP )NP )PP )NP )PP )NP )VP )VP )S (PP to (NP (NP <cunk> s.a. )NP , (NP (NP a (ADJP closely held )ADJP clothing maker )NP (VP based (PP in (NP paris )NP )PP )VP )NP )NP )PP )VP . )S <eos>\n",
      "\n",
      "16\n",
      "<eos> (S (NP chicago investor william <cunk> )NP (VP agreed (S (VP to (VP sell (NP (NP three divisions )NP (PP of (NP <cunk> peabody & co. )NP )PP )NP (PP for (NP (QP about $ 600 million )QP )NP )PP )VP )VP )S (PP to (NP (NP <cunk> s.a. )NP , (NP (NP a (ADJP closely held )ADJP clothing maker )NP (VP based (PP in (NP paris )NP )PP )VP )NP )NP )PP )VP . )S <eos>\n",
      "\n",
      "17\n",
      "<eos> (S (NP chicago investor william <cunk> )NP (VP agreed (S (VP to (VP sell (NP (NP three divisions )NP (PP of (NP <cunk> peabody & co. )NP )PP )NP (PP for (NP about (QP $ 600 million )QP )NP )PP (PP to (NP (NP <cunk> s.a. )NP , (NP (NP a (ADJP closely held )ADJP clothing maker )NP (VP based (PP in (NP paris )NP )PP )VP )NP )NP )PP )VP )VP )S )VP . )S <eos>\n",
      "\n"
     ]
    }
   ],
   "source": [
    "for i, x in enumerate(set(tuple(s) for s in valid_nbest_trees)):\n",
    "    print(i)\n",
    "    print(' '.join([id_to_word[id_] for id_ in x]))\n",
    "    print"
   ]
  },
  {
   "cell_type": "code",
   "execution_count": 22,
   "metadata": {
    "collapsed": false
   },
   "outputs": [
    {
     "data": {
      "text/plain": [
       "4"
      ]
     },
     "execution_count": 22,
     "metadata": {},
     "output_type": "execute_result"
    }
   ],
   "source": [
    "valid_nbest_data['data'][0]"
   ]
  },
  {
   "cell_type": "code",
   "execution_count": 23,
   "metadata": {
    "collapsed": false
   },
   "outputs": [
    {
     "data": {
      "text/plain": [
       "3884"
      ]
     },
     "execution_count": 23,
     "metadata": {},
     "output_type": "execute_result"
    }
   ],
   "source": [
    "len(valid_nbest_data['idx2tree'])"
   ]
  },
  {
   "cell_type": "code",
   "execution_count": 24,
   "metadata": {
    "collapsed": false
   },
   "outputs": [
    {
     "data": {
      "text/plain": [
       "3884"
      ]
     },
     "execution_count": 24,
     "metadata": {},
     "output_type": "execute_result"
    }
   ],
   "source": [
    "len(valid_nbest_data['data'])"
   ]
  },
  {
   "cell_type": "code",
   "execution_count": 25,
   "metadata": {
    "collapsed": false
   },
   "outputs": [
    {
     "data": {
      "text/plain": [
       "(0, 49)"
      ]
     },
     "execution_count": 25,
     "metadata": {},
     "output_type": "execute_result"
    }
   ],
   "source": [
    "sorted(valid_nbest_data['idx2tree'])[-1]"
   ]
  },
  {
   "cell_type": "code",
   "execution_count": 26,
   "metadata": {
    "collapsed": false
   },
   "outputs": [
    {
     "data": {
      "text/plain": [
       "<module 'score' from 'score.pyc'>"
      ]
     },
     "execution_count": 26,
     "metadata": {},
     "output_type": "execute_result"
    }
   ],
   "source": [
    "import score\n",
    "reload(score)"
   ]
  },
  {
   "cell_type": "code",
   "execution_count": 27,
   "metadata": {
    "collapsed": false,
    "scrolled": true
   },
   "outputs": [
    {
     "name": "stderr",
     "output_type": "stream",
     "text": [
      "epoch size: 8\n",
      "7"
     ]
    },
    {
     "name": "stdout",
     "output_type": "stream",
     "text": [
      "(S1 (S (NP (NNP Chicago) (NN investor) (NNP William) (NNP Farley)) (VP (VBN agreed) (S (VP (TO to) (VP (VB sell) (NP (NP (CD three) (NNS divisions)) (PP (IN of) (NP (NNP Cluett) (NNP Peabody) (CC &) (NNP Co.)))) (PP (IN for) (NP (QP (RB about) ($ $) (CD 600) (CD million)))) (PP (TO to) (NP (NP (NNP Bidermann) (NNP S.A.)) (, ,) (NP (NP (DT a) (ADJP (RB closely) (JJ held)) (NN clothing) (NN maker)) (VP (VBN based) (PP (IN in) (NP (NNP Paris))))))))))) (. .)))\n"
     ]
    },
    {
     "name": "stderr",
     "output_type": "stream",
     "text": [
      "(0, 0): 117.214600717\n",
      "(0, 1): 117.382424584\n",
      "(0, 2): 117.419184275\n",
      "(0, 3): 117.418259412\n",
      "(0, 4): 125.558619186\n",
      "(0, 5): 160.104625105\n",
      "(0, 6): 118.555071099\n",
      "(0, 7): 118.961706156\n",
      "(0, 8): 123.438197707\n",
      "(0, 9): 125.532527459\n",
      "(0, 10): 153.921080661\n",
      "(0, 11): 125.149534168\n",
      "(0, 12): 118.96620253\n",
      "(0, 13): 118.960153855\n",
      "(0, 14): 122.463312285\n",
      "(0, 15): 156.24945575\n",
      "(0, 16): 133.756045509\n",
      "(0, 17): 122.465410249\n",
      "(0, 18): 123.559207786\n",
      "(0, 19): 134.206700068\n",
      "(0, 20): 179.118083017\n",
      "(0, 21): 121.849522613\n",
      "(0, 22): 123.282228319\n",
      "(0, 23): 125.741853966\n",
      "(0, 24): 123.314314396\n",
      "(0, 25): 182.567488155\n",
      "(0, 26): 121.574805609\n",
      "(0, 27): 131.708830984\n",
      "(0, 28): 122.464884822\n",
      "(0, 29): 159.221489711\n",
      "(0, 30): 152.248339679\n",
      "(0, 31): 116.611564418\n",
      "(0, 32): 138.710792229\n",
      "(0, 33): 123.313849677\n",
      "(0, 34): 122.106727773\n",
      "(0, 35): 152.5599211\n",
      "(0, 36): 123.534716479\n",
      "(0, 37): 125.737482249\n",
      "(0, 38): 134.388347018\n",
      "(0, 39): 123.296237885\n",
      "(0, 40): 158.987859022\n",
      "(0, 41): 141.707718202\n",
      "(0, 42): 123.977424661\n",
      "(0, 43): 127.640790215\n",
      "(0, 44): 134.391543814\n",
      "(0, 45): 176.334025032\n",
      "(0, 46): 127.270819624\n",
      "(0, 47): 131.715945672\n",
      "(0, 48): 119.476827292\n",
      "(0, 49): 132.541761663\n"
     ]
    }
   ],
   "source": [
    "with tf.Graph().as_default(), tf.Session() as session:\n",
    "    initializer = tf.random_uniform_initializer(-config.init_scale,\n",
    "                                                config.init_scale)\n",
    "    with tf.variable_scope(\"model\", reuse=None, initializer=initializer):\n",
    "        m = PTBModel(is_training=False, config=config)\n",
    "    \n",
    "    saver = tf.train.Saver()\n",
    "    saver.restore(session, model_path)\n",
    "    \n",
    "    score.score_all_trees(session, m, valid_nbest_data, tf.no_op(), vocab['<eos>'])\n"
   ]
  },
  {
   "cell_type": "code",
   "execution_count": 28,
   "metadata": {
    "collapsed": true
   },
   "outputs": [],
   "source": [
    "import copy"
   ]
  },
  {
   "cell_type": "code",
   "execution_count": 29,
   "metadata": {
    "collapsed": false,
    "scrolled": true
   },
   "outputs": [
    {
     "name": "stdout",
     "output_type": "stream",
     "text": [
      "0\n",
      "<eos> (S (NP chicago investor william <cunk> )NP (VP agreed (S (VP to (VP sell (NP (NP three divisions )NP (PP of (NP <cunk> peabody & co. )NP )PP )NP (PP for (NP (QP about $ 600 million )QP )NP )PP (PP to (NP (NP <cunk> s.a. )NP , (NP (NP a (ADJP closely held )ADJP clothing maker )NP (VP based (PP in (NP paris )NP )PP )VP )NP )NP )PP )VP )VP )S )VP . )S <eos>\n",
      "10 4 0 600 659 933 21 1 2 405 4 2 15 2 237 0 0 181 2887 1 6 14 0 21 2708 131 140 1 7 1 6 29 0 26 76 34 3147 49 27 1 7 6 15 0 0 21 2239 1 8 0 0 16 23 1315 503 24 4396 424 1 2 371 6 19 0 1708 1 7 3 1 1 7 3 3 5 3 11 5 10\n",
      "[0.14039509, 0.37050453, 8.7272491, 7.4975147, 4.7461686, 1.5085186, 0.029631454, 0.072125293, 4.7947783, 0.20175381, 0.0078809038, 0.011764786, 0.0027683766, 2.8256431, 0.097604081, 0.43660924, 5.3239441, 5.7857985, 0.011781988, 0.99545848, 3.6074476, 0.012716044, 3.5414619, 10.001749, 5.1410384, 0.58174956, 0.048040409, 1.1920928e-07, 0.44545165, 0.26398975, 1.0866207, 0.032341387, 1.9302927, 1.7214978, 0.14138071, 5.1016698, 0.055371586, 0.0014659145, 0.00010918975, 7.7363838e-05, 1.3645833, 3.5706358, 0.0080351206, 0.8421092, 2.5574591, 4.3584027, 0.098203123, 0.08864145, 0.1146792, 0.40159604, 0.58458161, 3.5341103, 0.60119003, 0.0068182433, 5.1139479e-05, 10.775528, 3.853267, 0.0040032496, 0.93329203, 0.61584514, 0.006534637, 0.00078682933, 0.0026110862, 5.515213, 0.0076064714, 0.0, 0.00037281716, 0.012538179, 0.016624259, 4.0053521e-05, 0.0034050127, 4.887569e-06, 6.4372807e-06, 0.0046727983, 0.028708324, 6.079489e-05, 0.0]\n",
      "117.214582124\n",
      "1\n",
      "<eos> (S (NP chicago investor william <cunk> )NP (VP agreed (S (VP to (VP sell (NP (NP three divisions )NP (PP of (NP <cunk> peabody & co. )NP )PP )NP (PP for (NP (QP about $ 600 million )QP )NP )PP (PP to (NP (NP <cunk> s.a. )NP , (NP (NP a (ADJP closely held )ADJP clothing maker )NP (VP based (PP in (NP paris )NP )PP )VP )NP )NP )PP )VP )VP )S )VP . )S <eos>\n",
      "10 4 0 600 659 933 21 1 2 405 4 2 15 2 237 0 0 181 2887 1 6 14 0 21 2708 131 140 1 7 1 6 29 0 26 76 34 3147 49 27 1 7 6 15 0 0 21 2239 1 8 0 0 16 23 1315 503 24 4396 424 1 2 371 6 19 0 1708 1 7 3 1 1 7 3 3 5 3 11 5 10\n",
      "[0.14039509, 0.37050453, 8.7272491, 7.4975147, 4.7461686, 1.5085186, 0.029631454, 0.072125293, 4.7947783, 0.20175381, 0.0078809038, 0.011764786, 0.0027683766, 2.8256431, 0.097604081, 0.43660924, 5.3239441, 5.7857985, 0.011781988, 0.99545848, 3.6074476, 0.012716044, 3.5414619, 10.001749, 5.1410384, 0.58174956, 0.048040409, 1.1920928e-07, 0.44545165, 0.26398975, 1.0866207, 0.032341387, 1.9302927, 1.7214978, 0.14138071, 5.1016698, 0.055371586, 0.0014659145, 0.00010918975, 7.7363838e-05, 1.3645833, 3.5706358, 0.0080351206, 0.8421092, 2.5574591, 4.3584027, 0.098203123, 0.08864145, 0.1146792, 0.40159604, 0.58458161, 3.5341103, 0.60119003, 0.0068182433, 5.1139479e-05, 10.775528, 3.853267, 0.0040032496, 0.93329203, 0.61584514, 0.006534637, 0.00078682933, 0.0026110862, 5.515213, 0.0076064714, 0.0, 0.00037281716, 0.012538179, 0.016624259, 4.0053521e-05, 0.0034050127, 4.887569e-06, 6.4372807e-06, 0.0046727983, 0.028708324, 6.079489e-05, 0.0]\n",
      "117.214582124\n",
      "2\n",
      "<eos> (S (NP chicago investor william <cunk> )NP (VP agreed (S (VP to (VP sell (NP (NP three divisions )NP (PP of (NP <cunk> peabody & co. )NP )PP )NP (PP for (NP (QP about $ 600 million )QP )NP )PP (PP to (NP (NP <cunk> s.a. )NP , (NP (NP a (ADJP closely held )ADJP clothing maker )NP (VP based (PP in (NP paris )NP )PP )VP )NP )NP )PP )VP )VP )S )VP . )S <eos>\n",
      "10 4 0 600 659 933 21 1 2 405 4 2 15 2 237 0 0 181 2887 1 6 14 0 21 2708 131 140 1 7 1 6 29 0 26 76 34 3147 49 27 1 7 6 15 0 0 21 2239 1 8 0 0 16 23 1315 503 24 4396 424 1 2 371 6 19 0 1708 1 7 3 1 1 7 3 3 5 3 11 5 10\n",
      "[0.14039509, 0.37050453, 8.7272491, 7.4975147, 4.7461686, 1.5085186, 0.029631454, 0.072125293, 4.7947783, 0.20175381, 0.0078809038, 0.011764786, 0.0027683766, 2.8256431, 0.097604081, 0.43660924, 5.3239441, 5.7857985, 0.011781988, 0.99545848, 3.6074476, 0.012716044, 3.5414619, 10.001749, 5.1410384, 0.58174956, 0.048040409, 1.1920928e-07, 0.44545165, 0.26398975, 1.0866207, 0.032341387, 1.9302927, 1.7214978, 0.14138071, 5.1016698, 0.055371586, 0.0014659145, 0.00010918975, 7.7363838e-05, 1.3645833, 3.5706358, 0.0080351206, 0.8421092, 2.5574591, 4.3584027, 0.098203123, 0.08864145, 0.1146792, 0.40159604, 0.58458161, 3.5341103, 0.60119003, 0.0068182433, 5.1139479e-05, 10.775528, 3.853267, 0.0040032496, 0.93329203, 0.61584514, 0.006534637, 0.00078682933, 0.0026110862, 5.515213, 0.0076064714, 0.0, 0.00037281716, 0.012538179, 0.016624259, 4.0053521e-05, 0.0034050127, 4.887569e-06, 6.4372807e-06, 0.0046727983, 0.028708324, 6.079489e-05, 0.0]\n",
      "117.214582124\n",
      "3\n",
      "<eos> (S (NP chicago investor william <cunk> )NP (VP agreed (S (VP to (VP sell (NP (NP three divisions )NP (PP of (NP <cunk> peabody & co. )NP )PP )NP (PP for (NP (QP about $ 600 million )QP )NP )PP (PP to (NP (NP <cunk> s.a. )NP , (NP (NP a (ADJP closely held )ADJP clothing maker )NP (VP based (PP in (NP paris )NP )PP )VP )NP )NP )PP )VP )VP )S )VP . )S <eos>\n",
      "10 4 0 600 659 933 21 1 2 405 4 2 15 2 237 0 0 181 2887 1 6 14 0 21 2708 131 140 1 7 1 6 29 0 26 76 34 3147 49 27 1 7 6 15 0 0 21 2239 1 8 0 0 16 23 1315 503 24 4396 424 1 2 371 6 19 0 1708 1 7 3 1 1 7 3 3 5 3 11 5 10\n",
      "[0.14039509, 0.37050453, 8.7272491, 7.4975147, 4.7461686, 1.5085186, 0.029631454, 0.072125293, 4.7947783, 0.20175381, 0.0078809038, 0.011764786, 0.0027683766, 2.8256431, 0.097604081, 0.43660924, 5.3239441, 5.7857985, 0.011781988, 0.99545848, 3.6074476, 0.012716044, 3.5414619, 10.001749, 5.1410384, 0.58174956, 0.048040409, 1.1920928e-07, 0.44545165, 0.26398975, 1.0866207, 0.032341387, 1.9302927, 1.7214978, 0.14138071, 5.1016698, 0.055371586, 0.0014659145, 0.00010918975, 7.7363838e-05, 1.3645833, 3.5706358, 0.0080351206, 0.8421092, 2.5574591, 4.3584027, 0.098203123, 0.08864145, 0.1146792, 0.40159604, 0.58458161, 3.5341103, 0.60119003, 0.0068182433, 5.1139479e-05, 10.775528, 3.853267, 0.0040032496, 0.93329203, 0.61584514, 0.006534637, 0.00078682933, 0.0026110862, 5.515213, 0.0076064714, 0.0, 0.00037281716, 0.012538179, 0.016624259, 4.0053521e-05, 0.0034050127, 4.887569e-06, 6.4372807e-06, 0.0046727983, 0.028708324, 6.079489e-05, 0.0]\n",
      "117.214582124\n",
      "4\n",
      "<eos> (S (NP chicago investor william <cunk> )NP (VP agreed (S (VP to (VP sell (NP (NP three divisions )NP (PP of (NP (NP <cunk> peabody & co. )NP (PP for (NP (QP about $ 600 million )QP )NP )PP )NP )PP )NP (PP to (NP (NP <cunk> s.a. )NP , (NP (NP a (ADJP closely held )ADJP clothing maker )NP (VP based (PP in (NP paris )NP )PP )VP )NP )NP )PP )VP )VP )S )VP . )S <eos>\n",
      "10 4 0 600 659 933 21 1 2 405 4 2 15 2 237 0 0 181 2887 1 6 14 0 0 21 2708 131 140 1 6 29 0 26 76 34 3147 49 27 1 7 1 7 1 6 15 0 0 21 2239 1 8 0 0 16 23 1315 503 24 4396 424 1 2 371 6 19 0 1708 1 7 3 1 1 7 3 3 5 3 11 5 10\n",
      "[0.14039509, 0.37050453, 8.7272491, 7.4975147, 4.7461686, 1.5085186, 0.029631454, 0.072125293, 4.7947783, 0.20175381, 0.0078809038, 0.011764786, 0.0027683766, 2.8256431, 0.097604081, 0.43660924, 5.3239441, 5.7857985, 0.011781988, 0.99545848, 3.6074476, 0.012716044, 0.86079204, 2.8351851, 10.429846, 4.9761214, 0.34500456, 0.12931708, 3.0706806, 3.8553133, 0.00039510074, 6.158546, 1.7398697, 1.2179781, 4.6506491, 0.1621896, 0.0015714928, 8.5827007e-05, 7.1525551e-07, 0.068954006, 2.3841855e-07, 0.11915655, 0.51637733, 2.2826533, 0.0044986, 0.82850194, 2.2712023, 4.408915, 0.075271189, 0.087375224, 0.097649597, 0.39566031, 0.57391435, 3.6512566, 0.52221048, 0.0071705375, 5.4477161e-05, 10.825998, 3.8719208, 0.0038208591, 0.97495508, 0.59956515, 0.0065885223, 0.00060170662, 0.0020479436, 5.5473914, 0.0077841515, 0.0, 0.00030203073, 0.012505097, 0.021398973, 2.8252203e-05, 0.0035000513, 4.7683602e-06, 5.2451951e-06, 0.0050381846, 0.019831007, 4.804019e-05, 0.0]\n",
      "125.455760001\n",
      "5\n",
      "<eos> (S (NP chicago investor william <cunk> )NP (VP agreed (S (VP to (VP sell (NP (NP three divisions )NP (PP of (NP (NP <cunk> peabody & co. )NP (PP for (NP (QP about $ 600 million )QP )NP )PP )NP )PP )NP (PP to (NP (NP <cunk> s.a. )NP , (NP (NP a (ADJP closely held )ADJP clothing maker )NP (VP based (PP in (NP paris )NP )PP )VP )NP )NP )PP )VP )VP )S )VP . )S <eos>\n",
      "10 4 0 600 659 933 21 1 2 405 4 2 15 2 237 0 0 181 2887 1 6 14 0 0 21 2708 131 140 1 6 29 0 26 76 34 3147 49 27 1 7 1 7 1 6 15 0 0 21 2239 1 8 0 0 16 23 1315 503 24 4396 424 1 2 371 6 19 0 1708 1 7 3 1 1 7 3 3 5 3 11 5 10\n",
      "[0.14039509, 0.37050453, 8.7272491, 7.4975147, 4.7461686, 1.5085186, 0.029631454, 0.072125293, 4.7947783, 0.20175381, 0.0078809038, 0.011764786, 0.0027683766, 2.8256431, 0.097604081, 0.43660924, 5.3239441, 5.7857985, 0.011781988, 0.99545848, 3.6074476, 0.012716044, 0.86079204, 2.8351851, 10.429846, 4.9761214, 0.34500456, 0.12931708, 3.0706806, 3.8553133, 0.00039510074, 6.158546, 1.7398697, 1.2179781, 4.6506491, 0.1621896, 0.0015714928, 8.5827007e-05, 7.1525551e-07, 0.068954006, 2.3841855e-07, 0.11915655, 0.51637733, 2.2826533, 0.0044986, 0.82850194, 2.2712023, 4.408915, 0.075271189, 0.087375224, 0.097649597, 0.39566031, 0.57391435, 3.6512566, 0.52221048, 0.0071705375, 5.4477161e-05, 10.825998, 3.8719208, 0.0038208591, 0.97495508, 0.59956515, 0.0065885223, 0.00060170662, 0.0020479436, 5.5473914, 0.0077841515, 0.0, 0.00030203073, 0.012505097, 0.021398973, 2.8252203e-05, 0.0035000513, 4.7683602e-06, 5.2451951e-06, 0.0050381846, 0.019831007, 4.804019e-05, 0.0]\n",
      "125.455760001\n",
      "6\n",
      "<eos> (S (NP chicago investor william <cunk> )NP (VP agreed (S (VP to (VP sell (NP (NP three divisions )NP (PP of (NP <cunk> peabody & co. )NP )PP (PP for (NP (QP about $ 600 million )QP )NP )PP )NP (PP to (NP (NP <cunk> s.a. )NP , (NP (NP a (ADJP closely held )ADJP clothing maker )NP (VP based (PP in (NP paris )NP )PP )VP )NP )NP )PP )VP )VP )S )VP . )S <eos>\n",
      "10 4 0 600 659 933 21 1 2 405 4 2 15 2 237 0 0 181 2887 1 6 14 0 21 2708 131 140 1 7 6 29 0 26 76 34 3147 49 27 1 7 1 6 15 0 0 21 2239 1 8 0 0 16 23 1315 503 24 4396 424 1 2 371 6 19 0 1708 1 7 3 1 1 7 3 3 5 3 11 5 10\n",
      "[0.14039509, 0.37050453, 8.7272491, 7.4975147, 4.7461686, 1.5085186, 0.029631454, 0.072125293, 4.7947783, 0.20175381, 0.0078809038, 0.011764786, 0.0027683766, 2.8256431, 0.097604081, 0.43660924, 5.3239441, 5.7857985, 0.011781988, 0.99545848, 3.6074476, 0.012716044, 3.5414619, 10.001749, 5.1410384, 0.58174956, 0.048040409, 1.1920928e-07, 1.5986346, 0.81607646, 0.02491726, 4.2592602, 1.4661976, 0.50379819, 4.767931, 0.058658008, 0.0023021405, 0.00011455356, 2.0265559e-06, 0.2159164, 0.6499266, 2.8173528, 0.0054163611, 1.0314405, 2.5728977, 4.2309828, 0.084857896, 0.090968072, 0.09115015, 0.4138239, 0.59754378, 3.6302447, 0.54946929, 0.0065979962, 5.1258681e-05, 10.830253, 3.8079815, 0.003919302, 0.96625972, 0.60751218, 0.0063733184, 0.0006549597, 0.0021079003, 5.5255775, 0.0074531352, 0.0, 0.00031490135, 0.013035203, 0.023414081, 3.4689303e-05, 0.0038246592, 4.2915253e-06, 4.887569e-06, 0.0053919363, 0.02513653, 4.4940891e-05, 0.0]\n",
      "118.837926775\n",
      "7\n",
      "<eos> (S (NP chicago investor william <cunk> )NP (VP agreed (S (VP to (VP sell (NP (NP three divisions )NP (PP of (NP <cunk> peabody & co. )NP )PP (PP for (NP (QP about $ 600 million )QP )NP )PP )NP (PP to (NP (NP <cunk> s.a. )NP , (NP (NP a (ADJP closely held )ADJP clothing maker )NP (VP based (PP in (NP paris )NP )PP )VP )NP )NP )PP )VP )VP )S )VP . )S <eos>\n",
      "10 4 0 600 659 933 21 1 2 405 4 2 15 2 237 0 0 181 2887 1 6 14 0 21 2708 131 140 1 7 6 29 0 26 76 34 3147 49 27 1 7 1 6 15 0 0 21 2239 1 8 0 0 16 23 1315 503 24 4396 424 1 2 371 6 19 0 1708 1 7 3 1 1 7 3 3 5 3 11 5 10\n",
      "[0.14039509, 0.37050453, 8.7272491, 7.4975147, 4.7461686, 1.5085186, 0.029631454, 0.072125293, 4.7947783, 0.20175381, 0.0078809038, 0.011764786, 0.0027683766, 2.8256431, 0.097604081, 0.43660924, 5.3239441, 5.7857985, 0.011781988, 0.99545848, 3.6074476, 0.012716044, 3.5414619, 10.001749, 5.1410384, 0.58174956, 0.048040409, 1.1920928e-07, 1.5986346, 0.81607646, 0.02491726, 4.2592602, 1.4661976, 0.50379819, 4.767931, 0.058658008, 0.0023021405, 0.00011455356, 2.0265559e-06, 0.2159164, 0.6499266, 2.8173528, 0.0054163611, 1.0314405, 2.5728977, 4.2309828, 0.084857896, 0.090968072, 0.09115015, 0.4138239, 0.59754378, 3.6302447, 0.54946929, 0.0065979962, 5.1258681e-05, 10.830253, 3.8079815, 0.003919302, 0.96625972, 0.60751218, 0.0063733184, 0.0006549597, 0.0021079003, 5.5255775, 0.0074531352, 0.0, 0.00031490135, 0.013035203, 0.023414081, 3.4689303e-05, 0.0038246592, 4.2915253e-06, 4.887569e-06, 0.0053919363, 0.02513653, 4.4940891e-05, 0.0]\n",
      "118.837926775\n",
      "8\n",
      "<eos> (S (NP chicago investor william <cunk> )NP (VP agreed (S (VP to (VP sell (NP (NP three divisions )NP (PP of (NP <cunk> peabody & co. )NP )PP )NP (PP for (NP (QP about $ 600 million )QP )NP )PP )VP )VP )S (PP to (NP (NP <cunk> s.a. )NP , (NP (NP a (ADJP closely held )ADJP clothing maker )NP (VP based (PP in (NP paris )NP )PP )VP )NP )NP )PP )VP . )S <eos>\n",
      "10 4 0 600 659 933 21 1 2 405 4 2 15 2 237 0 0 181 2887 1 6 14 0 21 2708 131 140 1 7 1 6 29 0 26 76 34 3147 49 27 1 7 3 3 5 6 15 0 0 21 2239 1 8 0 0 16 23 1315 503 24 4396 424 1 2 371 6 19 0 1708 1 7 3 1 1 7 3 11 5 10\n",
      "[0.14039509, 0.37050453, 8.7272491, 7.4975147, 4.7461686, 1.5085186, 0.029631454, 0.072125293, 4.7947783, 0.20175381, 0.0078809038, 0.011764786, 0.0027683766, 2.8256431, 0.097604081, 0.43660924, 5.3239441, 5.7857985, 0.011781988, 0.99545848, 3.6074476, 0.012716044, 3.5414619, 10.001749, 5.1410384, 0.58174956, 0.048040409, 1.1920928e-07, 0.44545165, 0.26398975, 1.0866207, 0.032341387, 1.9302927, 1.7214978, 0.14138071, 5.1016698, 0.055371586, 0.0014659145, 0.00010918975, 7.7363838e-05, 0.49284673, 2.3483954e-05, 0.00010966653, 3.534313, 5.2955046, 0.04971192, 0.58832657, 3.3124878, 5.040103, 0.1205752, 0.11174674, 0.16172069, 0.41130754, 0.6082598, 3.5512319, 0.64497584, 0.0073521999, 3.2424403e-05, 10.799243, 4.2815332, 0.0037226442, 0.86152434, 0.66411114, 0.0065140291, 0.0007995746, 0.0026191713, 5.4097657, 0.0064936583, 0.0, 0.00031025364, 0.011888484, 0.011768203, 2.5748875e-05, 0.0024836191, 0.0050547901, 0.00011586471, 0.0]\n",
      "123.300967294\n",
      "9\n",
      "<eos> (S (NP chicago investor william <cunk> )NP (VP agreed (S (VP to (VP sell (NP (NP three divisions )NP (PP of (NP (NP <cunk> peabody & co. )NP (PP for (NP (QP about $ 600 million )QP )NP )PP )NP )PP )NP (PP to (NP (NP <cunk> s.a. )NP , (NP (NP a (ADJP closely held )ADJP clothing maker )NP (VP based (PP in (NP paris )NP )PP )VP )NP )NP )PP )VP )VP )S )VP . )S <eos>\n",
      "10 4 0 600 659 933 21 1 2 405 4 2 15 2 237 0 0 181 2887 1 6 14 0 0 21 2708 131 140 1 6 29 0 26 76 34 3147 49 27 1 7 1 7 1 6 15 0 0 21 2239 1 8 0 0 16 23 1315 503 24 4396 424 1 2 371 6 19 0 1708 1 7 3 1 1 7 3 3 5 3 11 5 10\n",
      "[0.14039509, 0.37050453, 8.7272491, 7.4975147, 4.7461686, 1.5085186, 0.029631454, 0.072125293, 4.7947783, 0.20175381, 0.0078809038, 0.011764786, 0.0027683766, 2.8256431, 0.097604081, 0.43660924, 5.3239441, 5.7857985, 0.011781988, 0.99545848, 3.6074476, 0.012716044, 0.86079204, 2.8351851, 10.429846, 4.9761214, 0.34500456, 0.12931708, 3.0706806, 3.8553133, 0.00039510074, 6.158546, 1.7398697, 1.2179781, 4.6506491, 0.1621896, 0.0015714928, 8.5827007e-05, 7.1525551e-07, 0.068954006, 2.3841855e-07, 0.11915655, 0.51637733, 2.2826533, 0.0044986, 0.82850194, 2.2712023, 4.408915, 0.075271189, 0.087375224, 0.097649597, 0.39566031, 0.57391435, 3.6512566, 0.52221048, 0.0071705375, 5.4477161e-05, 10.825998, 3.8719208, 0.0038208591, 0.97495508, 0.59956515, 0.0065885223, 0.00060170662, 0.0020479436, 5.5473914, 0.0077841515, 0.0, 0.00030203073, 0.012505097, 0.021398973, 2.8252203e-05, 0.0035000513, 4.7683602e-06, 5.2451951e-06, 0.0050381846, 0.019831007, 4.804019e-05, 0.0]\n",
      "125.455760001\n",
      "10\n",
      "<eos> (S (NP chicago investor william <cunk> )NP (VP agreed (S (VP to (VP sell (NP (NP three divisions )NP (PP of (NP <cunk> peabody & co. )NP )PP )NP (PP for (NP (QP about $ 600 million )QP )NP )PP )VP )VP )S (PP to (NP (NP <cunk> s.a. )NP , (NP (NP a (ADJP closely held )ADJP clothing maker )NP (VP based (PP in (NP paris )NP )PP )VP )NP )NP )PP )VP . )S <eos>\n",
      "10 4 0 600 659 933 21 1 2 405 4 2 15 2 237 0 0 181 2887 1 6 14 0 21 2708 131 140 1 7 1 6 29 0 26 76 34 3147 49 27 1 7 3 3 5 6 15 0 0 21 2239 1 8 0 0 16 23 1315 503 24 4396 424 1 2 371 6 19 0 1708 1 7 3 1 1 7 3 11 5 10\n",
      "[0.14039509, 0.37050453, 8.7272491, 7.4975147, 4.7461686, 1.5085186, 0.029631454, 0.072125293, 4.7947783, 0.20175381, 0.0078809038, 0.011764786, 0.0027683766, 2.8256431, 0.097604081, 0.43660924, 5.3239441, 5.7857985, 0.011781988, 0.99545848, 3.6074476, 0.012716044, 3.5414619, 10.001749, 5.1410384, 0.58174956, 0.048040409, 1.1920928e-07, 0.44545165, 0.26398975, 1.0866207, 0.032341387, 1.9302927, 1.7214978, 0.14138071, 5.1016698, 0.055371586, 0.0014659145, 0.00010918975, 7.7363838e-05, 0.49284673, 2.3483954e-05, 0.00010966653, 3.534313, 5.2955046, 0.04971192, 0.58832657, 3.3124878, 5.040103, 0.1205752, 0.11174674, 0.16172069, 0.41130754, 0.6082598, 3.5512319, 0.64497584, 0.0073521999, 3.2424403e-05, 10.799243, 4.2815332, 0.0037226442, 0.86152434, 0.66411114, 0.0065140291, 0.0007995746, 0.0026191713, 5.4097657, 0.0064936583, 0.0, 0.00031025364, 0.011888484, 0.011768203, 2.5748875e-05, 0.0024836191, 0.0050547901, 0.00011586471, 0.0]\n",
      "123.300967294\n",
      "11\n",
      "<eos> (S (NP chicago investor william <cunk> )NP (VP agreed (S (VP to (VP sell (NP (NP three divisions )NP (PP of (NP (NP <cunk> peabody & co. )NP (PP for (NP (QP about $ 600 million )QP )NP )PP )NP )PP )NP (PP to (NP (NP <cunk> s.a. )NP , (NP (NP a (ADJP closely held )ADJP clothing maker )NP (VP based (PP in (NP paris )NP )PP )VP )NP )NP )PP )VP )VP )S )VP . )S <eos>\n",
      "10 4 0 600 659 933 21 1 2 405 4 2 15 2 237 0 0 181 2887 1 6 14 0 0 21 2708 131 140 1 6 29 0 26 76 34 3147 49 27 1 7 1 7 1 6 15 0 0 21 2239 1 8 0 0 16 23 1315 503 24 4396 424 1 2 371 6 19 0 1708 1 7 3 1 1 7 3 3 5 3 11 5 10\n",
      "[0.14039509, 0.37050453, 8.7272491, 7.4975147, 4.7461686, 1.5085186, 0.029631454, 0.072125293, 4.7947783, 0.20175381, 0.0078809038, 0.011764786, 0.0027683766, 2.8256431, 0.097604081, 0.43660924, 5.3239441, 5.7857985, 0.011781988, 0.99545848, 3.6074476, 0.012716044, 0.86079204, 2.8351851, 10.429846, 4.9761214, 0.34500456, 0.12931708, 3.0706806, 3.8553133, 0.00039510074, 6.158546, 1.7398697, 1.2179781, 4.6506491, 0.1621896, 0.0015714928, 8.5827007e-05, 7.1525551e-07, 0.068954006, 2.3841855e-07, 0.11915655, 0.51637733, 2.2826533, 0.0044986, 0.82850194, 2.2712023, 4.408915, 0.075271189, 0.087375224, 0.097649597, 0.39566031, 0.57391435, 3.6512566, 0.52221048, 0.0071705375, 5.4477161e-05, 10.825998, 3.8719208, 0.0038208591, 0.97495508, 0.59956515, 0.0065885223, 0.00060170662, 0.0020479436, 5.5473914, 0.0077841515, 0.0, 0.00030203073, 0.012505097, 0.021398973, 2.8252203e-05, 0.0035000513, 4.7683602e-06, 5.2451951e-06, 0.0050381846, 0.019831007, 4.804019e-05, 0.0]\n",
      "125.455760001\n",
      "12\n",
      "<eos> (S (NP chicago investor william <cunk> )NP (VP agreed (S (VP to (VP sell (NP (NP three divisions )NP (PP of (NP <cunk> peabody & co. )NP )PP (PP for (NP (QP about $ 600 million )QP )NP )PP )NP (PP to (NP (NP <cunk> s.a. )NP , (NP (NP a (ADJP closely held )ADJP clothing maker )NP (VP based (PP in (NP paris )NP )PP )VP )NP )NP )PP )VP )VP )S )VP . )S <eos>\n",
      "10 4 0 600 659 933 21 1 2 405 4 2 15 2 237 0 0 181 2887 1 6 14 0 21 2708 131 140 1 7 6 29 0 26 76 34 3147 49 27 1 7 1 6 15 0 0 21 2239 1 8 0 0 16 23 1315 503 24 4396 424 1 2 371 6 19 0 1708 1 7 3 1 1 7 3 3 5 3 11 5 10\n",
      "[0.14039509, 0.37050453, 8.7272491, 7.4975147, 4.7461686, 1.5085186, 0.029631454, 0.072125293, 4.7947783, 0.20175381, 0.0078809038, 0.011764786, 0.0027683766, 2.8256431, 0.097604081, 0.43660924, 5.3239441, 5.7857985, 0.011781988, 0.99545848, 3.6074476, 0.012716044, 3.5414619, 10.001749, 5.1410384, 0.58174956, 0.048040409, 1.1920928e-07, 1.5986346, 0.81607646, 0.02491726, 4.2592602, 1.4661976, 0.50379819, 4.767931, 0.058658008, 0.0023021405, 0.00011455356, 2.0265559e-06, 0.2159164, 0.6499266, 2.8173528, 0.0054163611, 1.0314405, 2.5728977, 4.2309828, 0.084857896, 0.090968072, 0.09115015, 0.4138239, 0.59754378, 3.6302447, 0.54946929, 0.0065979962, 5.1258681e-05, 10.830253, 3.8079815, 0.003919302, 0.96625972, 0.60751218, 0.0063733184, 0.0006549597, 0.0021079003, 5.5255775, 0.0074531352, 0.0, 0.00031490135, 0.013035203, 0.023414081, 3.4689303e-05, 0.0038246592, 4.2915253e-06, 4.887569e-06, 0.0053919363, 0.02513653, 4.4940891e-05, 0.0]\n",
      "118.837926775\n",
      "13\n",
      "<eos> (S (NP chicago investor william <cunk> )NP (VP agreed (S (VP to (VP sell (NP (NP three divisions )NP (PP of (NP <cunk> peabody & co. )NP )PP (PP for (NP (QP about $ 600 million )QP )NP )PP )NP (PP to (NP (NP <cunk> s.a. )NP , (NP (NP a (ADJP closely held )ADJP clothing maker )NP (VP based (PP in (NP paris )NP )PP )VP )NP )NP )PP )VP )VP )S )VP . )S <eos>\n",
      "10 4 0 600 659 933 21 1 2 405 4 2 15 2 237 0 0 181 2887 1 6 14 0 21 2708 131 140 1 7 6 29 0 26 76 34 3147 49 27 1 7 1 6 15 0 0 21 2239 1 8 0 0 16 23 1315 503 24 4396 424 1 2 371 6 19 0 1708 1 7 3 1 1 7 3 3 5 3 11 5 10\n",
      "[0.14039509, 0.37050453, 8.7272491, 7.4975147, 4.7461686, 1.5085186, 0.029631454, 0.072125293, 4.7947783, 0.20175381, 0.0078809038, 0.011764786, 0.0027683766, 2.8256431, 0.097604081, 0.43660924, 5.3239441, 5.7857985, 0.011781988, 0.99545848, 3.6074476, 0.012716044, 3.5414619, 10.001749, 5.1410384, 0.58174956, 0.048040409, 1.1920928e-07, 1.5986346, 0.81607646, 0.02491726, 4.2592602, 1.4661976, 0.50379819, 4.767931, 0.058658008, 0.0023021405, 0.00011455356, 2.0265559e-06, 0.2159164, 0.6499266, 2.8173528, 0.0054163611, 1.0314405, 2.5728977, 4.2309828, 0.084857896, 0.090968072, 0.09115015, 0.4138239, 0.59754378, 3.6302447, 0.54946929, 0.0065979962, 5.1258681e-05, 10.830253, 3.8079815, 0.003919302, 0.96625972, 0.60751218, 0.0063733184, 0.0006549597, 0.0021079003, 5.5255775, 0.0074531352, 0.0, 0.00031490135, 0.013035203, 0.023414081, 3.4689303e-05, 0.0038246592, 4.2915253e-06, 4.887569e-06, 0.0053919363, 0.02513653, 4.4940891e-05, 0.0]\n",
      "118.837926775\n",
      "14\n",
      "<eos> (S (NP chicago investor william <cunk> )NP (VP agreed (S (VP to (VP sell (NP (NP (NP three divisions )NP (PP of (NP <cunk> peabody & co. )NP )PP )NP (PP for (NP (QP about $ 600 million )QP )NP )PP )NP (PP to (NP (NP <cunk> s.a. )NP , (NP (NP a (ADJP closely held )ADJP clothing maker )NP (VP based (PP in (NP paris )NP )PP )VP )NP )NP )PP )VP )VP )S )VP . )S <eos>\n",
      "10 4 0 600 659 933 21 1 2 405 4 2 15 2 237 0 0 0 181 2887 1 6 14 0 21 2708 131 140 1 7 1 6 29 0 26 76 34 3147 49 27 1 7 1 6 15 0 0 21 2239 1 8 0 0 16 23 1315 503 24 4396 424 1 2 371 6 19 0 1708 1 7 3 1 1 7 3 3 5 3 11 5 10\n",
      "[0.14039509, 0.37050453, 8.7272491, 7.4975147, 4.7461686, 1.5085186, 0.029631454, 0.072125293, 4.7947783, 0.20175381, 0.0078809038, 0.011764786, 0.0027683766, 2.8256431, 0.097604081, 0.43660924, 2.2668948, 6.0370617, 5.7029939, 0.034489386, 0.87890702, 2.8756433, 0.0088828877, 3.2411652, 10.247384, 6.1899962, 0.66902232, 0.029244499, 0.0, 0.078416474, 2.4958138, 1.3797133, 0.007802722, 4.4034691, 1.4766234, 0.6272192, 4.6294403, 0.057011869, 0.0026979973, 0.00010132276, 2.7418098e-06, 0.22577175, 0.35173008, 2.0556378, 0.0058023352, 0.9264797, 2.5676441, 4.2282171, 0.089282408, 0.080865942, 0.098434344, 0.39478505, 0.58604586, 3.5701404, 0.57310355, 0.0071469839, 4.8874615e-05, 10.739552, 3.7628405, 0.0037646866, 0.96808147, 0.60454428, 0.0066869296, 0.00073084346, 0.0023435291, 5.5393496, 0.0078123026, 0.0, 0.00031728478, 0.013323207, 0.027353751, 4.4702483e-05, 0.0043365965, 4.887569e-06, 6.4372807e-06, 0.0062054577, 0.013823251, 4.9589835e-05, 0.0]\n",
      "122.273214676\n",
      "15\n",
      "<eos> (S (NP chicago investor william <cunk> )NP (VP agreed (S (VP to (VP sell (NP (NP three divisions )NP (PP of (NP <cunk> peabody & co. )NP )PP )NP (PP (PP for (NP (QP about $ 600 million )QP )NP )PP (PP to (NP (NP <cunk> s.a. )NP , (NP (NP a (ADJP closely held )ADJP clothing maker )NP (VP based (PP in (NP paris )NP )PP )VP )NP )NP )PP )PP )VP )VP )S )VP . )S <eos>\n",
      "10 4 0 600 659 933 21 1 2 405 4 2 15 2 237 0 0 181 2887 1 6 14 0 21 2708 131 140 1 7 1 6 6 29 0 26 76 34 3147 49 27 1 7 6 15 0 0 21 2239 1 8 0 0 16 23 1315 503 24 4396 424 1 2 371 6 19 0 1708 1 7 3 1 1 7 7 3 3 5 3 11 5 10\n",
      "[0.14039509, 0.37050453, 8.7272491, 7.4975147, 4.7461686, 1.5085186, 0.029631454, 0.072125293, 4.7947783, 0.20175381, 0.0078809038, 0.011764786, 0.0027683766, 2.8256431, 0.097604081, 0.43660924, 5.3239441, 5.7857985, 0.011781988, 0.99545848, 3.6074476, 0.012716044, 3.5414619, 10.001749, 5.1410384, 0.58174956, 0.048040409, 1.1920928e-07, 0.44545165, 0.26398975, 4.5588498, 1.9364477, 0.027168725, 2.8673429, 1.8928902, 0.28191781, 4.7528024, 0.069468483, 0.0021710652, 0.00022790219, 0.00067866658, 1.633922, 0.33769149, 0.0087305745, 0.58418661, 4.0038643, 5.70608, 0.61874443, 0.084710702, 0.18271223, 0.37956136, 0.58793116, 3.0637224, 1.0900315, 0.0086966576, 4.0649542e-05, 10.320351, 3.8489861, 0.0051532299, 0.91537899, 0.74388927, 0.0063964161, 0.0023010701, 0.0052797645, 5.6214466, 0.0093583493, 0.0, 0.00039557737, 0.012975899, 0.03012052, 0.00052700459, 0.002743768, 0.0030884685, 7.9869906e-06, 8.7022399e-06, 0.0048017665, 0.073056541, 9.3336515e-05, 0.0]\n",
      "123.518489469\n",
      "16\n",
      "<eos> (S (NP chicago investor william <cunk> )NP (VP agreed (S (VP to (VP sell (NP (NP three divisions )NP (PP of (NP <cunk> peabody & co. )NP )PP )NP (PP for (NP (QP about $ 600 million )QP )NP )PP (PP to (NP (NP <cunk> s.a. )NP , (NP (NP a (ADJP closely held clothing )ADJP maker )NP (VP based (PP in (NP paris )NP )PP )VP )NP )NP )PP )VP )VP )S )VP . )S <eos>\n",
      "10 4 0 600 659 933 21 1 2 405 4 2 15 2 237 0 0 181 2887 1 6 14 0 21 2708 131 140 1 7 1 6 29 0 26 76 34 3147 49 27 1 7 6 15 0 0 21 2239 1 8 0 0 16 23 1315 503 4396 24 424 1 2 371 6 19 0 1708 1 7 3 1 1 7 3 3 5 3 11 5 10\n",
      "[0.14039509, 0.37050453, 8.7272491, 7.4975147, 4.7461686, 1.5085186, 0.029631454, 0.072125293, 4.7947783, 0.20175381, 0.0078809038, 0.011764786, 0.0027683766, 2.8256431, 0.097604081, 0.43660924, 5.3239441, 5.7857985, 0.011781988, 0.99545848, 3.6074476, 0.012716044, 3.5414619, 10.001749, 5.1410384, 0.58174956, 0.048040409, 1.1920928e-07, 0.44545165, 0.26398975, 1.0866207, 0.032341387, 1.9302927, 1.7214978, 0.14138071, 5.1016698, 0.055371586, 0.0014659145, 0.00010918975, 7.7363838e-05, 1.3645833, 3.5706358, 0.0080351206, 0.8421092, 2.5574591, 4.3584027, 0.098203123, 0.08864145, 0.1146792, 0.40159604, 0.58458161, 3.5341103, 0.60119003, 0.0068182433, 24.538961, 0.59156525, 3.4586473, 0.001680511, 3.407079, 0.71532774, 0.0030118127, 0.0011319666, 0.001538047, 5.6264229, 0.010283108, 0.0, 0.00031144536, 0.013315914, 0.019712964, 2.6940936e-05, 0.0037749, 3.6954812e-06, 5.4836123e-06, 0.0055720252, 0.021069631, 5.4834771e-05, 0.0]\n",
      "133.852906848\n",
      "17\n",
      "<eos> (S (NP chicago investor william <cunk> )NP (VP agreed (S (VP to (VP sell (NP (NP (NP three divisions )NP (PP of (NP <cunk> peabody & co. )NP )PP )NP (PP for (NP (QP about $ 600 million )QP )NP )PP )NP (PP to (NP (NP <cunk> s.a. )NP , (NP (NP a (ADJP closely held )ADJP clothing maker )NP (VP based (PP in (NP paris )NP )PP )VP )NP )NP )PP )VP )VP )S )VP . )S <eos>\n",
      "10 4 0 600 659 933 21 1 2 405 4 2 15 2 237 0 0 0 181 2887 1 6 14 0 21 2708 131 140 1 7 1 6 29 0 26 76 34 3147 49 27 1 7 1 6 15 0 0 21 2239 1 8 0 0 16 23 1315 503 24 4396 424 1 2 371 6 19 0 1708 1 7 3 1 1 7 3 3 5 3 11 5 10\n",
      "[0.14039509, 0.37050453, 8.7272491, 7.4975147, 4.7461686, 1.5085186, 0.029631454, 0.072125293, 4.7947783, 0.20175381, 0.0078809038, 0.011764786, 0.0027683766, 2.8256431, 0.097604081, 0.43660924, 2.2668948, 6.0370617, 5.7029939, 0.034489386, 0.87890702, 2.8756433, 0.0088828877, 3.2411652, 10.247384, 6.1899962, 0.66902232, 0.029244499, 0.0, 0.078416474, 2.4958138, 1.3797133, 0.007802722, 4.4034691, 1.4766234, 0.6272192, 4.6294403, 0.057011869, 0.0026979973, 0.00010132276, 2.7418098e-06, 0.22577175, 0.35173008, 2.0556378, 0.0058023352, 0.9264797, 2.5676441, 4.2282171, 0.089282408, 0.080865942, 0.098434344, 0.39478505, 0.58604586, 3.5701404, 0.57310355, 0.0071469839, 4.8874615e-05, 10.739552, 3.7628405, 0.0037646866, 0.96808147, 0.60454428, 0.0066869296, 0.00073084346, 0.0023435291, 5.5393496, 0.0078123026, 0.0, 0.00031728478, 0.013323207, 0.027353751, 4.4702483e-05, 0.0043365965, 4.887569e-06, 6.4372807e-06, 0.0062054577, 0.013823251, 4.9589835e-05, 0.0]\n",
      "122.273214676\n",
      "18\n",
      "<eos> (S (NP chicago investor william <cunk> )NP (VP agreed (S (VP to (VP sell (NP (NP three divisions )NP (PP of (NP <cunk> peabody & co. )NP )PP )NP (PP (PP for (NP (QP about $ 600 million )QP )NP )PP (PP to (NP (NP <cunk> s.a. )NP , (NP (NP a (ADJP closely held )ADJP clothing maker )NP (VP based (PP in (NP paris )NP )PP )VP )NP )NP )PP )PP )VP )VP )S )VP . )S <eos>\n",
      "10 4 0 600 659 933 21 1 2 405 4 2 15 2 237 0 0 181 2887 1 6 14 0 21 2708 131 140 1 7 1 6 6 29 0 26 76 34 3147 49 27 1 7 6 15 0 0 21 2239 1 8 0 0 16 23 1315 503 24 4396 424 1 2 371 6 19 0 1708 1 7 3 1 1 7 7 3 3 5 3 11 5 10\n",
      "[0.14039509, 0.37050453, 8.7272491, 7.4975147, 4.7461686, 1.5085186, 0.029631454, 0.072125293, 4.7947783, 0.20175381, 0.0078809038, 0.011764786, 0.0027683766, 2.8256431, 0.097604081, 0.43660924, 5.3239441, 5.7857985, 0.011781988, 0.99545848, 3.6074476, 0.012716044, 3.5414619, 10.001749, 5.1410384, 0.58174956, 0.048040409, 1.1920928e-07, 0.44545165, 0.26398975, 4.5588498, 1.9364477, 0.027168725, 2.8673429, 1.8928902, 0.28191781, 4.7528024, 0.069468483, 0.0021710652, 0.00022790219, 0.00067866658, 1.633922, 0.33769149, 0.0087305745, 0.58418661, 4.0038643, 5.70608, 0.61874443, 0.084710702, 0.18271223, 0.37956136, 0.58793116, 3.0637224, 1.0900315, 0.0086966576, 4.0649542e-05, 10.320351, 3.8489861, 0.0051532299, 0.91537899, 0.74388927, 0.0063964161, 0.0023010701, 0.0052797645, 5.6214466, 0.0093583493, 0.0, 0.00039557737, 0.012975899, 0.03012052, 0.00052700459, 0.002743768, 0.0030884685, 7.9869906e-06, 8.7022399e-06, 0.0048017665, 0.073056541, 9.3336515e-05, 0.0]\n",
      "123.518489469\n",
      "19\n",
      "<eos> (S (NP chicago investor william <cunk> )NP (VP agreed (S (VP to (VP sell (NP (NP three divisions )NP (PP of (NP <cunk> peabody & co. )NP )PP )NP (PP for (NP (QP about $ 600 million )QP )NP )PP (PP to (NP (NP <cunk> s.a. )NP , (NP (NP a (ADJP closely held clothing )ADJP maker )NP (VP based (PP in (NP paris )NP )PP )VP )NP )NP )PP )VP )VP )S )VP . )S <eos>\n",
      "10 4 0 600 659 933 21 1 2 405 4 2 15 2 237 0 0 181 2887 1 6 14 0 21 2708 131 140 1 7 1 6 29 0 26 76 34 3147 49 27 1 7 6 15 0 0 21 2239 1 8 0 0 16 23 1315 503 4396 24 424 1 2 371 6 19 0 1708 1 7 3 1 1 7 3 3 5 3 11 5 10\n",
      "[0.14039509, 0.37050453, 8.7272491, 7.4975147, 4.7461686, 1.5085186, 0.029631454, 0.072125293, 4.7947783, 0.20175381, 0.0078809038, 0.011764786, 0.0027683766, 2.8256431, 0.097604081, 0.43660924, 5.3239441, 5.7857985, 0.011781988, 0.99545848, 3.6074476, 0.012716044, 3.5414619, 10.001749, 5.1410384, 0.58174956, 0.048040409, 1.1920928e-07, 0.44545165, 0.26398975, 1.0866207, 0.032341387, 1.9302927, 1.7214978, 0.14138071, 5.1016698, 0.055371586, 0.0014659145, 0.00010918975, 7.7363838e-05, 1.3645833, 3.5706358, 0.0080351206, 0.8421092, 2.5574591, 4.3584027, 0.098203123, 0.08864145, 0.1146792, 0.40159604, 0.58458161, 3.5341103, 0.60119003, 0.0068182433, 24.538961, 0.59156525, 3.4586473, 0.001680511, 3.407079, 0.71532774, 0.0030118127, 0.0011319666, 0.001538047, 5.6264229, 0.010283108, 0.0, 0.00031144536, 0.013315914, 0.019712964, 2.6940936e-05, 0.0037749, 3.6954812e-06, 5.4836123e-06, 0.0055720252, 0.021069631, 5.4834771e-05, 0.0]\n",
      "133.852906848\n",
      "20\n",
      "<eos> (S (NP chicago investor william <cunk> )NP (VP agreed (S (VP to (VP sell (NP (NP three divisions )NP (PP of (NP <cunk> peabody & co. )NP )PP )NP (PP for (NP (QP about $ 600 million )QP )NP )PP )VP )VP )S (PP to (NP (NP <cunk> s.a. )NP , (NP (NP a (ADJP closely held )ADJP clothing maker )NP (VP based (PP in (NP paris )NP )PP )VP )NP )NP )PP )VP . )S <eos>\n",
      "10 4 0 600 659 933 21 1 2 405 4 2 15 2 237 0 0 181 2887 1 6 14 0 21 2708 131 140 1 7 1 6 29 0 26 76 34 3147 49 27 1 7 3 3 5 6 15 0 0 21 2239 1 8 0 0 16 23 1315 503 24 4396 424 1 2 371 6 19 0 1708 1 7 3 1 1 7 3 11 5 10\n",
      "[0.14039509, 0.37050453, 8.7272491, 7.4975147, 4.7461686, 1.5085186, 0.029631454, 0.072125293, 4.7947783, 0.20175381, 0.0078809038, 0.011764786, 0.0027683766, 2.8256431, 0.097604081, 0.43660924, 5.3239441, 5.7857985, 0.011781988, 0.99545848, 3.6074476, 0.012716044, 3.5414619, 10.001749, 5.1410384, 0.58174956, 0.048040409, 1.1920928e-07, 0.44545165, 0.26398975, 1.0866207, 0.032341387, 1.9302927, 1.7214978, 0.14138071, 5.1016698, 0.055371586, 0.0014659145, 0.00010918975, 7.7363838e-05, 0.49284673, 2.3483954e-05, 0.00010966653, 3.534313, 5.2955046, 0.04971192, 0.58832657, 3.3124878, 5.040103, 0.1205752, 0.11174674, 0.16172069, 0.41130754, 0.6082598, 3.5512319, 0.64497584, 0.0073521999, 3.2424403e-05, 10.799243, 4.2815332, 0.0037226442, 0.86152434, 0.66411114, 0.0065140291, 0.0007995746, 0.0026191713, 5.4097657, 0.0064936583, 0.0, 0.00031025364, 0.011888484, 0.011768203, 2.5748875e-05, 0.0024836191, 0.0050547901, 0.00011586471, 0.0]\n",
      "123.300967294\n",
      "21\n",
      "<eos> (S (NP chicago investor william <cunk> )NP (VP agreed (S (VP to (VP sell (NP (NP three divisions )NP (PP of (NP <cunk> peabody & co. )NP )PP )NP (PP for (NP (QP about $ 600 million )QP )NP )PP )VP )VP )S (PP to (NP (NP <cunk> s.a. )NP , (NP (NP a (ADJP closely held )ADJP clothing maker )NP (VP based (PP in (NP paris )NP )PP )VP )NP )NP )PP )VP . )S <eos>\n",
      "10 4 0 600 659 933 21 1 2 405 4 2 15 2 237 0 0 181 2887 1 6 14 0 21 2708 131 140 1 7 1 6 29 0 26 76 34 3147 49 27 1 7 3 3 5 6 15 0 0 21 2239 1 8 0 0 16 23 1315 503 24 4396 424 1 2 371 6 19 0 1708 1 7 3 1 1 7 3 11 5 10\n",
      "[0.14039509, 0.37050453, 8.7272491, 7.4975147, 4.7461686, 1.5085186, 0.029631454, 0.072125293, 4.7947783, 0.20175381, 0.0078809038, 0.011764786, 0.0027683766, 2.8256431, 0.097604081, 0.43660924, 5.3239441, 5.7857985, 0.011781988, 0.99545848, 3.6074476, 0.012716044, 3.5414619, 10.001749, 5.1410384, 0.58174956, 0.048040409, 1.1920928e-07, 0.44545165, 0.26398975, 1.0866207, 0.032341387, 1.9302927, 1.7214978, 0.14138071, 5.1016698, 0.055371586, 0.0014659145, 0.00010918975, 7.7363838e-05, 0.49284673, 2.3483954e-05, 0.00010966653, 3.534313, 5.2955046, 0.04971192, 0.58832657, 3.3124878, 5.040103, 0.1205752, 0.11174674, 0.16172069, 0.41130754, 0.6082598, 3.5512319, 0.64497584, 0.0073521999, 3.2424403e-05, 10.799243, 4.2815332, 0.0037226442, 0.86152434, 0.66411114, 0.0065140291, 0.0007995746, 0.0026191713, 5.4097657, 0.0064936583, 0.0, 0.00031025364, 0.011888484, 0.011768203, 2.5748875e-05, 0.0024836191, 0.0050547901, 0.00011586471, 0.0]\n",
      "123.300967294\n",
      "22\n",
      "<eos> (S (NP chicago investor william <cunk> )NP (VP agreed (S (VP to (VP sell (NP (NP three divisions )NP (PP of (NP <cunk> peabody & co. )NP )PP )NP (PP for (NP (NP (QP about $ 600 million )QP )NP (PP to (NP (NP <cunk> s.a. )NP , (NP (NP a (ADJP closely held )ADJP clothing maker )NP (VP based (PP in (NP paris )NP )PP )VP )NP )NP )PP )NP )PP )VP )VP )S )VP . )S <eos>\n",
      "10 4 0 600 659 933 21 1 2 405 4 2 15 2 237 0 0 181 2887 1 6 14 0 21 2708 131 140 1 7 1 6 29 0 0 26 76 34 3147 49 27 1 6 15 0 0 21 2239 1 8 0 0 16 23 1315 503 24 4396 424 1 2 371 6 19 0 1708 1 7 3 1 1 7 1 7 3 3 5 3 11 5 10\n",
      "[0.14039509, 0.37050453, 8.7272491, 7.4975147, 4.7461686, 1.5085186, 0.029631454, 0.072125293, 4.7947783, 0.20175381, 0.0078809038, 0.011764786, 0.0027683766, 2.8256431, 0.097604081, 0.43660924, 5.3239441, 5.7857985, 0.011781988, 0.99545848, 3.6074476, 0.012716044, 3.5414619, 10.001749, 5.1410384, 0.58174956, 0.048040409, 1.1920928e-07, 0.44545165, 0.26398975, 1.0866207, 0.032341387, 0.43000948, 1.3787619, 1.4054706, 0.20905852, 5.0403562, 0.067753725, 0.00095583993, 5.4477161e-05, 0.50584495, 9.2614689, 0.00036507141, 0.84670931, 2.8788772, 5.833396, 0.5949775, 0.073592499, 0.17218168, 0.35459992, 0.54108191, 2.4616313, 1.2950341, 0.011812972, 2.7656173e-05, 10.324221, 3.5395029, 0.0067153489, 1.0158498, 0.82635283, 0.0055438108, 0.001758578, 0.0042073308, 5.5857491, 0.0084778881, 0.0, 0.00041345155, 0.013349674, 0.018593891, 2.5152844e-05, 0.0017087158, 2.5510462e-05, 0.0022137677, 6.7949063e-06, 9.8943219e-06, 0.0039627608, 0.096342564, 9.0118163e-05, 0.0]\n",
      "123.16964188\n",
      "23\n",
      "<eos> (S (NP chicago investor william <cunk> )NP (VP agreed (S (VP to (VP sell (NP (NP three divisions )NP (PP of (NP <cunk> peabody & co. )NP )PP )NP (PP for (NP about (QP $ 600 million )QP )NP )PP (PP to (NP (NP <cunk> s.a. )NP , (NP (NP a (ADJP closely held )ADJP clothing maker )NP (VP based (PP in (NP paris )NP )PP )VP )NP )NP )PP )VP )VP )S )VP . )S <eos>\n",
      "10 4 0 600 659 933 21 1 2 405 4 2 15 2 237 0 0 181 2887 1 6 14 0 21 2708 131 140 1 7 1 6 29 0 76 26 34 3147 49 27 1 7 6 15 0 0 21 2239 1 8 0 0 16 23 1315 503 24 4396 424 1 2 371 6 19 0 1708 1 7 3 1 1 7 3 3 5 3 11 5 10\n",
      "[0.14039509, 0.37050453, 8.7272491, 7.4975147, 4.7461686, 1.5085186, 0.029631454, 0.072125293, 4.7947783, 0.20175381, 0.0078809038, 0.011764786, 0.0027683766, 2.8256431, 0.097604081, 0.43660924, 5.3239441, 5.7857985, 0.011781988, 0.99545848, 3.6074476, 0.012716044, 3.5414619, 10.001749, 5.1410384, 0.58174956, 0.048040409, 1.1920928e-07, 0.44545165, 0.26398975, 1.0866207, 0.032341387, 7.3678217, 3.1721566, 0.78937012, 5.6033177, 0.05769356, 0.0061504855, 0.0001973911, 4.1245563e-05, 1.70683, 3.582854, 0.008240154, 0.80715036, 2.4478803, 4.4005947, 0.09395355, 0.093186677, 0.10888477, 0.41233051, 0.59096307, 3.5611358, 0.58842534, 0.0064684306, 5.078187e-05, 10.775202, 3.8578784, 0.0040947888, 0.92883563, 0.60814947, 0.0064536254, 0.00077027211, 0.002641405, 5.5054312, 0.0076372307, 0.0, 0.0003756771, 0.01249462, 0.016201153, 4.3272037e-05, 0.0032921424, 5.1259863e-06, 6.5564896e-06, 0.0044419905, 0.027781209, 6.2344516e-05, 0.0]\n",
      "125.517994955\n",
      "24\n",
      "<eos> (S (NP chicago investor william <cunk> )NP (VP agreed (S (VP to (VP sell (NP (NP three divisions )NP (PP of (NP <cunk> peabody & co. )NP )PP )NP (PP for (NP (NP (QP about $ 600 million )QP )NP (PP to (NP (NP <cunk> s.a. )NP , (NP (NP a (ADJP closely held )ADJP clothing maker )NP (VP based (PP in (NP paris )NP )PP )VP )NP )NP )PP )NP )PP )VP )VP )S )VP . )S <eos>\n",
      "10 4 0 600 659 933 21 1 2 405 4 2 15 2 237 0 0 181 2887 1 6 14 0 21 2708 131 140 1 7 1 6 29 0 0 26 76 34 3147 49 27 1 6 15 0 0 21 2239 1 8 0 0 16 23 1315 503 24 4396 424 1 2 371 6 19 0 1708 1 7 3 1 1 7 1 7 3 3 5 3 11 5 10\n",
      "[0.14039509, 0.37050453, 8.7272491, 7.4975147, 4.7461686, 1.5085186, 0.029631454, 0.072125293, 4.7947783, 0.20175381, 0.0078809038, 0.011764786, 0.0027683766, 2.8256431, 0.097604081, 0.43660924, 5.3239441, 5.7857985, 0.011781988, 0.99545848, 3.6074476, 0.012716044, 3.5414619, 10.001749, 5.1410384, 0.58174956, 0.048040409, 1.1920928e-07, 0.44545165, 0.26398975, 1.0866207, 0.032341387, 0.43000948, 1.3787619, 1.4054706, 0.20905852, 5.0403562, 0.067753725, 0.00095583993, 5.4477161e-05, 0.50584495, 9.2614689, 0.00036507141, 0.84670931, 2.8788772, 5.833396, 0.5949775, 0.073592499, 0.17218168, 0.35459992, 0.54108191, 2.4616313, 1.2950341, 0.011812972, 2.7656173e-05, 10.324221, 3.5395029, 0.0067153489, 1.0158498, 0.82635283, 0.0055438108, 0.001758578, 0.0042073308, 5.5857491, 0.0084778881, 0.0, 0.00041345155, 0.013349674, 0.018593891, 2.5152844e-05, 0.0017087158, 2.5510462e-05, 0.0022137677, 6.7949063e-06, 9.8943219e-06, 0.0039627608, 0.096342564, 9.0118163e-05, 0.0]\n",
      "123.16964188\n",
      "25\n",
      "<eos> (S (NP chicago investor william <cunk> )NP (VP agreed (S (VP to (VP sell (NP (NP (NP three divisions )NP (PP of (NP <cunk> peabody & co. )NP )PP )NP (PP for (NP (QP about $ 600 million )QP )NP )PP )NP (PP to (NP (NP <cunk> s.a. )NP , (NP (NP a (ADJP closely held )ADJP clothing maker )NP (VP based (PP in (NP paris )NP )PP )VP )NP )NP )PP )VP )VP )S )VP . )S <eos>\n",
      "10 4 0 600 659 933 21 1 2 405 4 2 15 2 237 0 0 0 181 2887 1 6 14 0 21 2708 131 140 1 7 1 6 29 0 26 76 34 3147 49 27 1 7 1 6 15 0 0 21 2239 1 8 0 0 16 23 1315 503 24 4396 424 1 2 371 6 19 0 1708 1 7 3 1 1 7 3 3 5 3 11 5 10\n",
      "[0.14039509, 0.37050453, 8.7272491, 7.4975147, 4.7461686, 1.5085186, 0.029631454, 0.072125293, 4.7947783, 0.20175381, 0.0078809038, 0.011764786, 0.0027683766, 2.8256431, 0.097604081, 0.43660924, 2.2668948, 6.0370617, 5.7029939, 0.034489386, 0.87890702, 2.8756433, 0.0088828877, 3.2411652, 10.247384, 6.1899962, 0.66902232, 0.029244499, 0.0, 0.078416474, 2.4958138, 1.3797133, 0.007802722, 4.4034691, 1.4766234, 0.6272192, 4.6294403, 0.057011869, 0.0026979973, 0.00010132276, 2.7418098e-06, 0.22577175, 0.35173008, 2.0556378, 0.0058023352, 0.9264797, 2.5676441, 4.2282171, 0.089282408, 0.080865942, 0.098434344, 0.39478505, 0.58604586, 3.5701404, 0.57310355, 0.0071469839, 4.8874615e-05, 10.739552, 3.7628405, 0.0037646866, 0.96808147, 0.60454428, 0.0066869296, 0.00073084346, 0.0023435291, 5.5393496, 0.0078123026, 0.0, 0.00031728478, 0.013323207, 0.027353751, 4.4702483e-05, 0.0043365965, 4.887569e-06, 6.4372807e-06, 0.0062054577, 0.013823251, 4.9589835e-05, 0.0]\n",
      "122.273214676\n",
      "26\n",
      "<eos> (S (NP chicago investor william <cunk> )NP (VP agreed (S (VP to (VP sell (NP (NP three divisions )NP (PP of (NP <cunk> peabody & co. )NP )PP )NP (PP (PP for (NP (QP about $ 600 million )QP )NP )PP (PP to (NP (NP <cunk> s.a. )NP , (NP (NP a (ADJP closely held )ADJP clothing maker )NP (VP based (PP in (NP paris )NP )PP )VP )NP )NP )PP )PP )VP )VP )S )VP . )S <eos>\n",
      "10 4 0 600 659 933 21 1 2 405 4 2 15 2 237 0 0 181 2887 1 6 14 0 21 2708 131 140 1 7 1 6 6 29 0 26 76 34 3147 49 27 1 7 6 15 0 0 21 2239 1 8 0 0 16 23 1315 503 24 4396 424 1 2 371 6 19 0 1708 1 7 3 1 1 7 7 3 3 5 3 11 5 10\n",
      "[0.14039509, 0.37050453, 8.7272491, 7.4975147, 4.7461686, 1.5085186, 0.029631454, 0.072125293, 4.7947783, 0.20175381, 0.0078809038, 0.011764786, 0.0027683766, 2.8256431, 0.097604081, 0.43660924, 5.3239441, 5.7857985, 0.011781988, 0.99545848, 3.6074476, 0.012716044, 3.5414619, 10.001749, 5.1410384, 0.58174956, 0.048040409, 1.1920928e-07, 0.44545165, 0.26398975, 4.5588498, 1.9364477, 0.027168725, 2.8673429, 1.8928902, 0.28191781, 4.7528024, 0.069468483, 0.0021710652, 0.00022790219, 0.00067866658, 1.633922, 0.33769149, 0.0087305745, 0.58418661, 4.0038643, 5.70608, 0.61874443, 0.084710702, 0.18271223, 0.37956136, 0.58793116, 3.0637224, 1.0900315, 0.0086966576, 4.0649542e-05, 10.320351, 3.8489861, 0.0051532299, 0.91537899, 0.74388927, 0.0063964161, 0.0023010701, 0.0052797645, 5.6214466, 0.0093583493, 0.0, 0.00039557737, 0.012975899, 0.03012052, 0.00052700459, 0.002743768, 0.0030884685, 7.9869906e-06, 8.7022399e-06, 0.0048017665, 0.073056541, 9.3336515e-05, 0.0]\n",
      "123.518489469\n",
      "27\n",
      "<eos> (S (NP chicago investor william <cunk> )NP (VP agreed (S (VP to (VP sell (NP (NP three divisions )NP (PP of (NP <cunk> peabody & co. )NP )PP )NP (PP for (NP (QP about $ 600 million )QP )NP )PP (PP to (NP (NP <cunk> s.a. )NP , (NP a (ADJP closely held )ADJP clothing maker )NP (VP based (PP in (NP paris )NP )PP )VP )NP )PP )VP )VP )S )VP . )S <eos>\n",
      "10 4 0 600 659 933 21 1 2 405 4 2 15 2 237 0 0 181 2887 1 6 14 0 21 2708 131 140 1 7 1 6 29 0 26 76 34 3147 49 27 1 7 6 15 0 0 21 2239 1 8 0 16 23 1315 503 24 4396 424 1 2 371 6 19 0 1708 1 7 3 1 7 3 3 5 3 11 5 10\n",
      "[0.14039509, 0.37050453, 8.7272491, 7.4975147, 4.7461686, 1.5085186, 0.029631454, 0.072125293, 4.7947783, 0.20175381, 0.0078809038, 0.011764786, 0.0027683766, 2.8256431, 0.097604081, 0.43660924, 5.3239441, 5.7857985, 0.011781988, 0.99545848, 3.6074476, 0.012716044, 3.5414619, 10.001749, 5.1410384, 0.58174956, 0.048040409, 1.1920928e-07, 0.44545165, 0.26398975, 1.0866207, 0.032341387, 1.9302927, 1.7214978, 0.14138071, 5.1016698, 0.055371586, 0.0014659145, 0.00010918975, 7.7363838e-05, 1.3645833, 3.5706358, 0.0080351206, 0.8421092, 2.5574591, 4.3584027, 0.098203123, 0.08864145, 0.1146792, 1.6156864, 2.7159116, 1.5568914, 0.0051991255, 5.7934038e-05, 10.602847, 3.6997595, 0.003019419, 14.306772, 0.97695291, 0.019506294, 0.048596185, 0.0081675574, 5.7731171, 0.01833163, 0.0, 0.0027306909, 0.010727358, 1.060957e-05, 0.0038849846, 0.00014363688, 2.5033919e-06, 0.0052376669, 0.013355908, 8.4158215e-05, 0.0]\n",
      "131.692107754\n",
      "28\n",
      "<eos> (S (NP chicago investor william <cunk> )NP (VP agreed (S (VP to (VP sell (NP (NP (NP three divisions )NP (PP of (NP <cunk> peabody & co. )NP )PP )NP (PP for (NP (QP about $ 600 million )QP )NP )PP )NP (PP to (NP (NP <cunk> s.a. )NP , (NP (NP a (ADJP closely held )ADJP clothing maker )NP (VP based (PP in (NP paris )NP )PP )VP )NP )NP )PP )VP )VP )S )VP . )S <eos>\n",
      "10 4 0 600 659 933 21 1 2 405 4 2 15 2 237 0 0 0 181 2887 1 6 14 0 21 2708 131 140 1 7 1 6 29 0 26 76 34 3147 49 27 1 7 1 6 15 0 0 21 2239 1 8 0 0 16 23 1315 503 24 4396 424 1 2 371 6 19 0 1708 1 7 3 1 1 7 3 3 5 3 11 5 10\n",
      "[0.14039509, 0.37050453, 8.7272491, 7.4975147, 4.7461686, 1.5085186, 0.029631454, 0.072125293, 4.7947783, 0.20175381, 0.0078809038, 0.011764786, 0.0027683766, 2.8256431, 0.097604081, 0.43660924, 2.2668948, 6.0370617, 5.7029939, 0.034489386, 0.87890702, 2.8756433, 0.0088828877, 3.2411652, 10.247384, 6.1899962, 0.66902232, 0.029244499, 0.0, 0.078416474, 2.4958138, 1.3797133, 0.007802722, 4.4034691, 1.4766234, 0.6272192, 4.6294403, 0.057011869, 0.0026979973, 0.00010132276, 2.7418098e-06, 0.22577175, 0.35173008, 2.0556378, 0.0058023352, 0.9264797, 2.5676441, 4.2282171, 0.089282408, 0.080865942, 0.098434344, 0.39478505, 0.58604586, 3.5701404, 0.57310355, 0.0071469839, 4.8874615e-05, 10.739552, 3.7628405, 0.0037646866, 0.96808147, 0.60454428, 0.0066869296, 0.00073084346, 0.0023435291, 5.5393496, 0.0078123026, 0.0, 0.00031728478, 0.013323207, 0.027353751, 4.4702483e-05, 0.0043365965, 4.887569e-06, 6.4372807e-06, 0.0062054577, 0.013823251, 4.9589835e-05, 0.0]\n",
      "122.273214676\n",
      "29\n",
      "<eos> (S (NP chicago investor william <cunk> )NP (VP agreed (S (VP to (VP sell (NP (NP three divisions )NP (PP of (NP <cunk> peabody & co. )NP )PP )NP (PP (PP for (NP (QP about $ 600 million )QP )NP )PP (PP to (NP (NP <cunk> s.a. )NP , (NP (NP a (ADJP closely held )ADJP clothing maker )NP (VP based (PP in (NP paris )NP )PP )VP )NP )NP )PP )PP )VP )VP )S )VP . )S <eos>\n",
      "10 4 0 600 659 933 21 1 2 405 4 2 15 2 237 0 0 181 2887 1 6 14 0 21 2708 131 140 1 7 1 6 6 29 0 26 76 34 3147 49 27 1 7 6 15 0 0 21 2239 1 8 0 0 16 23 1315 503 24 4396 424 1 2 371 6 19 0 1708 1 7 3 1 1 7 7 3 3 5 3 11 5 10\n",
      "[0.14039509, 0.37050453, 8.7272491, 7.4975147, 4.7461686, 1.5085186, 0.029631454, 0.072125293, 4.7947783, 0.20175381, 0.0078809038, 0.011764786, 0.0027683766, 2.8256431, 0.097604081, 0.43660924, 5.3239441, 5.7857985, 0.011781988, 0.99545848, 3.6074476, 0.012716044, 3.5414619, 10.001749, 5.1410384, 0.58174956, 0.048040409, 1.1920928e-07, 0.44545165, 0.26398975, 4.5588498, 1.9364477, 0.027168725, 2.8673429, 1.8928902, 0.28191781, 4.7528024, 0.069468483, 0.0021710652, 0.00022790219, 0.00067866658, 1.633922, 0.33769149, 0.0087305745, 0.58418661, 4.0038643, 5.70608, 0.61874443, 0.084710702, 0.18271223, 0.37956136, 0.58793116, 3.0637224, 1.0900315, 0.0086966576, 4.0649542e-05, 10.320351, 3.8489861, 0.0051532299, 0.91537899, 0.74388927, 0.0063964161, 0.0023010701, 0.0052797645, 5.6214466, 0.0093583493, 0.0, 0.00039557737, 0.012975899, 0.03012052, 0.00052700459, 0.002743768, 0.0030884685, 7.9869906e-06, 8.7022399e-06, 0.0048017665, 0.073056541, 9.3336515e-05, 0.0]\n",
      "123.518489469\n",
      "30\n",
      "<eos> (S (NP chicago investor william <cunk> )NP (VP agreed (S (VP to (VP sell (NP (NP three divisions )NP (PP of (NP <cunk> peabody & co. )NP )PP )NP (PP for (NP (QP about $ 600 million )QP )NP )PP (PP to (NP (NP <cunk> s.a. )NP , (NP a (ADJP closely held )ADJP clothing maker )NP (VP based (PP in (NP paris )NP )PP )VP )NP )PP )VP )VP )S )VP . )S <eos>\n",
      "10 4 0 600 659 933 21 1 2 405 4 2 15 2 237 0 0 181 2887 1 6 14 0 21 2708 131 140 1 7 1 6 29 0 26 76 34 3147 49 27 1 7 6 15 0 0 21 2239 1 8 0 16 23 1315 503 24 4396 424 1 2 371 6 19 0 1708 1 7 3 1 7 3 3 5 3 11 5 10\n",
      "[0.14039509, 0.37050453, 8.7272491, 7.4975147, 4.7461686, 1.5085186, 0.029631454, 0.072125293, 4.7947783, 0.20175381, 0.0078809038, 0.011764786, 0.0027683766, 2.8256431, 0.097604081, 0.43660924, 5.3239441, 5.7857985, 0.011781988, 0.99545848, 3.6074476, 0.012716044, 3.5414619, 10.001749, 5.1410384, 0.58174956, 0.048040409, 1.1920928e-07, 0.44545165, 0.26398975, 1.0866207, 0.032341387, 1.9302927, 1.7214978, 0.14138071, 5.1016698, 0.055371586, 0.0014659145, 0.00010918975, 7.7363838e-05, 1.3645833, 3.5706358, 0.0080351206, 0.8421092, 2.5574591, 4.3584027, 0.098203123, 0.08864145, 0.1146792, 1.6156864, 2.7159116, 1.5568914, 0.0051991255, 5.7934038e-05, 10.602847, 3.6997595, 0.003019419, 14.306772, 0.97695291, 0.019506294, 0.048596185, 0.0081675574, 5.7731171, 0.01833163, 0.0, 0.0027306909, 0.010727358, 1.060957e-05, 0.0038849846, 0.00014363688, 2.5033919e-06, 0.0052376669, 0.013355908, 8.4158215e-05, 0.0]\n",
      "131.692107754\n",
      "31\n",
      "<eos> (S (NP chicago investor william <cunk> )NP (VP agreed (S (VP to (VP sell (NP (NP three divisions )NP (PP of (NP <cunk> peabody & co. )NP )PP )NP (PP for (NP (QP about $ 600 million )QP )NP )PP (PP to (NP (NP <cunk> s.a. )NP , (NP (NP a (ADJP closely held )ADJP clothing maker )NP (VP based (PP in (NP paris )NP )PP )VP )NP )NP )PP )VP )VP )S )VP . )S <eos>\n",
      "10 4 0 600 659 933 21 1 2 405 4 2 15 2 237 0 0 181 2887 1 6 14 0 21 2708 131 140 1 7 1 6 29 0 26 76 34 3147 49 27 1 7 6 15 0 0 21 2239 1 8 0 0 16 23 1315 503 24 4396 424 1 2 371 6 19 0 1708 1 7 3 1 1 7 3 3 5 3 11 5 10\n",
      "[0.14039509, 0.37050453, 8.7272491, 7.4975147, 4.7461686, 1.5085186, 0.029631454, 0.072125293, 4.7947783, 0.20175381, 0.0078809038, 0.011764786, 0.0027683766, 2.8256431, 0.097604081, 0.43660924, 5.3239441, 5.7857985, 0.011781988, 0.99545848, 3.6074476, 0.012716044, 3.5414619, 10.001749, 5.1410384, 0.58174956, 0.048040409, 1.1920928e-07, 0.44545165, 0.26398975, 1.0866207, 0.032341387, 1.9302927, 1.7214978, 0.14138071, 5.1016698, 0.055371586, 0.0014659145, 0.00010918975, 7.7363838e-05, 1.3645833, 3.5706358, 0.0080351206, 0.8421092, 2.5574591, 4.3584027, 0.098203123, 0.08864145, 0.1146792, 0.40159604, 0.58458161, 3.5341103, 0.60119003, 0.0068182433, 5.1139479e-05, 10.775528, 3.853267, 0.0040032496, 0.93329203, 0.61584514, 0.006534637, 0.00078682933, 0.0026110862, 5.515213, 0.0076064714, 0.0, 0.00037281716, 0.012538179, 0.016624259, 4.0053521e-05, 0.0034050127, 4.887569e-06, 6.4372807e-06, 0.0046727983, 0.028708324, 6.079489e-05, 0.0]\n",
      "117.214582124\n",
      "32\n",
      "<eos> (S (NP chicago investor william <cunk> )NP (VP agreed (S (VP to (VP sell (NP (NP three divisions )NP (PP of (NP <cunk> peabody & co. )NP )PP )NP (PP for about (NP (QP $ 600 million )QP )NP )PP (PP to (NP (NP <cunk> s.a. )NP , (NP (NP a (ADJP closely held )ADJP clothing maker )NP (VP based (PP in (NP paris )NP )PP )VP )NP )NP )PP )VP )VP )S )VP . )S <eos>\n",
      "10 4 0 600 659 933 21 1 2 405 4 2 15 2 237 0 0 181 2887 1 6 14 0 21 2708 131 140 1 7 1 6 29 76 0 26 34 3147 49 27 1 7 6 15 0 0 21 2239 1 8 0 0 16 23 1315 503 24 4396 424 1 2 371 6 19 0 1708 1 7 3 1 1 7 3 3 5 3 11 5 10\n",
      "[0.14039509, 0.37050453, 8.7272491, 7.4975147, 4.7461686, 1.5085186, 0.029631454, 0.072125293, 4.7947783, 0.20175381, 0.0078809038, 0.011764786, 0.0027683766, 2.8256431, 0.097604081, 0.43660924, 5.3239441, 5.7857985, 0.011781988, 0.99545848, 3.6074476, 0.012716044, 3.5414619, 10.001749, 5.1410384, 0.58174956, 0.048040409, 1.1920928e-07, 0.44545165, 0.26398975, 1.0866207, 19.600422, 0.14349872, 2.3515048, 0.91853857, 5.6486945, 0.055772129, 0.0074009527, 0.00019786785, 7.2238217e-05, 2.1775639, 3.92747, 0.011387472, 0.75274837, 2.742033, 4.4839363, 0.11518429, 0.096470736, 0.1234244, 0.40794405, 0.59425586, 3.5188522, 0.61294073, 0.0067333472, 4.8874615e-05, 10.773298, 3.8544598, 0.0041008433, 0.93165547, 0.5992434, 0.0065946802, 0.00083328329, 0.0026846817, 5.509747, 0.0074046212, 0.0, 0.00038163533, 0.012427983, 0.015376004, 4.8874615e-05, 0.0030427133, 5.3644035e-06, 5.9604467e-06, 0.0042427056, 0.043240372, 6.258292e-05, 0.0]\n",
      "138.38410987\n",
      "33\n",
      "<eos> (S (NP chicago investor william <cunk> )NP (VP agreed (S (VP to (VP sell (NP (NP three divisions )NP (PP of (NP <cunk> peabody & co. )NP )PP )NP (PP for (NP (NP (QP about $ 600 million )QP )NP (PP to (NP (NP <cunk> s.a. )NP , (NP (NP a (ADJP closely held )ADJP clothing maker )NP (VP based (PP in (NP paris )NP )PP )VP )NP )NP )PP )NP )PP )VP )VP )S )VP . )S <eos>\n",
      "10 4 0 600 659 933 21 1 2 405 4 2 15 2 237 0 0 181 2887 1 6 14 0 21 2708 131 140 1 7 1 6 29 0 0 26 76 34 3147 49 27 1 6 15 0 0 21 2239 1 8 0 0 16 23 1315 503 24 4396 424 1 2 371 6 19 0 1708 1 7 3 1 1 7 1 7 3 3 5 3 11 5 10\n",
      "[0.14039509, 0.37050453, 8.7272491, 7.4975147, 4.7461686, 1.5085186, 0.029631454, 0.072125293, 4.7947783, 0.20175381, 0.0078809038, 0.011764786, 0.0027683766, 2.8256431, 0.097604081, 0.43660924, 5.3239441, 5.7857985, 0.011781988, 0.99545848, 3.6074476, 0.012716044, 3.5414619, 10.001749, 5.1410384, 0.58174956, 0.048040409, 1.1920928e-07, 0.44545165, 0.26398975, 1.0866207, 0.032341387, 0.43000948, 1.3787619, 1.4054706, 0.20905852, 5.0403562, 0.067753725, 0.00095583993, 5.4477161e-05, 0.50584495, 9.2614689, 0.00036507141, 0.84670931, 2.8788772, 5.833396, 0.5949775, 0.073592499, 0.17218168, 0.35459992, 0.54108191, 2.4616313, 1.2950341, 0.011812972, 2.7656173e-05, 10.324221, 3.5395029, 0.0067153489, 1.0158498, 0.82635283, 0.0055438108, 0.001758578, 0.0042073308, 5.5857491, 0.0084778881, 0.0, 0.00041345155, 0.013349674, 0.018593891, 2.5152844e-05, 0.0017087158, 2.5510462e-05, 0.0022137677, 6.7949063e-06, 9.8943219e-06, 0.0039627608, 0.096342564, 9.0118163e-05, 0.0]\n",
      "123.16964188\n",
      "34\n",
      "<eos> (S (NP chicago investor william <cunk> )NP (VP agreed (S (VP to (VP sell (NP three divisions )NP (PP of (NP <cunk> peabody & co. )NP )PP (PP for (NP (QP about $ 600 million )QP )NP )PP (PP to (NP (NP <cunk> s.a. )NP , (NP (NP a (ADJP closely held )ADJP clothing maker )NP (VP based (PP in (NP paris )NP )PP )VP )NP )NP )PP )VP )VP )S )VP . )S <eos>\n",
      "10 4 0 600 659 933 21 1 2 405 4 2 15 2 237 0 181 2887 1 6 14 0 21 2708 131 140 1 7 6 29 0 26 76 34 3147 49 27 1 7 6 15 0 0 21 2239 1 8 0 0 16 23 1315 503 24 4396 424 1 2 371 6 19 0 1708 1 7 3 1 1 7 3 3 5 3 11 5 10\n",
      "[0.14039509, 0.37050453, 8.7272491, 7.4975147, 4.7461686, 1.5085186, 0.029631454, 0.072125293, 4.7947783, 0.20175381, 0.0078809038, 0.011764786, 0.0027683766, 2.8256431, 0.097604081, 6.7161322, 5.9032335, 0.0062526083, 0.48495716, 7.0246806, 0.052709185, 5.2227263, 8.3438072, 5.0273776, 0.62992072, 0.060811862, 2.3841855e-07, 0.59518886, 0.94770342, 0.041776054, 0.9230864, 1.7025046, 0.093510367, 5.3302493, 0.064194188, 0.00088116433, 6.7231776e-05, 0.00012516193, 2.0935419, 4.3235154, 0.00892046, 0.87184572, 2.3949773, 4.4421663, 0.084029108, 0.10094859, 0.1080272, 0.41456705, 0.58081555, 3.5588675, 0.58144385, 0.0069134315, 4.3391239e-05, 10.956297, 4.0345201, 0.0040079989, 0.93872893, 0.61788124, 0.0063758059, 0.00074168353, 0.0026760027, 5.4539237, 0.0070909979, 0.0, 0.00037925204, 0.011811323, 0.014529614, 5.6980418e-05, 0.0030526964, 5.1259863e-06, 6.3180723e-06, 0.0040861219, 0.041626267, 7.8675039e-05, 0.0]\n",
      "121.874695379\n",
      "35\n",
      "<eos> (S (NP chicago investor william <cunk> )NP (VP agreed (S (VP to (VP sell (NP (NP three divisions )NP (PP of (NP <cunk> peabody & co. )NP )PP )NP (PP for (NP (QP about $ 600 million )QP )NP )PP (PP to (NP (NP <cunk> s.a. )NP , (NP (NP a (ADJP closely held )ADJP clothing maker )NP (VP based (PP in (NP paris )NP )PP )VP )NP )NP )PP )VP )VP )S )VP . )S <eos>\n",
      "10 4 0 600 659 933 21 1 2 405 4 2 15 2 237 0 0 181 2887 1 6 14 0 21 2708 131 140 1 7 1 6 29 0 26 76 34 3147 49 27 1 7 6 15 0 0 21 2239 1 8 0 0 16 23 1315 503 24 4396 424 1 2 371 6 19 0 1708 1 7 3 1 1 7 3 3 5 3 11 5 10\n",
      "[0.14039509, 0.37050453, 8.7272491, 7.4975147, 4.7461686, 1.5085186, 0.029631454, 0.072125293, 4.7947783, 0.20175381, 0.0078809038, 0.011764786, 0.0027683766, 2.8256431, 0.097604081, 0.43660924, 5.3239441, 5.7857985, 0.011781988, 0.99545848, 3.6074476, 0.012716044, 3.5414619, 10.001749, 5.1410384, 0.58174956, 0.048040409, 1.1920928e-07, 0.44545165, 0.26398975, 1.0866207, 0.032341387, 1.9302927, 1.7214978, 0.14138071, 5.1016698, 0.055371586, 0.0014659145, 0.00010918975, 7.7363838e-05, 1.3645833, 3.5706358, 0.0080351206, 0.8421092, 2.5574591, 4.3584027, 0.098203123, 0.08864145, 0.1146792, 0.40159604, 0.58458161, 3.5341103, 0.60119003, 0.0068182433, 5.1139479e-05, 10.775528, 3.853267, 0.0040032496, 0.93329203, 0.61584514, 0.006534637, 0.00078682933, 0.0026110862, 5.515213, 0.0076064714, 0.0, 0.00037281716, 0.012538179, 0.016624259, 4.0053521e-05, 0.0034050127, 4.887569e-06, 6.4372807e-06, 0.0046727983, 0.028708324, 6.079489e-05, 0.0]\n",
      "117.214582124\n",
      "36\n",
      "<eos> (S (NP chicago investor william <cunk> )NP (VP agreed (S (VP to (VP sell (NP (NP three divisions )NP (PP of (NP <cunk> peabody & co. )NP )PP )NP (PP for (NP (QP about $ 600 million )QP )NP )PP (PP to (NP (NP <cunk> s.a. )NP , (NP (NP a (ADJP closely held )ADJP clothing maker )NP (PP based (PP in (NP paris )NP )PP )PP )NP )NP )PP )VP )VP )S )VP . )S <eos>\n",
      "10 4 0 600 659 933 21 1 2 405 4 2 15 2 237 0 0 181 2887 1 6 14 0 21 2708 131 140 1 7 1 6 29 0 26 76 34 3147 49 27 1 7 6 15 0 0 21 2239 1 8 0 0 16 23 1315 503 24 4396 424 1 6 371 6 19 0 1708 1 7 7 1 1 7 3 3 5 3 11 5 10\n",
      "[0.14039509, 0.37050453, 8.7272491, 7.4975147, 4.7461686, 1.5085186, 0.029631454, 0.072125293, 4.7947783, 0.20175381, 0.0078809038, 0.011764786, 0.0027683766, 2.8256431, 0.097604081, 0.43660924, 5.3239441, 5.7857985, 0.011781988, 0.99545848, 3.6074476, 0.012716044, 3.5414619, 10.001749, 5.1410384, 0.58174956, 0.048040409, 1.1920928e-07, 0.44545165, 0.26398975, 1.0866207, 0.032341387, 1.9302927, 1.7214978, 0.14138071, 5.1016698, 0.055371586, 0.0014659145, 0.00010918975, 7.7363838e-05, 1.3645833, 3.5706358, 0.0080351206, 0.8421092, 2.5574591, 4.3584027, 0.098203123, 0.08864145, 0.1146792, 0.40159604, 0.58458161, 3.5341103, 0.60119003, 0.0068182433, 5.1139479e-05, 10.775528, 3.853267, 0.0040032496, 1.1810852, 5.8685904, 0.00047994062, 0.26093537, 0.00047159992, 6.3139105, 0.011402912, 0.0, 6.7112574e-05, 0.0086908676, 0.020220222, 0.00010692501, 0.005414227, 7.9869906e-06, 8.8214483e-06, 0.0059911194, 0.01717234, 8.2966224e-05, 0.0]\n",
      "123.760897825\n",
      "37\n",
      "<eos> (S (NP chicago investor william <cunk> )NP (VP agreed (S (VP to (VP sell (NP (NP three divisions )NP (PP of (NP <cunk> peabody & co. )NP )PP )NP (PP for (NP about (QP $ 600 million )QP )NP )PP (PP to (NP (NP <cunk> s.a. )NP , (NP (NP a (ADJP closely held )ADJP clothing maker )NP (VP based (PP in (NP paris )NP )PP )VP )NP )NP )PP )VP )VP )S )VP . )S <eos>\n",
      "10 4 0 600 659 933 21 1 2 405 4 2 15 2 237 0 0 181 2887 1 6 14 0 21 2708 131 140 1 7 1 6 29 0 76 26 34 3147 49 27 1 7 6 15 0 0 21 2239 1 8 0 0 16 23 1315 503 24 4396 424 1 2 371 6 19 0 1708 1 7 3 1 1 7 3 3 5 3 11 5 10\n",
      "[0.14039509, 0.37050453, 8.7272491, 7.4975147, 4.7461686, 1.5085186, 0.029631454, 0.072125293, 4.7947783, 0.20175381, 0.0078809038, 0.011764786, 0.0027683766, 2.8256431, 0.097604081, 0.43660924, 5.3239441, 5.7857985, 0.011781988, 0.99545848, 3.6074476, 0.012716044, 3.5414619, 10.001749, 5.1410384, 0.58174956, 0.048040409, 1.1920928e-07, 0.44545165, 0.26398975, 1.0866207, 0.032341387, 7.3678217, 3.1721566, 0.78937012, 5.6033177, 0.05769356, 0.0061504855, 0.0001973911, 4.1245563e-05, 1.70683, 3.582854, 0.008240154, 0.80715036, 2.4478803, 4.4005947, 0.09395355, 0.093186677, 0.10888477, 0.41233051, 0.59096307, 3.5611358, 0.58842534, 0.0064684306, 5.078187e-05, 10.775202, 3.8578784, 0.0040947888, 0.92883563, 0.60814947, 0.0064536254, 0.00077027211, 0.002641405, 5.5054312, 0.0076372307, 0.0, 0.0003756771, 0.01249462, 0.016201153, 4.3272037e-05, 0.0032921424, 5.1259863e-06, 6.5564896e-06, 0.0044419905, 0.027781209, 6.2344516e-05, 0.0]\n",
      "125.517994955\n",
      "38\n",
      "<eos> (S (NP chicago investor william <cunk> )NP (VP agreed (S (VP to (VP sell (NP (NP three divisions )NP (PP of (NP (NP <cunk> peabody & co. )NP (PP for (NP (QP about $ 600 million )QP )NP )PP )NP )PP )NP )VP )VP )S (PP to (NP (NP <cunk> s.a. )NP , (NP (NP a (ADJP closely held )ADJP clothing maker )NP (VP based (PP in (NP paris )NP )PP )VP )NP )NP )PP )VP . )S <eos>\n",
      "10 4 0 600 659 933 21 1 2 405 4 2 15 2 237 0 0 181 2887 1 6 14 0 0 21 2708 131 140 1 6 29 0 26 76 34 3147 49 27 1 7 1 7 1 3 3 5 6 15 0 0 21 2239 1 8 0 0 16 23 1315 503 24 4396 424 1 2 371 6 19 0 1708 1 7 3 1 1 7 3 11 5 10\n",
      "[0.14039509, 0.37050453, 8.7272491, 7.4975147, 4.7461686, 1.5085186, 0.029631454, 0.072125293, 4.7947783, 0.20175381, 0.0078809038, 0.011764786, 0.0027683766, 2.8256431, 0.097604081, 0.43660924, 5.3239441, 5.7857985, 0.011781988, 0.99545848, 3.6074476, 0.012716044, 0.86079204, 2.8351851, 10.429846, 4.9761214, 0.34500456, 0.12931708, 3.0706806, 3.8553133, 0.00039510074, 6.158546, 1.7398697, 1.2179781, 4.6506491, 0.1621896, 0.0015714928, 8.5827007e-05, 7.1525551e-07, 0.068954006, 2.3841855e-07, 0.11915655, 1.6432465, 6.3059728e-05, 0.00059038849, 2.5713847, 4.9840903, 0.047497395, 0.52220476, 3.1939344, 5.2630768, 0.096021086, 0.11097655, 0.16870169, 0.40557358, 0.6230514, 3.6532257, 0.61474603, 0.0078510987, 3.2185992e-05, 10.907011, 4.4752421, 0.0034919733, 0.86506581, 0.67827272, 0.0066416943, 0.0007165487, 0.0024067978, 5.3772874, 0.0061912411, 0.0, 0.00028129434, 0.011466788, 0.010449223, 2.2291888e-05, 0.0022713358, 0.0041649509, 9.7270051e-05, 0.0]\n",
      "134.087061241\n",
      "39\n",
      "<eos> (S (NP chicago investor william <cunk> )NP (VP agreed (S (VP to (VP sell (NP (NP three divisions )NP (PP of (NP <cunk> peabody & co. )NP )PP )NP (PP for (NP (NP (QP about $ 600 million )QP )NP (PP to (NP (NP <cunk> s.a. )NP , (NP (NP a (ADJP closely held )ADJP clothing maker )NP (VP based (PP in (NP paris )NP )PP )VP )NP )NP )PP )NP )PP )VP )VP )S )VP . )S <eos>\n",
      "10 4 0 600 659 933 21 1 2 405 4 2 15 2 237 0 0 181 2887 1 6 14 0 21 2708 131 140 1 7 1 6 29 0 0 26 76 34 3147 49 27 1 6 15 0 0 21 2239 1 8 0 0 16 23 1315 503 24 4396 424 1 2 371 6 19 0 1708 1 7 3 1 1 7 1 7 3 3 5 3 11 5 10\n",
      "[0.14039509, 0.37050453, 8.7272491, 7.4975147, 4.7461686, 1.5085186, 0.029631454, 0.072125293, 4.7947783, 0.20175381, 0.0078809038, 0.011764786, 0.0027683766, 2.8256431, 0.097604081, 0.43660924, 5.3239441, 5.7857985, 0.011781988, 0.99545848, 3.6074476, 0.012716044, 3.5414619, 10.001749, 5.1410384, 0.58174956, 0.048040409, 1.1920928e-07, 0.44545165, 0.26398975, 1.0866207, 0.032341387, 0.43000948, 1.3787619, 1.4054706, 0.20905852, 5.0403562, 0.067753725, 0.00095583993, 5.4477161e-05, 0.50584495, 9.2614689, 0.00036507141, 0.84670931, 2.8788772, 5.833396, 0.5949775, 0.073592499, 0.17218168, 0.35459992, 0.54108191, 2.4616313, 1.2950341, 0.011812972, 2.7656173e-05, 10.324221, 3.5395029, 0.0067153489, 1.0158498, 0.82635283, 0.0055438108, 0.001758578, 0.0042073308, 5.5857491, 0.0084778881, 0.0, 0.00041345155, 0.013349674, 0.018593891, 2.5152844e-05, 0.0017087158, 2.5510462e-05, 0.0022137677, 6.7949063e-06, 9.8943219e-06, 0.0039627608, 0.096342564, 9.0118163e-05, 0.0]\n",
      "123.16964188\n",
      "40\n",
      "<eos> (S (NP chicago investor william <cunk> )NP (VP agreed (S (VP to (VP sell (NP three divisions )NP (PP of (NP <cunk> peabody & co. )NP )PP (PP for (NP (QP about $ 600 million )QP )NP )PP (PP to (NP (NP <cunk> s.a. )NP , (NP (NP a (ADJP closely held )ADJP clothing maker )NP (VP based (PP in (NP paris )NP )PP )VP )NP )NP )PP )VP )VP )S )VP . )S <eos>\n",
      "10 4 0 600 659 933 21 1 2 405 4 2 15 2 237 0 181 2887 1 6 14 0 21 2708 131 140 1 7 6 29 0 26 76 34 3147 49 27 1 7 6 15 0 0 21 2239 1 8 0 0 16 23 1315 503 24 4396 424 1 2 371 6 19 0 1708 1 7 3 1 1 7 3 3 5 3 11 5 10\n",
      "[0.14039509, 0.37050453, 8.7272491, 7.4975147, 4.7461686, 1.5085186, 0.029631454, 0.072125293, 4.7947783, 0.20175381, 0.0078809038, 0.011764786, 0.0027683766, 2.8256431, 0.097604081, 6.7161322, 5.9032335, 0.0062526083, 0.48495716, 7.0246806, 0.052709185, 5.2227263, 8.3438072, 5.0273776, 0.62992072, 0.060811862, 2.3841855e-07, 0.59518886, 0.94770342, 0.041776054, 0.9230864, 1.7025046, 0.093510367, 5.3302493, 0.064194188, 0.00088116433, 6.7231776e-05, 0.00012516193, 2.0935419, 4.3235154, 0.00892046, 0.87184572, 2.3949773, 4.4421663, 0.084029108, 0.10094859, 0.1080272, 0.41456705, 0.58081555, 3.5588675, 0.58144385, 0.0069134315, 4.3391239e-05, 10.956297, 4.0345201, 0.0040079989, 0.93872893, 0.61788124, 0.0063758059, 0.00074168353, 0.0026760027, 5.4539237, 0.0070909979, 0.0, 0.00037925204, 0.011811323, 0.014529614, 5.6980418e-05, 0.0030526964, 5.1259863e-06, 6.3180723e-06, 0.0040861219, 0.041626267, 7.8675039e-05, 0.0]\n",
      "121.874695379\n",
      "41\n",
      "<eos> (S (NP chicago investor william <cunk> )NP (VP agreed (S (VP to (VP sell (NP (NP three divisions )NP (PP of (NP (NP <cunk> peabody & co. )NP (PP for (NP (QP about $ 600 million )QP )NP )PP )NP )PP )NP (PP to (NP (NP <cunk> s.a. )NP , (NP (NP a (ADJP closely held clothing )ADJP maker )NP (VP based (PP in (NP paris )NP )PP )VP )NP )NP )PP )VP )VP )S )VP . )S <eos>\n",
      "10 4 0 600 659 933 21 1 2 405 4 2 15 2 237 0 0 181 2887 1 6 14 0 0 21 2708 131 140 1 6 29 0 26 76 34 3147 49 27 1 7 1 7 1 6 15 0 0 21 2239 1 8 0 0 16 23 1315 503 4396 24 424 1 2 371 6 19 0 1708 1 7 3 1 1 7 3 3 5 3 11 5 10\n",
      "[0.14039509, 0.37050453, 8.7272491, 7.4975147, 4.7461686, 1.5085186, 0.029631454, 0.072125293, 4.7947783, 0.20175381, 0.0078809038, 0.011764786, 0.0027683766, 2.8256431, 0.097604081, 0.43660924, 5.3239441, 5.7857985, 0.011781988, 0.99545848, 3.6074476, 0.012716044, 0.86079204, 2.8351851, 10.429846, 4.9761214, 0.34500456, 0.12931708, 3.0706806, 3.8553133, 0.00039510074, 6.158546, 1.7398697, 1.2179781, 4.6506491, 0.1621896, 0.0015714928, 8.5827007e-05, 7.1525551e-07, 0.068954006, 2.3841855e-07, 0.11915655, 0.51637733, 2.2826533, 0.0044986, 0.82850194, 2.2712023, 4.408915, 0.075271189, 0.087375224, 0.097649597, 0.39566031, 0.57391435, 3.6512566, 0.52221048, 0.0071705375, 24.407621, 0.64206147, 3.3771029, 0.001538166, 3.5622089, 0.6929704, 0.0029407372, 0.00087961601, 0.001194955, 5.6602964, 0.010511392, 0.0, 0.00026437125, 0.013498933, 0.026007678, 1.9311718e-05, 0.003891872, 3.5762723e-06, 4.6491514e-06, 0.006057831, 0.014616906, 4.3868058e-05, 0.0]\n",
      "141.976105211\n",
      "42\n",
      "<eos> (S (NP chicago investor william <cunk> )NP (VP agreed (S (VP to (VP sell (NP (NP three divisions )NP (PP of (NP <cunk> peabody & co. )NP )PP )NP (PP for (NP (QP about $ 600 million )QP )NP )PP (PP to (NP (NP <cunk> s.a. )NP , (NP (NP a (ADJP closely held )ADJP clothing maker )NP (PP based (PP in (NP paris )NP )PP )PP )NP )NP )PP )VP )VP )S )VP . )S <eos>\n",
      "10 4 0 600 659 933 21 1 2 405 4 2 15 2 237 0 0 181 2887 1 6 14 0 21 2708 131 140 1 7 1 6 29 0 26 76 34 3147 49 27 1 7 6 15 0 0 21 2239 1 8 0 0 16 23 1315 503 24 4396 424 1 6 371 6 19 0 1708 1 7 7 1 1 7 3 3 5 3 11 5 10\n",
      "[0.14039509, 0.37050453, 8.7272491, 7.4975147, 4.7461686, 1.5085186, 0.029631454, 0.072125293, 4.7947783, 0.20175381, 0.0078809038, 0.011764786, 0.0027683766, 2.8256431, 0.097604081, 0.43660924, 5.3239441, 5.7857985, 0.011781988, 0.99545848, 3.6074476, 0.012716044, 3.5414619, 10.001749, 5.1410384, 0.58174956, 0.048040409, 1.1920928e-07, 0.44545165, 0.26398975, 1.0866207, 0.032341387, 1.9302927, 1.7214978, 0.14138071, 5.1016698, 0.055371586, 0.0014659145, 0.00010918975, 7.7363838e-05, 1.3645833, 3.5706358, 0.0080351206, 0.8421092, 2.5574591, 4.3584027, 0.098203123, 0.08864145, 0.1146792, 0.40159604, 0.58458161, 3.5341103, 0.60119003, 0.0068182433, 5.1139479e-05, 10.775528, 3.853267, 0.0040032496, 1.1810852, 5.8685904, 0.00047994062, 0.26093537, 0.00047159992, 6.3139105, 0.011402912, 0.0, 6.7112574e-05, 0.0086908676, 0.020220222, 0.00010692501, 0.005414227, 7.9869906e-06, 8.8214483e-06, 0.0059911194, 0.01717234, 8.2966224e-05, 0.0]\n",
      "123.760897825\n",
      "43\n",
      "<eos> (S (NP chicago investor william <cunk> )NP (VP agreed (S (VP to (VP sell (NP (NP three divisions )NP (PP of (NP (NP <cunk> peabody & co. )NP (PP for (NP (QP about $ 600 million )QP )NP )PP )NP )PP (PP to (NP (NP <cunk> s.a. )NP , (NP (NP a (ADJP closely held )ADJP clothing maker )NP (VP based (PP in (NP paris )NP )PP )VP )NP )NP )PP )NP )VP )VP )S )VP . )S <eos>\n",
      "10 4 0 600 659 933 21 1 2 405 4 2 15 2 237 0 0 181 2887 1 6 14 0 0 21 2708 131 140 1 6 29 0 26 76 34 3147 49 27 1 7 1 7 6 15 0 0 21 2239 1 8 0 0 16 23 1315 503 24 4396 424 1 2 371 6 19 0 1708 1 7 3 1 1 7 1 3 3 5 3 11 5 10\n",
      "[0.14039509, 0.37050453, 8.7272491, 7.4975147, 4.7461686, 1.5085186, 0.029631454, 0.072125293, 4.7947783, 0.20175381, 0.0078809038, 0.011764786, 0.0027683766, 2.8256431, 0.097604081, 0.43660924, 5.3239441, 5.7857985, 0.011781988, 0.99545848, 3.6074476, 0.012716044, 0.86079204, 2.8351851, 10.429846, 4.9761214, 0.34500456, 0.12931708, 3.0706806, 3.8553133, 0.00039510074, 6.158546, 1.7398697, 1.2179781, 4.6506491, 0.1621896, 0.0015714928, 8.5827007e-05, 7.1525551e-07, 0.068954006, 2.3841855e-07, 2.5600841, 2.7095428, 0.0017928493, 0.88205469, 1.9384573, 4.3928375, 0.10340407, 0.10585021, 0.10180548, 0.40959266, 0.56392759, 3.5619292, 0.53577042, 0.006336479, 4.5536912e-05, 10.713879, 3.8429518, 0.0043088216, 0.97871888, 0.61743611, 0.0064010355, 0.00056119903, 0.0023377014, 5.5268326, 0.0076122684, 0.0, 0.00028141352, 0.013280153, 0.029959723, 2.9921084e-05, 0.0023529246, 0.0038657475, 1.1682442e-05, 5.2451951e-06, 0.005812054, 0.04585975, 4.5536912e-05, 0.0]\n",
      "127.386530543\n",
      "44\n",
      "<eos> (S (NP chicago investor william <cunk> )NP (VP agreed (S (VP to (VP sell (NP (NP three divisions )NP (PP of (NP (NP <cunk> peabody & co. )NP (PP for (NP (QP about $ 600 million )QP )NP )PP )NP )PP )NP )VP )VP )S (PP to (NP (NP <cunk> s.a. )NP , (NP (NP a (ADJP closely held )ADJP clothing maker )NP (VP based (PP in (NP paris )NP )PP )VP )NP )NP )PP )VP . )S <eos>\n",
      "10 4 0 600 659 933 21 1 2 405 4 2 15 2 237 0 0 181 2887 1 6 14 0 0 21 2708 131 140 1 6 29 0 26 76 34 3147 49 27 1 7 1 7 1 3 3 5 6 15 0 0 21 2239 1 8 0 0 16 23 1315 503 24 4396 424 1 2 371 6 19 0 1708 1 7 3 1 1 7 3 11 5 10\n",
      "[0.14039509, 0.37050453, 8.7272491, 7.4975147, 4.7461686, 1.5085186, 0.029631454, 0.072125293, 4.7947783, 0.20175381, 0.0078809038, 0.011764786, 0.0027683766, 2.8256431, 0.097604081, 0.43660924, 5.3239441, 5.7857985, 0.011781988, 0.99545848, 3.6074476, 0.012716044, 0.86079204, 2.8351851, 10.429846, 4.9761214, 0.34500456, 0.12931708, 3.0706806, 3.8553133, 0.00039510074, 6.158546, 1.7398697, 1.2179781, 4.6506491, 0.1621896, 0.0015714928, 8.5827007e-05, 7.1525551e-07, 0.068954006, 2.3841855e-07, 0.11915655, 1.6432465, 6.3059728e-05, 0.00059038849, 2.5713847, 4.9840903, 0.047497395, 0.52220476, 3.1939344, 5.2630768, 0.096021086, 0.11097655, 0.16870169, 0.40557358, 0.6230514, 3.6532257, 0.61474603, 0.0078510987, 3.2185992e-05, 10.907011, 4.4752421, 0.0034919733, 0.86506581, 0.67827272, 0.0066416943, 0.0007165487, 0.0024067978, 5.3772874, 0.0061912411, 0.0, 0.00028129434, 0.011466788, 0.010449223, 2.2291888e-05, 0.0022713358, 0.0041649509, 9.7270051e-05, 0.0]\n",
      "134.087061241\n",
      "45\n",
      "<eos> (S (NP chicago investor william <cunk> )NP (VP agreed (S (VP to (VP sell (NP (NP three divisions )NP (PP of (NP (NP <cunk> peabody & co. )NP (PP for (NP (QP about $ 600 million )QP )NP )PP )NP )PP )NP (PP to (NP (NP <cunk> s.a. )NP , (NP (NP a (ADJP closely held clothing )ADJP maker )NP (VP based (PP in (NP paris )NP )PP )VP )NP )NP )PP )VP )VP )S )VP . )S <eos>\n",
      "10 4 0 600 659 933 21 1 2 405 4 2 15 2 237 0 0 181 2887 1 6 14 0 0 21 2708 131 140 1 6 29 0 26 76 34 3147 49 27 1 7 1 7 1 6 15 0 0 21 2239 1 8 0 0 16 23 1315 503 4396 24 424 1 2 371 6 19 0 1708 1 7 3 1 1 7 3 3 5 3 11 5 10\n",
      "[0.14039509, 0.37050453, 8.7272491, 7.4975147, 4.7461686, 1.5085186, 0.029631454, 0.072125293, 4.7947783, 0.20175381, 0.0078809038, 0.011764786, 0.0027683766, 2.8256431, 0.097604081, 0.43660924, 5.3239441, 5.7857985, 0.011781988, 0.99545848, 3.6074476, 0.012716044, 0.86079204, 2.8351851, 10.429846, 4.9761214, 0.34500456, 0.12931708, 3.0706806, 3.8553133, 0.00039510074, 6.158546, 1.7398697, 1.2179781, 4.6506491, 0.1621896, 0.0015714928, 8.5827007e-05, 7.1525551e-07, 0.068954006, 2.3841855e-07, 0.11915655, 0.51637733, 2.2826533, 0.0044986, 0.82850194, 2.2712023, 4.408915, 0.075271189, 0.087375224, 0.097649597, 0.39566031, 0.57391435, 3.6512566, 0.52221048, 0.0071705375, 24.407621, 0.64206147, 3.3771029, 0.001538166, 3.5622089, 0.6929704, 0.0029407372, 0.00087961601, 0.001194955, 5.6602964, 0.010511392, 0.0, 0.00026437125, 0.013498933, 0.026007678, 1.9311718e-05, 0.003891872, 3.5762723e-06, 4.6491514e-06, 0.006057831, 0.014616906, 4.3868058e-05, 0.0]\n",
      "141.976105211\n",
      "46\n",
      "<eos> (S (NP chicago investor william <cunk> )NP (VP agreed (S (VP to (VP sell (NP (NP three divisions )NP (PP of (NP (NP <cunk> peabody & co. )NP (PP for (NP (QP about $ 600 million )QP )NP )PP )NP )PP (PP to (NP (NP <cunk> s.a. )NP , (NP (NP a (ADJP closely held )ADJP clothing maker )NP (VP based (PP in (NP paris )NP )PP )VP )NP )NP )PP )NP )VP )VP )S )VP . )S <eos>\n",
      "10 4 0 600 659 933 21 1 2 405 4 2 15 2 237 0 0 181 2887 1 6 14 0 0 21 2708 131 140 1 6 29 0 26 76 34 3147 49 27 1 7 1 7 6 15 0 0 21 2239 1 8 0 0 16 23 1315 503 24 4396 424 1 2 371 6 19 0 1708 1 7 3 1 1 7 1 3 3 5 3 11 5 10\n",
      "[0.14039509, 0.37050453, 8.7272491, 7.4975147, 4.7461686, 1.5085186, 0.029631454, 0.072125293, 4.7947783, 0.20175381, 0.0078809038, 0.011764786, 0.0027683766, 2.8256431, 0.097604081, 0.43660924, 5.3239441, 5.7857985, 0.011781988, 0.99545848, 3.6074476, 0.012716044, 0.86079204, 2.8351851, 10.429846, 4.9761214, 0.34500456, 0.12931708, 3.0706806, 3.8553133, 0.00039510074, 6.158546, 1.7398697, 1.2179781, 4.6506491, 0.1621896, 0.0015714928, 8.5827007e-05, 7.1525551e-07, 0.068954006, 2.3841855e-07, 2.5600841, 2.7095428, 0.0017928493, 0.88205469, 1.9384573, 4.3928375, 0.10340407, 0.10585021, 0.10180548, 0.40959266, 0.56392759, 3.5619292, 0.53577042, 0.006336479, 4.5536912e-05, 10.713879, 3.8429518, 0.0043088216, 0.97871888, 0.61743611, 0.0064010355, 0.00056119903, 0.0023377014, 5.5268326, 0.0076122684, 0.0, 0.00028141352, 0.013280153, 0.029959723, 2.9921084e-05, 0.0023529246, 0.0038657475, 1.1682442e-05, 5.2451951e-06, 0.005812054, 0.04585975, 4.5536912e-05, 0.0]\n",
      "127.386530543\n",
      "47\n",
      "<eos> (S (NP chicago investor william <cunk> )NP (VP agreed (S (VP to (VP sell (NP (NP three divisions )NP (PP of (NP <cunk> peabody & co. )NP )PP )NP (PP for (NP (QP about $ 600 million )QP )NP )PP (PP to (NP (NP <cunk> s.a. )NP , (NP a (ADJP closely held )ADJP clothing maker )NP (VP based (PP in (NP paris )NP )PP )VP )NP )PP )VP )VP )S )VP . )S <eos>\n",
      "10 4 0 600 659 933 21 1 2 405 4 2 15 2 237 0 0 181 2887 1 6 14 0 21 2708 131 140 1 7 1 6 29 0 26 76 34 3147 49 27 1 7 6 15 0 0 21 2239 1 8 0 16 23 1315 503 24 4396 424 1 2 371 6 19 0 1708 1 7 3 1 7 3 3 5 3 11 5 10\n",
      "[0.14039509, 0.37050453, 8.7272491, 7.4975147, 4.7461686, 1.5085186, 0.029631454, 0.072125293, 4.7947783, 0.20175381, 0.0078809038, 0.011764786, 0.0027683766, 2.8256431, 0.097604081, 0.43660924, 5.3239441, 5.7857985, 0.011781988, 0.99545848, 3.6074476, 0.012716044, 3.5414619, 10.001749, 5.1410384, 0.58174956, 0.048040409, 1.1920928e-07, 0.44545165, 0.26398975, 1.0866207, 0.032341387, 1.9302927, 1.7214978, 0.14138071, 5.1016698, 0.055371586, 0.0014659145, 0.00010918975, 7.7363838e-05, 1.3645833, 3.5706358, 0.0080351206, 0.8421092, 2.5574591, 4.3584027, 0.098203123, 0.08864145, 0.1146792, 1.6156864, 2.7159116, 1.5568914, 0.0051991255, 5.7934038e-05, 10.602847, 3.6997595, 0.003019419, 14.306772, 0.97695291, 0.019506294, 0.048596185, 0.0081675574, 5.7731171, 0.01833163, 0.0, 0.0027306909, 0.010727358, 1.060957e-05, 0.0038849846, 0.00014363688, 2.5033919e-06, 0.0052376669, 0.013355908, 8.4158215e-05, 0.0]\n",
      "131.692107754\n",
      "48\n",
      "<eos> (S (NP chicago investor william <cunk> )NP (VP agreed (S (VP to (VP sell (NP (NP three divisions )NP (PP of (NP <cunk> peabody & co. )NP )PP (PP for (NP (QP about $ 600 million )QP )NP )PP (PP to (NP (NP <cunk> s.a. )NP , (NP (NP a (ADJP closely held )ADJP clothing maker )NP (VP based (PP in (NP paris )NP )PP )VP )NP )NP )PP )NP )VP )VP )S )VP . )S <eos>\n",
      "10 4 0 600 659 933 21 1 2 405 4 2 15 2 237 0 0 181 2887 1 6 14 0 21 2708 131 140 1 7 6 29 0 26 76 34 3147 49 27 1 7 6 15 0 0 21 2239 1 8 0 0 16 23 1315 503 24 4396 424 1 2 371 6 19 0 1708 1 7 3 1 1 7 1 3 3 5 3 11 5 10\n",
      "[0.14039509, 0.37050453, 8.7272491, 7.4975147, 4.7461686, 1.5085186, 0.029631454, 0.072125293, 4.7947783, 0.20175381, 0.0078809038, 0.011764786, 0.0027683766, 2.8256431, 0.097604081, 0.43660924, 5.3239441, 5.7857985, 0.011781988, 0.99545848, 3.6074476, 0.012716044, 3.5414619, 10.001749, 5.1410384, 0.58174956, 0.048040409, 1.1920928e-07, 1.5986346, 0.81607646, 0.02491726, 4.2592602, 1.4661976, 0.50379819, 4.767931, 0.058658008, 0.0023021405, 0.00011455356, 2.0265559e-06, 1.9050128, 2.7593997, 0.0018160532, 0.90718049, 2.3853743, 4.2873387, 0.15978892, 0.078973472, 0.10374726, 0.4074237, 0.55590743, 3.3813474, 0.61447775, 0.0063007046, 4.6490542e-05, 10.64769, 3.7145321, 0.0046036211, 0.98683083, 0.63853377, 0.006143258, 0.00069486786, 0.0026190525, 5.5244374, 0.0076960251, 0.0, 0.00033218111, 0.013643231, 0.026976356, 1.6808368e-05, 0.0023323495, 0.0035147816, 1.3589766e-05, 5.4836123e-06, 0.0056280964, 0.084359065, 5.1258681e-05, 0.0]\n",
      "119.244777547\n",
      "49\n",
      "<eos> (S (NP chicago investor william <cunk> )NP (VP agreed (S (VP to (VP sell (NP (NP three divisions )NP (PP of (NP <cunk> peabody & co. )NP )PP )NP (PP for (NP (QP about $ 600 million )QP )NP )PP (PP to (NP (NP (NP <cunk> s.a. )NP , (NP a (ADJP closely held )ADJP clothing maker )NP )NP (VP based (PP in (NP paris )NP )PP )VP )NP )PP )VP )VP )S )VP . )S <eos>\n",
      "10 4 0 600 659 933 21 1 2 405 4 2 15 2 237 0 0 181 2887 1 6 14 0 21 2708 131 140 1 7 1 6 29 0 26 76 34 3147 49 27 1 7 6 15 0 0 0 21 2239 1 8 0 16 23 1315 503 24 4396 424 1 1 2 371 6 19 0 1708 1 7 3 1 7 3 3 5 3 11 5 10\n",
      "[0.14039509, 0.37050453, 8.7272491, 7.4975147, 4.7461686, 1.5085186, 0.029631454, 0.072125293, 4.7947783, 0.20175381, 0.0078809038, 0.011764786, 0.0027683766, 2.8256431, 0.097604081, 0.43660924, 5.3239441, 5.7857985, 0.011781988, 0.99545848, 3.6074476, 0.012716044, 3.5414619, 10.001749, 5.1410384, 0.58174956, 0.048040409, 1.1920928e-07, 0.44545165, 0.26398975, 1.0866207, 0.032341387, 1.9302927, 1.7214978, 0.14138071, 5.1016698, 0.055371586, 0.0014659145, 0.00010918975, 7.7363838e-05, 1.3645833, 3.5706358, 0.0080351206, 0.8421092, 2.5200217, 2.0417333, 4.1555138, 0.60793698, 0.27813232, 0.10425467, 1.5284388, 2.8848808, 1.5013365, 0.0047495645, 3.4808505e-05, 10.498632, 3.8459148, 0.0026051414, 0.44301775, 11.632828, 1.5073919, 0.01121491, 0.030165516, 0.0028627627, 5.4811878, 0.016426565, 0.0, 0.0010750473, 0.014037916, 7.2476621e-05, 0.0067627123, 4.0531077e-06, 7.0333235e-06, 0.0084730424, 0.0079703145, 0.000199894, 0.0]\n",
      "132.225611204\n"
     ]
    }
   ],
   "source": [
    "with tf.Graph().as_default(), tf.Session() as session:\n",
    "    small_config = copy.copy(config)\n",
    "    small_config.batch_size = 1\n",
    "    small_config.num_steps = 1\n",
    "    initializer = tf.random_uniform_initializer(-small_config.init_scale,\n",
    "                                                small_config.init_scale)\n",
    "    \n",
    "    with tf.variable_scope(\"model\", reuse=None, initializer=initializer):\n",
    "        m = PTBModel(is_training=False, config=small_config)\n",
    "    saver = tf.train.Saver()\n",
    "    saver.restore(session, model_path)\n",
    "    for i, x in enumerate(reader.ptb_iterator2_unlimited(valid_nbest_data['data'], valid_nbest_data['idx2tree'], word_to_id['<eos>'])):\n",
    "        print(i)\n",
    "        print(' '.join([id_to_word[id_] for id_ in x]))\n",
    "        print(' '.join([str(id_) for id_ in x]))\n",
    "        print(score.score_single_tree(session, m, x))"
   ]
  },
  {
   "cell_type": "code",
   "execution_count": null,
   "metadata": {
    "collapsed": true
   },
   "outputs": [],
   "source": []
  }
 ],
 "metadata": {
  "kernelspec": {
   "display_name": "Python 2",
   "language": "python",
   "name": "python2"
  },
  "language_info": {
   "codemirror_mode": {
    "name": "ipython",
    "version": 2
   },
   "file_extension": ".py",
   "mimetype": "text/x-python",
   "name": "python",
   "nbconvert_exporter": "python",
   "pygments_lexer": "ipython2",
   "version": "2.7.12"
  }
 },
 "nbformat": 4,
 "nbformat_minor": 0
}
