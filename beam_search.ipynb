{
 "cells": [
  {
   "cell_type": "code",
   "execution_count": 1,
   "metadata": {
    "collapsed": false
   },
   "outputs": [],
   "source": [
    "import numpy\n",
    "import reader\n",
    "import tensorflow as tf\n",
    "import pickle\n",
    "from utils import PTBModel, MediumConfig"
   ]
  },
  {
   "cell_type": "code",
   "execution_count": 2,
   "metadata": {
    "collapsed": false
   },
   "outputs": [],
   "source": [
    "import utils\n",
    "import rerank"
   ]
  },
  {
   "cell_type": "code",
   "execution_count": 3,
   "metadata": {
    "collapsed": true
   },
   "outputs": [],
   "source": [
    "data_path=\"wsj\"\n",
    "model_path=\"models/wsj/model\"\n",
    "train_path=\"wsj/train_02-21.txt.traversed.gz\"\n",
    "valid_path=\"wsj/dev_22.txt.traversed.gz\"\n",
    "valid_nbest_path=\"wsj/dev_22.txt.nbest.gz\"\n",
    "valid_nbest_traversed_path=\"wsj/dev_22.txt.nbest.traversed.gz\""
   ]
  },
  {
   "cell_type": "code",
   "execution_count": 4,
   "metadata": {
    "collapsed": false
   },
   "outputs": [],
   "source": [
    "config = pickle.load(open(model_path + '.config', 'rb'))\n",
    "config.batch_size = 10\n",
    "# t = reader.ptb_raw_data(data_path,\n",
    "#                       train_path=train_path,\n",
    "#                       valid_path=valid_path,\n",
    "#                       valid_nbest_path=valid_nbest_traversed_path)\n",
    "# train_data, valid_data, valid_nbest_data, vocab = t"
   ]
  },
  {
   "cell_type": "code",
   "execution_count": 5,
   "metadata": {
    "collapsed": false
   },
   "outputs": [],
   "source": [
    "train_data, valid_data, _, word_to_id = reader.ptb_raw_data(\n",
    "data_path, train_path=train_path, valid_path=valid_path, valid_nbest_path=valid_nbest_traversed_path)"
   ]
  },
  {
   "cell_type": "code",
   "execution_count": 6,
   "metadata": {
    "collapsed": false
   },
   "outputs": [
    {
     "data": {
      "text/plain": [
       "[4, 0, 600, 659, 933, 21, 1, 2, 405, 4]"
      ]
     },
     "execution_count": 6,
     "metadata": {},
     "output_type": "execute_result"
    }
   ],
   "source": [
    "valid_data[:10]"
   ]
  },
  {
   "cell_type": "code",
   "execution_count": 7,
   "metadata": {
    "collapsed": false
   },
   "outputs": [
    {
     "name": "stdout",
     "output_type": "stream",
     "text": [
      "Automatic pdb calling has been turned ON\n"
     ]
    }
   ],
   "source": [
    "pdb on"
   ]
  },
  {
   "cell_type": "code",
   "execution_count": 8,
   "metadata": {
    "collapsed": false
   },
   "outputs": [],
   "source": [
    "valid_nbest_data, vocab = reader.ptb_raw_data2(data_path,\n",
    "                                             valid_nbest_path,\n",
    "                                             train_path=train_path,\n",
    "                                             remove_duplicates=False,\n",
    "                                             sent_limit=1)"
   ]
  },
  {
   "cell_type": "code",
   "execution_count": 9,
   "metadata": {
    "collapsed": false
   },
   "outputs": [],
   "source": [
    "id_to_word = {v:k for k,v in word_to_id.items()}"
   ]
  },
  {
   "cell_type": "code",
   "execution_count": 10,
   "metadata": {
    "collapsed": true
   },
   "outputs": [],
   "source": [
    "all_data = list(utils.ptb_iterator(valid_data, 5, 10))"
   ]
  },
  {
   "cell_type": "code",
   "execution_count": 11,
   "metadata": {
    "collapsed": false
   },
   "outputs": [
    {
     "data": {
      "text/plain": [
       "(array([[ 625,    1,    8,    0, 6296,    1,    1,    7,    1,    1],\n",
       "        [   1,    7,    1,    7,    1,    7,    3,    5,    8,    0],\n",
       "        [  15,    0,  930,    1,    7,    1,    7,    3,   11,    5],\n",
       "        [   0,   16,  215,    1,    6,   14,    0,  241, 1433,  110],\n",
       "        [  21,    1,    2,  259,    0, 4049,  156,    1,    6,   15]], dtype=int32),\n",
       " array([[   1,    8,    0, 6296,    1,    1,    7,    1,    1,    7],\n",
       "        [   7,    1,    7,    1,    7,    3,    5,    8,    0,    0],\n",
       "        [   0,  930,    1,    7,    1,    7,    3,   11,    5,   10],\n",
       "        [  16,  215,    1,    6,   14,    0,  241, 1433,  110,    1],\n",
       "        [   1,    2,  259,    0, 4049,  156,    1,    6,   15,    0]], dtype=int32))"
      ]
     },
     "execution_count": 11,
     "metadata": {},
     "output_type": "execute_result"
    }
   ],
   "source": [
    "all_data[-1]"
   ]
  },
  {
   "cell_type": "code",
   "execution_count": 12,
   "metadata": {
    "collapsed": false
   },
   "outputs": [
    {
     "name": "stdout",
     "output_type": "stream",
     "text": [
      "washington )NP , (NP n.y )NP )NP )PP )NP )NP\n",
      ")NP )PP )NP )PP )NP )PP )VP )S , (NP\n",
      "to (NP process )NP )PP )NP )PP )VP . )S\n",
      "(NP a unit )NP (PP of (NP general motors corp.\n",
      "<cunk> )NP (VP fell (NP 37.5 cents )NP (PP to\n",
      ")NP , (NP n.y )NP )NP )PP )NP )NP )PP\n",
      ")PP )NP )PP )NP )PP )VP )S , (NP (NP\n",
      "(NP process )NP )PP )NP )PP )VP . )S <eos>\n",
      "a unit )NP (PP of (NP general motors corp. )NP\n",
      ")NP (VP fell (NP 37.5 cents )NP (PP to (NP\n"
     ]
    }
   ],
   "source": [
    "for a in all_data[-1]:\n",
    "    for row in a:\n",
    "        print(' '.join([id_to_word[id] for id in row]))"
   ]
  },
  {
   "cell_type": "code",
   "execution_count": 13,
   "metadata": {
    "collapsed": false
   },
   "outputs": [
    {
     "data": {
      "text/plain": [
       "<module 'utils' from 'utils.pyc'>"
      ]
     },
     "execution_count": 13,
     "metadata": {},
     "output_type": "execute_result"
    }
   ],
   "source": [
    "import utils\n",
    "reload(utils)"
   ]
  },
  {
   "cell_type": "code",
   "execution_count": 14,
   "metadata": {
    "collapsed": true
   },
   "outputs": [],
   "source": [
    "it = utils.ptb_iterator2(valid_nbest_data['data'], 5, 10, valid_nbest_data['idx2tree'], word_to_id[\"<eos>\"])"
   ]
  },
  {
   "cell_type": "code",
   "execution_count": 15,
   "metadata": {
    "collapsed": false
   },
   "outputs": [
    {
     "name": "stdout",
     "output_type": "stream",
     "text": [
      "<eos> (S (NP chicago investor william <cunk> )NP (VP agreed\n",
      "(S (NP chicago investor william <cunk> )NP (VP agreed (S\n",
      "(S )S <eos> (S (NP chicago investor william <cunk> )NP\n",
      "(S )S )VP . )S <eos> (S (NP chicago investor\n",
      "(S (S (NP chicago investor william <cunk> )NP (VP agreed\n",
      "[(0, 0) (0, 0) (0, 0) (0, 0) (0, 0) (0, 0) (0, 0) (0, 0) (0, 0) (0, 0)]\n",
      "[(0, 10) (0, 10) (0, 10) (0, 10) (0, 10) (0, 10) (0, 10) (0, 10) (0, 10)\n",
      " (0, 10)]\n",
      "[(0, 19) (0, 19) (0, 20) (0, 20) (0, 20) (0, 20) (0, 20) (0, 20) (0, 20)\n",
      " (0, 20)]\n",
      "[(0, 29) (0, 29) (0, 29) (0, 29) (0, 29) (0, 30) (0, 30) (0, 30) (0, 30)\n",
      " (0, 30)]\n",
      "[(0, 40) (0, 40) (0, 40) (0, 40) (0, 40) (0, 40) (0, 40) (0, 40) (0, 40)\n",
      " (0, 40)]\n"
     ]
    }
   ],
   "source": [
    "x, y, z = next(it)\n",
    "for row in x:\n",
    "    print(' '.join([id_to_word[i] for i in row]))\n",
    "for row in z:\n",
    "    print row"
   ]
  },
  {
   "cell_type": "code",
   "execution_count": 18,
   "metadata": {
    "collapsed": false
   },
   "outputs": [
    {
     "name": "stdout",
     "output_type": "stream",
     "text": [
      "(S (VP to (VP sell (NP (NP three divisions )NP\n",
      "(VP to (VP sell (NP (NP three divisions )NP (PP\n",
      "(VP agreed (S (VP to (VP sell (NP (NP three\n",
      "william <cunk> )NP (VP agreed (S (VP to (VP sell\n",
      "(S (VP to (VP sell (NP three divisions )NP (PP\n"
     ]
    }
   ],
   "source": [
    "x, y, z =next(it)\n",
    "for row in x:\n",
    "    print(' '.join([id_to_word[i] for i in row]))"
   ]
  },
  {
   "cell_type": "code",
   "execution_count": 16,
   "metadata": {
    "collapsed": false,
    "scrolled": true
   },
   "outputs": [
    {
     "data": {
      "text/plain": [
       "['(S',\n",
       " '(NP',\n",
       " 'chicago',\n",
       " 'investor',\n",
       " 'william',\n",
       " '<cunk>',\n",
       " ')NP',\n",
       " '(VP',\n",
       " 'agreed',\n",
       " '(S',\n",
       " '(VP',\n",
       " 'to',\n",
       " '(VP',\n",
       " 'sell',\n",
       " '(NP',\n",
       " '(NP',\n",
       " 'three',\n",
       " 'divisions',\n",
       " ')NP',\n",
       " '(PP',\n",
       " 'of',\n",
       " '(NP',\n",
       " '<cunk>',\n",
       " 'peabody',\n",
       " '&',\n",
       " 'co.',\n",
       " ')NP',\n",
       " ')PP',\n",
       " ')NP',\n",
       " '(PP',\n",
       " 'for',\n",
       " '(NP',\n",
       " '(QP',\n",
       " 'about',\n",
       " '$',\n",
       " '600',\n",
       " 'million',\n",
       " ')QP',\n",
       " ')NP',\n",
       " ')PP',\n",
       " '(PP',\n",
       " 'to',\n",
       " '(NP',\n",
       " '(NP',\n",
       " '<cunk>',\n",
       " 's.a.',\n",
       " ')NP',\n",
       " ',',\n",
       " '(NP',\n",
       " '(NP',\n",
       " 'a',\n",
       " '(ADJP',\n",
       " 'closely',\n",
       " 'held',\n",
       " ')ADJP',\n",
       " 'clothing',\n",
       " 'maker',\n",
       " ')NP',\n",
       " '(VP',\n",
       " 'based',\n",
       " '(PP',\n",
       " 'in',\n",
       " '(NP',\n",
       " 'paris',\n",
       " ')NP',\n",
       " ')PP',\n",
       " ')VP',\n",
       " ')NP',\n",
       " ')NP',\n",
       " ')PP',\n",
       " ')VP',\n",
       " ')VP',\n",
       " ')S',\n",
       " ')VP',\n",
       " '.',\n",
       " ')S',\n",
       " '<eos>',\n",
       " '(S',\n",
       " '(PP',\n",
       " 'shortly',\n",
       " 'after',\n",
       " '(S',\n",
       " '(VP',\n",
       " 'completing',\n",
       " '(NP',\n",
       " '(NP',\n",
       " 'the',\n",
       " '(ADJP',\n",
       " '(QP',\n",
       " '$',\n",
       " '<unkn>',\n",
       " 'billion',\n",
       " ')QP',\n",
       " ')ADJP',\n",
       " 'acquisition',\n",
       " ')NP',\n",
       " '(PP',\n",
       " 'of',\n",
       " '(NP',\n",
       " 'west']"
      ]
     },
     "execution_count": 16,
     "metadata": {},
     "output_type": "execute_result"
    }
   ],
   "source": [
    "[id_to_word[i] for i in valid_data][:100]"
   ]
  },
  {
   "cell_type": "code",
   "execution_count": 17,
   "metadata": {
    "collapsed": false
   },
   "outputs": [
    {
     "data": {
      "text/plain": [
       "<module 'reader' from 'reader.pyc'>"
      ]
     },
     "execution_count": 17,
     "metadata": {},
     "output_type": "execute_result"
    }
   ],
   "source": [
    "reload(reader)"
   ]
  },
  {
   "cell_type": "code",
   "execution_count": 18,
   "metadata": {
    "collapsed": false
   },
   "outputs": [],
   "source": [
    "valid_nbest_trees = list(reader.ptb_iterator2_single_sentence(valid_nbest_data['data'], valid_nbest_data['idx2tree'], word_to_id['<eos>']))"
   ]
  },
  {
   "cell_type": "code",
   "execution_count": 19,
   "metadata": {
    "collapsed": false
   },
   "outputs": [
    {
     "data": {
      "text/plain": [
       "50"
      ]
     },
     "execution_count": 19,
     "metadata": {},
     "output_type": "execute_result"
    }
   ],
   "source": [
    "len(valid_nbest_trees)"
   ]
  },
  {
   "cell_type": "code",
   "execution_count": 20,
   "metadata": {
    "collapsed": false,
    "scrolled": true
   },
   "outputs": [
    {
     "name": "stdout",
     "output_type": "stream",
     "text": [
      "0\n",
      "<eos> (S (NP chicago investor william <cunk> )NP (VP agreed (S (VP to (VP sell (NP (NP three divisions )NP (PP of (NP (NP <cunk> peabody & co. )NP (PP for (NP (QP about $ 600 million )QP )NP )PP )NP )PP (PP to (NP (NP <cunk> s.a. )NP , (NP (NP a (ADJP closely held )ADJP clothing maker )NP (VP based (PP in (NP paris )NP )PP )VP )NP )NP )PP )NP )VP )VP )S )VP . )S <eos>\n",
      "\n",
      "1\n",
      "<eos> (S (NP chicago investor william <cunk> )NP (VP agreed (S (VP to (VP sell (NP (NP three divisions )NP (PP of (NP <cunk> peabody & co. )NP )PP )NP (PP for (NP (QP about $ 600 million )QP )NP )PP (PP to (NP (NP <cunk> s.a. )NP , (NP (NP a (ADJP closely held clothing )ADJP maker )NP (VP based (PP in (NP paris )NP )PP )VP )NP )NP )PP )VP )VP )S )VP . )S <eos>\n",
      "\n",
      "2\n",
      "<eos> (S (NP chicago investor william <cunk> )NP (VP agreed (S (VP to (VP sell (NP (NP three divisions )NP (PP of (NP <cunk> peabody & co. )NP )PP )NP (PP for (NP (QP about $ 600 million )QP )NP )PP (PP to (NP (NP <cunk> s.a. )NP , (NP (NP a (ADJP closely held )ADJP clothing maker )NP (VP based (PP in (NP paris )NP )PP )VP )NP )NP )PP )VP )VP )S )VP . )S <eos>\n",
      "\n",
      "3\n",
      "<eos> (S (NP chicago investor william <cunk> )NP (VP agreed (S (VP to (VP sell (NP (NP three divisions )NP (PP of (NP <cunk> peabody & co. )NP )PP )NP (PP (PP for (NP (QP about $ 600 million )QP )NP )PP (PP to (NP (NP <cunk> s.a. )NP , (NP (NP a (ADJP closely held )ADJP clothing maker )NP (VP based (PP in (NP paris )NP )PP )VP )NP )NP )PP )PP )VP )VP )S )VP . )S <eos>\n",
      "\n",
      "4\n",
      "<eos> (S (NP chicago investor william <cunk> )NP (VP agreed (S (VP to (VP sell (NP (NP three divisions )NP (PP of (NP (NP <cunk> peabody & co. )NP (PP for (NP (QP about $ 600 million )QP )NP )PP )NP )PP )NP (PP to (NP (NP <cunk> s.a. )NP , (NP (NP a (ADJP closely held )ADJP clothing maker )NP (VP based (PP in (NP paris )NP )PP )VP )NP )NP )PP )VP )VP )S )VP . )S <eos>\n",
      "\n",
      "5\n",
      "<eos> (S (NP chicago investor william <cunk> )NP (VP agreed (S (VP to (VP sell (NP (NP three divisions )NP (PP of (NP <cunk> peabody & co. )NP )PP (PP for (NP (QP about $ 600 million )QP )NP )PP )NP (PP to (NP (NP <cunk> s.a. )NP , (NP (NP a (ADJP closely held )ADJP clothing maker )NP (VP based (PP in (NP paris )NP )PP )VP )NP )NP )PP )VP )VP )S )VP . )S <eos>\n",
      "\n",
      "6\n",
      "<eos> (S (NP chicago investor william <cunk> )NP (VP agreed (S (VP to (VP sell (NP (NP (NP three divisions )NP (PP of (NP <cunk> peabody & co. )NP )PP )NP (PP for (NP (QP about $ 600 million )QP )NP )PP )NP (PP to (NP (NP <cunk> s.a. )NP , (NP (NP a (ADJP closely held )ADJP clothing maker )NP (VP based (PP in (NP paris )NP )PP )VP )NP )NP )PP )VP )VP )S )VP . )S <eos>\n",
      "\n",
      "7\n",
      "<eos> (S (NP chicago investor william <cunk> )NP (VP agreed (S (VP to (VP sell (NP (NP three divisions )NP (PP of (NP <cunk> peabody & co. )NP )PP )NP (PP for (NP (NP (QP about $ 600 million )QP )NP (PP to (NP (NP <cunk> s.a. )NP , (NP (NP a (ADJP closely held )ADJP clothing maker )NP (VP based (PP in (NP paris )NP )PP )VP )NP )NP )PP )NP )PP )VP )VP )S )VP . )S <eos>\n",
      "\n",
      "8\n",
      "<eos> (S (NP chicago investor william <cunk> )NP (VP agreed (S (VP to (VP sell (NP (NP three divisions )NP (PP of (NP <cunk> peabody & co. )NP )PP )NP (PP for (NP (QP about $ 600 million )QP )NP )PP (PP to (NP (NP (NP <cunk> s.a. )NP , (NP a (ADJP closely held )ADJP clothing maker )NP )NP (VP based (PP in (NP paris )NP )PP )VP )NP )PP )VP )VP )S )VP . )S <eos>\n",
      "\n",
      "9\n",
      "<eos> (S (NP chicago investor william <cunk> )NP (VP agreed (S (VP to (VP sell (NP (NP three divisions )NP (PP of (NP <cunk> peabody & co. )NP )PP )NP (PP for (NP (QP about $ 600 million )QP )NP )PP (PP to (NP (NP <cunk> s.a. )NP , (NP a (ADJP closely held )ADJP clothing maker )NP (VP based (PP in (NP paris )NP )PP )VP )NP )PP )VP )VP )S )VP . )S <eos>\n",
      "\n",
      "10\n",
      "<eos> (S (NP chicago investor william <cunk> )NP (VP agreed (S (VP to (VP sell (NP (NP three divisions )NP (PP of (NP <cunk> peabody & co. )NP )PP (PP for (NP (QP about $ 600 million )QP )NP )PP (PP to (NP (NP <cunk> s.a. )NP , (NP (NP a (ADJP closely held )ADJP clothing maker )NP (VP based (PP in (NP paris )NP )PP )VP )NP )NP )PP )NP )VP )VP )S )VP . )S <eos>\n",
      "\n",
      "11\n",
      "<eos> (S (NP chicago investor william <cunk> )NP (VP agreed (S (VP to (VP sell (NP three divisions )NP (PP of (NP <cunk> peabody & co. )NP )PP (PP for (NP (QP about $ 600 million )QP )NP )PP (PP to (NP (NP <cunk> s.a. )NP , (NP (NP a (ADJP closely held )ADJP clothing maker )NP (VP based (PP in (NP paris )NP )PP )VP )NP )NP )PP )VP )VP )S )VP . )S <eos>\n",
      "\n",
      "12\n",
      "<eos> (S (NP chicago investor william <cunk> )NP (VP agreed (S (VP to (VP sell (NP (NP three divisions )NP (PP of (NP <cunk> peabody & co. )NP )PP )NP (PP for about (NP (QP $ 600 million )QP )NP )PP (PP to (NP (NP <cunk> s.a. )NP , (NP (NP a (ADJP closely held )ADJP clothing maker )NP (VP based (PP in (NP paris )NP )PP )VP )NP )NP )PP )VP )VP )S )VP . )S <eos>\n",
      "\n",
      "13\n",
      "<eos> (S (NP chicago investor william <cunk> )NP (VP agreed (S (VP to (VP sell (NP (NP three divisions )NP (PP of (NP <cunk> peabody & co. )NP )PP )NP (PP for (NP (QP about $ 600 million )QP )NP )PP (PP to (NP (NP <cunk> s.a. )NP , (NP (NP a (ADJP closely held )ADJP clothing maker )NP (PP based (PP in (NP paris )NP )PP )PP )NP )NP )PP )VP )VP )S )VP . )S <eos>\n",
      "\n",
      "14\n",
      "<eos> (S (NP chicago investor william <cunk> )NP (VP agreed (S (VP to (VP sell (NP (NP three divisions )NP (PP of (NP (NP <cunk> peabody & co. )NP (PP for (NP (QP about $ 600 million )QP )NP )PP )NP )PP )NP (PP to (NP (NP <cunk> s.a. )NP , (NP (NP a (ADJP closely held clothing )ADJP maker )NP (VP based (PP in (NP paris )NP )PP )VP )NP )NP )PP )VP )VP )S )VP . )S <eos>\n",
      "\n",
      "15\n",
      "<eos> (S (NP chicago investor william <cunk> )NP (VP agreed (S (VP to (VP sell (NP (NP three divisions )NP (PP of (NP (NP <cunk> peabody & co. )NP (PP for (NP (QP about $ 600 million )QP )NP )PP )NP )PP )NP )VP )VP )S (PP to (NP (NP <cunk> s.a. )NP , (NP (NP a (ADJP closely held )ADJP clothing maker )NP (VP based (PP in (NP paris )NP )PP )VP )NP )NP )PP )VP . )S <eos>\n",
      "\n",
      "16\n",
      "<eos> (S (NP chicago investor william <cunk> )NP (VP agreed (S (VP to (VP sell (NP (NP three divisions )NP (PP of (NP <cunk> peabody & co. )NP )PP )NP (PP for (NP (QP about $ 600 million )QP )NP )PP )VP )VP )S (PP to (NP (NP <cunk> s.a. )NP , (NP (NP a (ADJP closely held )ADJP clothing maker )NP (VP based (PP in (NP paris )NP )PP )VP )NP )NP )PP )VP . )S <eos>\n",
      "\n",
      "17\n",
      "<eos> (S (NP chicago investor william <cunk> )NP (VP agreed (S (VP to (VP sell (NP (NP three divisions )NP (PP of (NP <cunk> peabody & co. )NP )PP )NP (PP for (NP about (QP $ 600 million )QP )NP )PP (PP to (NP (NP <cunk> s.a. )NP , (NP (NP a (ADJP closely held )ADJP clothing maker )NP (VP based (PP in (NP paris )NP )PP )VP )NP )NP )PP )VP )VP )S )VP . )S <eos>\n",
      "\n"
     ]
    }
   ],
   "source": [
    "for i, x in enumerate(set(tuple(s) for s in valid_nbest_trees)):\n",
    "    print(i)\n",
    "    print(' '.join([id_to_word[id_] for id_ in x]))\n",
    "    print"
   ]
  },
  {
   "cell_type": "code",
   "execution_count": 21,
   "metadata": {
    "collapsed": false
   },
   "outputs": [
    {
     "data": {
      "text/plain": [
       "4"
      ]
     },
     "execution_count": 21,
     "metadata": {},
     "output_type": "execute_result"
    }
   ],
   "source": [
    "valid_nbest_data['data'][0]"
   ]
  },
  {
   "cell_type": "code",
   "execution_count": 22,
   "metadata": {
    "collapsed": false
   },
   "outputs": [
    {
     "data": {
      "text/plain": [
       "3884"
      ]
     },
     "execution_count": 22,
     "metadata": {},
     "output_type": "execute_result"
    }
   ],
   "source": [
    "len(valid_nbest_data['idx2tree'])"
   ]
  },
  {
   "cell_type": "code",
   "execution_count": 23,
   "metadata": {
    "collapsed": false
   },
   "outputs": [
    {
     "data": {
      "text/plain": [
       "3884"
      ]
     },
     "execution_count": 23,
     "metadata": {},
     "output_type": "execute_result"
    }
   ],
   "source": [
    "len(valid_nbest_data['data'])"
   ]
  },
  {
   "cell_type": "code",
   "execution_count": 24,
   "metadata": {
    "collapsed": false
   },
   "outputs": [
    {
     "data": {
      "text/plain": [
       "(0, 49)"
      ]
     },
     "execution_count": 24,
     "metadata": {},
     "output_type": "execute_result"
    }
   ],
   "source": [
    "sorted(valid_nbest_data['idx2tree'])[-1]"
   ]
  },
  {
   "cell_type": "code",
   "execution_count": 25,
   "metadata": {
    "collapsed": false
   },
   "outputs": [
    {
     "data": {
      "text/plain": [
       "<module 'score' from 'score.pyc'>"
      ]
     },
     "execution_count": 25,
     "metadata": {},
     "output_type": "execute_result"
    }
   ],
   "source": [
    "import score\n",
    "reload(score)"
   ]
  },
  {
   "cell_type": "code",
   "execution_count": 27,
   "metadata": {
    "collapsed": false,
    "scrolled": true
   },
   "outputs": [
    {
     "name": "stderr",
     "output_type": "stream",
     "text": [
      "epoch size: 8\n",
      "7"
     ]
    },
    {
     "name": "stdout",
     "output_type": "stream",
     "text": [
      "(S1 (S (NP (NNP Chicago) (NN investor) (NNP William) (NNP Farley)) (VP (VBN agreed) (S (VP (TO to) (VP (VB sell) (NP (NP (CD three) (NNS divisions)) (PP (IN of) (NP (NNP Cluett) (NNP Peabody) (CC &) (NNP Co.)))) (PP (IN for) (NP (QP (RB about) ($ $) (CD 600) (CD million)))) (PP (TO to) (NP (NP (NNP Bidermann) (NNP S.A.)) (, ,) (NP (NP (DT a) (ADJP (RB closely) (JJ held)) (NN clothing) (NN maker)) (VP (VBN based) (PP (IN in) (NP (NNP Paris))))))))))) (. .)))\n"
     ]
    },
    {
     "name": "stderr",
     "output_type": "stream",
     "text": [
      "(0, 0): 117.214600717\n",
      "(0, 1): 117.382424584\n",
      "(0, 2): 117.419184275\n",
      "(0, 3): 117.418259412\n",
      "(0, 4): 125.558619186\n",
      "(0, 5): 160.104625105\n",
      "(0, 6): 118.555071099\n",
      "(0, 7): 118.961706156\n",
      "(0, 8): 123.438197707\n",
      "(0, 9): 125.532527459\n",
      "(0, 10): 153.921080661\n",
      "(0, 11): 125.149534168\n",
      "(0, 12): 118.96620253\n",
      "(0, 13): 118.960153855\n",
      "(0, 14): 122.463312285\n",
      "(0, 15): 156.24945575\n",
      "(0, 16): 133.756045509\n",
      "(0, 17): 122.465410249\n",
      "(0, 18): 123.559207786\n",
      "(0, 19): 134.206700068\n",
      "(0, 20): 179.118083017\n",
      "(0, 21): 121.849522613\n",
      "(0, 22): 123.282228319\n",
      "(0, 23): 125.741853966\n",
      "(0, 24): 123.314314396\n",
      "(0, 25): 182.567488155\n",
      "(0, 26): 121.574805609\n",
      "(0, 27): 131.708830984\n",
      "(0, 28): 122.464884822\n",
      "(0, 29): 159.221489711\n",
      "(0, 30): 152.248339679\n",
      "(0, 31): 116.611564418\n",
      "(0, 32): 138.710792229\n",
      "(0, 33): 123.313849677\n",
      "(0, 34): 122.106727773\n",
      "(0, 35): 152.5599211\n",
      "(0, 36): 123.534716479\n",
      "(0, 37): 125.737482249\n",
      "(0, 38): 134.388347018\n",
      "(0, 39): 123.296237885\n",
      "(0, 40): 158.987859022\n",
      "(0, 41): 141.707718202\n",
      "(0, 42): 123.977424661\n",
      "(0, 43): 127.640790215\n",
      "(0, 44): 134.391543814\n",
      "(0, 45): 176.334025032\n",
      "(0, 46): 127.270819624\n",
      "(0, 47): 131.715945672\n",
      "(0, 48): 119.476827292\n",
      "(0, 49): 132.541761663\n"
     ]
    }
   ],
   "source": [
    "with tf.Graph().as_default(), tf.Session() as session:\n",
    "    initializer = tf.random_uniform_initializer(-config.init_scale,\n",
    "                                                config.init_scale)\n",
    "    with tf.variable_scope(\"model\", reuse=None, initializer=initializer):\n",
    "        m = PTBModel(is_training=False, config=config)\n",
    "    \n",
    "    saver = tf.train.Saver()\n",
    "    saver.restore(session, model_path)\n",
    "    \n",
    "    score.score_all_trees(session, m, valid_nbest_data, tf.no_op(), vocab['<eos>'])\n"
   ]
  },
  {
   "cell_type": "code",
   "execution_count": 26,
   "metadata": {
    "collapsed": true
   },
   "outputs": [],
   "source": [
    "import copy"
   ]
  },
  {
   "cell_type": "code",
   "execution_count": 27,
   "metadata": {
    "collapsed": false
   },
   "outputs": [
    {
     "data": {
      "text/plain": [
       "<module 'reader' from 'reader.pyc'>"
      ]
     },
     "execution_count": 27,
     "metadata": {},
     "output_type": "execute_result"
    }
   ],
   "source": [
    "reload(reader)"
   ]
  },
  {
   "cell_type": "code",
   "execution_count": 28,
   "metadata": {
    "collapsed": false
   },
   "outputs": [
    {
     "data": {
      "text/plain": [
       "<module 'score' from 'score.pyc'>"
      ]
     },
     "execution_count": 28,
     "metadata": {},
     "output_type": "execute_result"
    }
   ],
   "source": [
    "import score\n",
    "reload(score)"
   ]
  },
  {
   "cell_type": "code",
   "execution_count": 29,
   "metadata": {
    "collapsed": false,
    "scrolled": true
   },
   "outputs": [
    {
     "name": "stdout",
     "output_type": "stream",
     "text": [
      "0\n",
      "<eos> (S (NP chicago investor william <cunk> )NP (VP agreed (S (VP to (VP sell (NP (NP three divisions )NP (PP of (NP <cunk> peabody & co. )NP )PP )NP (PP for (NP (QP about $ 600 million )QP )NP )PP (PP to (NP (NP <cunk> s.a. )NP , (NP (NP a (ADJP closely held )ADJP clothing maker )NP (VP based (PP in (NP paris )NP )PP )VP )NP )NP )PP )VP )VP )S )VP . )S <eos>\n",
      "10 4 0 600 659 933 21 1 2 405 4 2 15 2 237 0 0 181 2887 1 6 14 0 21 2708 131 140 1 7 1 6 29 0 26 76 34 3147 49 27 1 7 6 15 0 0 21 2239 1 8 0 0 16 23 1315 503 24 4396 424 1 2 371 6 19 0 1708 1 7 3 1 1 7 3 3 5 3 11 5 10\n",
      "117.214582124\n",
      "1\n",
      "<eos> (S (NP chicago investor william <cunk> )NP (VP agreed (S (VP to (VP sell (NP (NP three divisions )NP (PP of (NP <cunk> peabody & co. )NP )PP )NP (PP for (NP (QP about $ 600 million )QP )NP )PP (PP to (NP (NP <cunk> s.a. )NP , (NP (NP a (ADJP closely held )ADJP clothing maker )NP (VP based (PP in (NP paris )NP )PP )VP )NP )NP )PP )VP )VP )S )VP . )S <eos>\n",
      "10 4 0 600 659 933 21 1 2 405 4 2 15 2 237 0 0 181 2887 1 6 14 0 21 2708 131 140 1 7 1 6 29 0 26 76 34 3147 49 27 1 7 6 15 0 0 21 2239 1 8 0 0 16 23 1315 503 24 4396 424 1 2 371 6 19 0 1708 1 7 3 1 1 7 3 3 5 3 11 5 10\n",
      "117.214582124\n",
      "2\n",
      "<eos> (S (NP chicago investor william <cunk> )NP (VP agreed (S (VP to (VP sell (NP (NP three divisions )NP (PP of (NP <cunk> peabody & co. )NP )PP )NP (PP for (NP (QP about $ 600 million )QP )NP )PP (PP to (NP (NP <cunk> s.a. )NP , (NP (NP a (ADJP closely held )ADJP clothing maker )NP (VP based (PP in (NP paris )NP )PP )VP )NP )NP )PP )VP )VP )S )VP . )S <eos>\n",
      "10 4 0 600 659 933 21 1 2 405 4 2 15 2 237 0 0 181 2887 1 6 14 0 21 2708 131 140 1 7 1 6 29 0 26 76 34 3147 49 27 1 7 6 15 0 0 21 2239 1 8 0 0 16 23 1315 503 24 4396 424 1 2 371 6 19 0 1708 1 7 3 1 1 7 3 3 5 3 11 5 10\n",
      "117.214582124\n",
      "3\n",
      "<eos> (S (NP chicago investor william <cunk> )NP (VP agreed (S (VP to (VP sell (NP (NP three divisions )NP (PP of (NP <cunk> peabody & co. )NP )PP )NP (PP for (NP (QP about $ 600 million )QP )NP )PP (PP to (NP (NP <cunk> s.a. )NP , (NP (NP a (ADJP closely held )ADJP clothing maker )NP (VP based (PP in (NP paris )NP )PP )VP )NP )NP )PP )VP )VP )S )VP . )S <eos>\n",
      "10 4 0 600 659 933 21 1 2 405 4 2 15 2 237 0 0 181 2887 1 6 14 0 21 2708 131 140 1 7 1 6 29 0 26 76 34 3147 49 27 1 7 6 15 0 0 21 2239 1 8 0 0 16 23 1315 503 24 4396 424 1 2 371 6 19 0 1708 1 7 3 1 1 7 3 3 5 3 11 5 10\n"
     ]
    },
    {
     "ename": "KeyboardInterrupt",
     "evalue": "",
     "output_type": "error",
     "traceback": [
      "\u001b[1;31m---------------------------------------------------------------------------\u001b[0m",
      "\u001b[1;31mKeyboardInterrupt\u001b[0m                         Traceback (most recent call last)",
      "\u001b[1;32m<ipython-input-29-793fc9ed2f2f>\u001b[0m in \u001b[0;36m<module>\u001b[1;34m()\u001b[0m\n\u001b[0;32m     14\u001b[0m         \u001b[1;32mprint\u001b[0m\u001b[1;33m(\u001b[0m\u001b[1;34m' '\u001b[0m\u001b[1;33m.\u001b[0m\u001b[0mjoin\u001b[0m\u001b[1;33m(\u001b[0m\u001b[1;33m[\u001b[0m\u001b[0mid_to_word\u001b[0m\u001b[1;33m[\u001b[0m\u001b[0mid_\u001b[0m\u001b[1;33m]\u001b[0m \u001b[1;32mfor\u001b[0m \u001b[0mid_\u001b[0m \u001b[1;32min\u001b[0m \u001b[0mx\u001b[0m\u001b[1;33m]\u001b[0m\u001b[1;33m)\u001b[0m\u001b[1;33m)\u001b[0m\u001b[1;33m\u001b[0m\u001b[0m\n\u001b[0;32m     15\u001b[0m         \u001b[1;32mprint\u001b[0m\u001b[1;33m(\u001b[0m\u001b[1;34m' '\u001b[0m\u001b[1;33m.\u001b[0m\u001b[0mjoin\u001b[0m\u001b[1;33m(\u001b[0m\u001b[1;33m[\u001b[0m\u001b[0mstr\u001b[0m\u001b[1;33m(\u001b[0m\u001b[0mid_\u001b[0m\u001b[1;33m)\u001b[0m \u001b[1;32mfor\u001b[0m \u001b[0mid_\u001b[0m \u001b[1;32min\u001b[0m \u001b[0mx\u001b[0m\u001b[1;33m]\u001b[0m\u001b[1;33m)\u001b[0m\u001b[1;33m)\u001b[0m\u001b[1;33m\u001b[0m\u001b[0m\n\u001b[1;32m---> 16\u001b[1;33m         \u001b[1;32mprint\u001b[0m\u001b[1;33m(\u001b[0m\u001b[0mscore\u001b[0m\u001b[1;33m.\u001b[0m\u001b[0mscore_single_tree\u001b[0m\u001b[1;33m(\u001b[0m\u001b[0msession\u001b[0m\u001b[1;33m,\u001b[0m \u001b[0mm\u001b[0m\u001b[1;33m,\u001b[0m \u001b[0mx\u001b[0m\u001b[1;33m)\u001b[0m\u001b[1;33m)\u001b[0m\u001b[1;33m\u001b[0m\u001b[0m\n\u001b[0m",
      "\u001b[1;32m/home/dfried/projects/choe_lstm_rerank/score.pyc\u001b[0m in \u001b[0;36mscore_single_tree\u001b[1;34m(session, m, x)\u001b[0m\n\u001b[0;32m     29\u001b[0m       \u001b[0mfeed_dict\u001b[0m\u001b[1;33m[\u001b[0m\u001b[0mc\u001b[0m\u001b[1;33m]\u001b[0m \u001b[1;33m=\u001b[0m \u001b[0mstate_c\u001b[0m\u001b[1;33m\u001b[0m\u001b[0m\n\u001b[0;32m     30\u001b[0m       \u001b[0mfeed_dict\u001b[0m\u001b[1;33m[\u001b[0m\u001b[0mh\u001b[0m\u001b[1;33m]\u001b[0m \u001b[1;33m=\u001b[0m \u001b[0mstate_h\u001b[0m\u001b[1;33m\u001b[0m\u001b[0m\n\u001b[1;32m---> 31\u001b[1;33m     \u001b[0mres\u001b[0m \u001b[1;33m=\u001b[0m \u001b[0msession\u001b[0m\u001b[1;33m.\u001b[0m\u001b[0mrun\u001b[0m\u001b[1;33m(\u001b[0m\u001b[0mfetches\u001b[0m\u001b[1;33m,\u001b[0m \u001b[0mfeed_dict\u001b[0m\u001b[1;33m)\u001b[0m\u001b[1;33m\u001b[0m\u001b[0m\n\u001b[0m\u001b[0;32m     32\u001b[0m     \u001b[0mcost\u001b[0m \u001b[1;33m=\u001b[0m \u001b[0mres\u001b[0m\u001b[1;33m[\u001b[0m\u001b[1;36m0\u001b[0m\u001b[1;33m]\u001b[0m\u001b[1;33m\u001b[0m\u001b[0m\n\u001b[0;32m     33\u001b[0m     \u001b[0mcosts\u001b[0m\u001b[1;33m.\u001b[0m\u001b[0mappend\u001b[0m\u001b[1;33m(\u001b[0m\u001b[0mcost\u001b[0m\u001b[1;33m[\u001b[0m\u001b[1;36m0\u001b[0m\u001b[1;33m]\u001b[0m\u001b[1;33m)\u001b[0m\u001b[1;33m\u001b[0m\u001b[0m\n",
      "\u001b[1;32m/home/dfried/.virtualenvs/choe/lib/python2.7/site-packages/tensorflow/python/client/session.pyc\u001b[0m in \u001b[0;36mrun\u001b[1;34m(self, fetches, feed_dict, options, run_metadata)\u001b[0m\n\u001b[0;32m    715\u001b[0m     \u001b[1;32mtry\u001b[0m\u001b[1;33m:\u001b[0m\u001b[1;33m\u001b[0m\u001b[0m\n\u001b[0;32m    716\u001b[0m       result = self._run(None, fetches, feed_dict, options_ptr,\n\u001b[1;32m--> 717\u001b[1;33m                          run_metadata_ptr)\n\u001b[0m\u001b[0;32m    718\u001b[0m       \u001b[1;32mif\u001b[0m \u001b[0mrun_metadata\u001b[0m\u001b[1;33m:\u001b[0m\u001b[1;33m\u001b[0m\u001b[0m\n\u001b[0;32m    719\u001b[0m         \u001b[0mproto_data\u001b[0m \u001b[1;33m=\u001b[0m \u001b[0mtf_session\u001b[0m\u001b[1;33m.\u001b[0m\u001b[0mTF_GetBuffer\u001b[0m\u001b[1;33m(\u001b[0m\u001b[0mrun_metadata_ptr\u001b[0m\u001b[1;33m)\u001b[0m\u001b[1;33m\u001b[0m\u001b[0m\n",
      "\u001b[1;32m/home/dfried/.virtualenvs/choe/lib/python2.7/site-packages/tensorflow/python/client/session.pyc\u001b[0m in \u001b[0;36m_run\u001b[1;34m(self, handle, fetches, feed_dict, options, run_metadata)\u001b[0m\n\u001b[0;32m    913\u001b[0m     \u001b[1;32mif\u001b[0m \u001b[0mfinal_fetches\u001b[0m \u001b[1;32mor\u001b[0m \u001b[0mfinal_targets\u001b[0m\u001b[1;33m:\u001b[0m\u001b[1;33m\u001b[0m\u001b[0m\n\u001b[0;32m    914\u001b[0m       results = self._do_run(handle, final_targets, final_fetches,\n\u001b[1;32m--> 915\u001b[1;33m                              feed_dict_string, options, run_metadata)\n\u001b[0m\u001b[0;32m    916\u001b[0m     \u001b[1;32melse\u001b[0m\u001b[1;33m:\u001b[0m\u001b[1;33m\u001b[0m\u001b[0m\n\u001b[0;32m    917\u001b[0m       \u001b[0mresults\u001b[0m \u001b[1;33m=\u001b[0m \u001b[1;33m[\u001b[0m\u001b[1;33m]\u001b[0m\u001b[1;33m\u001b[0m\u001b[0m\n",
      "\u001b[1;32m/home/dfried/.virtualenvs/choe/lib/python2.7/site-packages/tensorflow/python/client/session.pyc\u001b[0m in \u001b[0;36m_do_run\u001b[1;34m(self, handle, target_list, fetch_list, feed_dict, options, run_metadata)\u001b[0m\n\u001b[0;32m    963\u001b[0m     \u001b[1;32mif\u001b[0m \u001b[0mhandle\u001b[0m \u001b[1;32mis\u001b[0m \u001b[0mNone\u001b[0m\u001b[1;33m:\u001b[0m\u001b[1;33m\u001b[0m\u001b[0m\n\u001b[0;32m    964\u001b[0m       return self._do_call(_run_fn, self._session, feed_dict, fetch_list,\n\u001b[1;32m--> 965\u001b[1;33m                            target_list, options, run_metadata)\n\u001b[0m\u001b[0;32m    966\u001b[0m     \u001b[1;32melse\u001b[0m\u001b[1;33m:\u001b[0m\u001b[1;33m\u001b[0m\u001b[0m\n\u001b[0;32m    967\u001b[0m       return self._do_call(_prun_fn, self._session, handle, feed_dict,\n",
      "\u001b[1;32m/home/dfried/.virtualenvs/choe/lib/python2.7/site-packages/tensorflow/python/client/session.pyc\u001b[0m in \u001b[0;36m_do_call\u001b[1;34m(self, fn, *args)\u001b[0m\n\u001b[0;32m    970\u001b[0m   \u001b[1;32mdef\u001b[0m \u001b[0m_do_call\u001b[0m\u001b[1;33m(\u001b[0m\u001b[0mself\u001b[0m\u001b[1;33m,\u001b[0m \u001b[0mfn\u001b[0m\u001b[1;33m,\u001b[0m \u001b[1;33m*\u001b[0m\u001b[0margs\u001b[0m\u001b[1;33m)\u001b[0m\u001b[1;33m:\u001b[0m\u001b[1;33m\u001b[0m\u001b[0m\n\u001b[0;32m    971\u001b[0m     \u001b[1;32mtry\u001b[0m\u001b[1;33m:\u001b[0m\u001b[1;33m\u001b[0m\u001b[0m\n\u001b[1;32m--> 972\u001b[1;33m       \u001b[1;32mreturn\u001b[0m \u001b[0mfn\u001b[0m\u001b[1;33m(\u001b[0m\u001b[1;33m*\u001b[0m\u001b[0margs\u001b[0m\u001b[1;33m)\u001b[0m\u001b[1;33m\u001b[0m\u001b[0m\n\u001b[0m\u001b[0;32m    973\u001b[0m     \u001b[1;32mexcept\u001b[0m \u001b[0merrors\u001b[0m\u001b[1;33m.\u001b[0m\u001b[0mOpError\u001b[0m \u001b[1;32mas\u001b[0m \u001b[0me\u001b[0m\u001b[1;33m:\u001b[0m\u001b[1;33m\u001b[0m\u001b[0m\n\u001b[0;32m    974\u001b[0m       \u001b[0mmessage\u001b[0m \u001b[1;33m=\u001b[0m \u001b[0mcompat\u001b[0m\u001b[1;33m.\u001b[0m\u001b[0mas_text\u001b[0m\u001b[1;33m(\u001b[0m\u001b[0me\u001b[0m\u001b[1;33m.\u001b[0m\u001b[0mmessage\u001b[0m\u001b[1;33m)\u001b[0m\u001b[1;33m\u001b[0m\u001b[0m\n",
      "\u001b[1;32m/home/dfried/.virtualenvs/choe/lib/python2.7/site-packages/tensorflow/python/client/session.pyc\u001b[0m in \u001b[0;36m_run_fn\u001b[1;34m(session, feed_dict, fetch_list, target_list, options, run_metadata)\u001b[0m\n\u001b[0;32m    952\u001b[0m         return tf_session.TF_Run(session, options,\n\u001b[0;32m    953\u001b[0m                                  \u001b[0mfeed_dict\u001b[0m\u001b[1;33m,\u001b[0m \u001b[0mfetch_list\u001b[0m\u001b[1;33m,\u001b[0m \u001b[0mtarget_list\u001b[0m\u001b[1;33m,\u001b[0m\u001b[1;33m\u001b[0m\u001b[0m\n\u001b[1;32m--> 954\u001b[1;33m                                  status, run_metadata)\n\u001b[0m\u001b[0;32m    955\u001b[0m \u001b[1;33m\u001b[0m\u001b[0m\n\u001b[0;32m    956\u001b[0m     \u001b[1;32mdef\u001b[0m \u001b[0m_prun_fn\u001b[0m\u001b[1;33m(\u001b[0m\u001b[0msession\u001b[0m\u001b[1;33m,\u001b[0m \u001b[0mhandle\u001b[0m\u001b[1;33m,\u001b[0m \u001b[0mfeed_dict\u001b[0m\u001b[1;33m,\u001b[0m \u001b[0mfetch_list\u001b[0m\u001b[1;33m)\u001b[0m\u001b[1;33m:\u001b[0m\u001b[1;33m\u001b[0m\u001b[0m\n",
      "\u001b[1;31mKeyboardInterrupt\u001b[0m: "
     ]
    },
    {
     "name": "stdout",
     "output_type": "stream",
     "text": [
      "> \u001b[1;32m/home/dfried/.virtualenvs/choe/lib/python2.7/site-packages/tensorflow/python/client/session.py\u001b[0m(954)\u001b[0;36m_run_fn\u001b[1;34m()\u001b[0m\n",
      "\u001b[1;32m    952 \u001b[1;33m        return tf_session.TF_Run(session, options,\n",
      "\u001b[0m\u001b[1;32m    953 \u001b[1;33m                                 \u001b[0mfeed_dict\u001b[0m\u001b[1;33m,\u001b[0m \u001b[0mfetch_list\u001b[0m\u001b[1;33m,\u001b[0m \u001b[0mtarget_list\u001b[0m\u001b[1;33m,\u001b[0m\u001b[1;33m\u001b[0m\u001b[0m\n",
      "\u001b[0m\u001b[1;32m--> 954 \u001b[1;33m                                 status, run_metadata)\n",
      "\u001b[0m\u001b[1;32m    955 \u001b[1;33m\u001b[1;33m\u001b[0m\u001b[0m\n",
      "\u001b[0m\u001b[1;32m    956 \u001b[1;33m    \u001b[1;32mdef\u001b[0m \u001b[0m_prun_fn\u001b[0m\u001b[1;33m(\u001b[0m\u001b[0msession\u001b[0m\u001b[1;33m,\u001b[0m \u001b[0mhandle\u001b[0m\u001b[1;33m,\u001b[0m \u001b[0mfeed_dict\u001b[0m\u001b[1;33m,\u001b[0m \u001b[0mfetch_list\u001b[0m\u001b[1;33m)\u001b[0m\u001b[1;33m:\u001b[0m\u001b[1;33m\u001b[0m\u001b[0m\n",
      "\u001b[0m\n",
      "\u0001\u0002ipdb> \u0001\u0002s\n"
     ]
    }
   ],
   "source": [
    "with tf.Graph().as_default(), tf.Session() as session:\n",
    "    small_config = copy.copy(config)\n",
    "    small_config.batch_size = 1\n",
    "    small_config.num_steps = 1\n",
    "    initializer = tf.random_uniform_initializer(-small_config.init_scale,\n",
    "                                                small_config.init_scale)\n",
    "    \n",
    "    with tf.variable_scope(\"model\", reuse=None, initializer=initializer):\n",
    "        m = PTBModel(is_training=False, config=small_config)\n",
    "    saver = tf.train.Saver()\n",
    "    saver.restore(session, model_path)\n",
    "    for i, x in enumerate(reader.ptb_iterator2_single_sentence(valid_nbest_data['data'], valid_nbest_data['idx2tree'], word_to_id['<eos>'])):\n",
    "        print(i)\n",
    "        print(' '.join([id_to_word[id_] for id_ in x]))\n",
    "        print(' '.join([str(id_) for id_ in x]))\n",
    "        print(score.score_single_tree(session, m, x))"
   ]
  },
  {
   "cell_type": "code",
   "execution_count": 30,
   "metadata": {
    "collapsed": true
   },
   "outputs": [],
   "source": [
    "def get_words(id_to_word, action_indices):\n",
    "    return [id_ for id_ in action_indices if not (id_to_word[id_] == '<eos>' or id_to_word[id_].startswith('(') or id_to_word[id_].startswith(')'))]"
   ]
  },
  {
   "cell_type": "code",
   "execution_count": 31,
   "metadata": {
    "collapsed": true
   },
   "outputs": [],
   "source": [
    "def display_parse(action_indices):\n",
    "    return ' '.join([id_to_word[id_] for id_ in action_indices])"
   ]
  },
  {
   "cell_type": "code",
   "execution_count": 32,
   "metadata": {
    "collapsed": false
   },
   "outputs": [
    {
     "name": "stdout",
     "output_type": "stream",
     "text": [
      "<eos> (S (NP chicago investor william <cunk> )NP (VP agreed (S (VP to (VP sell (NP (NP three divisions )NP (PP of (NP <cunk> peabody & co. )NP )PP )NP (PP for (NP (QP about $ 600 million )QP )NP )PP (PP to (NP (NP <cunk> s.a. )NP , (NP (NP a (ADJP closely held )ADJP clothing maker )NP (VP based (PP in (NP paris )NP )PP )VP )NP )NP )PP )VP )VP )S )VP . )S <eos>\n",
      "<eos> (S (NP chicago investor william <cunk> )NP (VP agreed (S (VP to (VP sell (NP (NP three divisions )NP (PP of (NP <cunk> peabody & co. )NP )PP )NP (PP for (NP (QP about $ 600 million )QP )NP )PP (PP to (NP (NP <cunk> s.a. )NP , (NP (NP a (ADJP closely held )ADJP clothing maker )NP (VP based (PP in (NP paris )NP )PP )VP )NP )NP )PP )VP )VP )S )VP . )S <eos>\n"
     ]
    }
   ],
   "source": [
    "it = reader.ptb_iterator2_single_sentence(valid_nbest_data['data'], valid_nbest_data['idx2tree'], word_to_id['<eos>'])\n",
    "print(display_parse(next(it)))\n",
    "print(display_parse(next(it)))"
   ]
  },
  {
   "cell_type": "code",
   "execution_count": 33,
   "metadata": {
    "collapsed": false,
    "scrolled": true
   },
   "outputs": [
    {
     "data": {
      "text/plain": [
       "'<eos> (S (NP chicago investor william <cunk> )NP (VP agreed (S (VP to (VP sell (NP (NP three divisions )NP (PP of (NP <cunk> peabody & co. )NP )PP )NP (PP for (NP (QP about $ 600 million )QP )NP )PP (PP to (NP (NP <cunk> s.a. )NP , (NP (NP a (ADJP closely held )ADJP clothing maker )NP (VP based (PP in (NP paris )NP )PP )VP )NP )NP )PP )VP )VP )S )VP . )S <eos>'"
      ]
     },
     "execution_count": 33,
     "metadata": {},
     "output_type": "execute_result"
    }
   ],
   "source": [
    "display_parse(x)"
   ]
  },
  {
   "cell_type": "code",
   "execution_count": 34,
   "metadata": {
    "collapsed": false,
    "scrolled": true
   },
   "outputs": [
    {
     "data": {
      "text/plain": [
       "'chicago investor william <cunk> agreed to sell three divisions of <cunk> peabody & co. for about $ 600 million to <cunk> s.a. , a closely held clothing maker based in paris .'"
      ]
     },
     "execution_count": 34,
     "metadata": {},
     "output_type": "execute_result"
    }
   ],
   "source": [
    "display_parse(get_words(id_to_word, x))"
   ]
  },
  {
   "cell_type": "code",
   "execution_count": 35,
   "metadata": {
    "collapsed": false
   },
   "outputs": [
    {
     "data": {
      "text/plain": [
       "<module 'search' from 'search.pyc'>"
      ]
     },
     "execution_count": 35,
     "metadata": {},
     "output_type": "execute_result"
    }
   ],
   "source": [
    "import search\n",
    "reload(search)"
   ]
  },
  {
   "cell_type": "code",
   "execution_count": 36,
   "metadata": {
    "collapsed": true
   },
   "outputs": [],
   "source": [
    "import numpy as np"
   ]
  },
  {
   "cell_type": "code",
   "execution_count": 56,
   "metadata": {
    "collapsed": false,
    "scrolled": true
   },
   "outputs": [
    {
     "name": "stderr",
     "output_type": "stream",
     "text": [
      "310"
     ]
    },
    {
     "name": "stdout",
     "output_type": "stream",
     "text": [
      "0\n",
      "('gold sent:', 'chicago investor william <cunk> agreed to sell three divisions of <cunk> peabody & co. for about $ 600 million to <cunk> s.a. , a closely held clothing maker based in paris .')\n",
      "('pred sent:', 'chicago investor william <cunk> agreed to sell three divisions of <cunk> peabody & co. for about $ 600 million to <cunk> s.a. , a closely held clothing maker based in paris .')\n",
      "('gold:', '<eos> (S (NP chicago investor william <cunk> )NP (VP agreed (S (VP to (VP sell (NP (NP three divisions )NP (PP of (NP <cunk> peabody & co. )NP )PP )NP (PP for (NP (QP about $ 600 million )QP )NP )PP (PP to (NP (NP <cunk> s.a. )NP , (NP (NP a (ADJP closely held )ADJP clothing maker )NP (VP based (PP in (NP paris )NP )PP )VP )NP )NP )PP )VP )VP )S )VP . )S <eos>')\n",
      "('pred:', '<eos> (S (S (NP (NP (NP (NP (NP (NP chicago )NP )NP (NP (NP investor )NP )NP (ADJP (ADJP (ADJP (NP (NP (NP (NP (NP william <cunk> )NP )NP (NP (NP (ADJP (ADJP (ADJP (NP (NP (ADJP agreed )ADJP )NP (PP to (NP (NP (NP (NP (NP (NP (NP (NP sell )NP (PP (ADVP (NP (NP (QP three )QP )NP (NP (NP (NAC (NAC (NAC (NAC (NAC (NAC divisions )NAC )NAC (PP of (NP <cunk> )NP )PP )NAC (NX (NX (NX (NX (NX (NAC (NAC (NAC peabody )NAC )NAC )NAC (NX (NX (NX (NX (NX (NX (NX (NX & co. )NX (PP for (NP (NX (NX (NX (NX (NX (NX (NX about )NX )NX (NP (NX (NX (NX (NX (NX (NX (NX $ 600 )NX (PRN (PP (NP (NP (NX (NX (NX (NX million )NX )NX (PP to (NP <cunk> )NP )PP )NX )NX )NP (NP (NP (NX (NX (NX (NX (NX (NX s.a. )NX , (SBAR (WHNP (WHNP a (ADJP closely held )ADJP (NX (NX (NX (NX (NX (NX (NX (NX clothing )NX )NX (NP (NX (NX (NX (NX (NX (NX (NX maker )NX )NX (NP (NX (NX (ADJP (ADJP (ADJP (ADJP (ADJP based )ADJP (PP in (NP paris )NP )PP (NX (NX (NX (NX (NX (NX (NAC (NAC . )NAC )NAC )NX )NX )NX )NX )NX )NX )ADJP )ADJP )ADJP )ADJP )NX )NX )NP )NX )NX )NX )NX )NX )NP )NX )NX )NX )NX )NX )NX )WHNP )WHNP )SBAR )NX )NX )NX )NX )NX )NP )NP )NP )PP )PRN )NX )NX )NX )NX )NX )NX )NP )NX )NX )NX )NX )NX )NP )PP )NX )NX )NX )NX )NX )NX )NX )NX )NX )NX )NX )NX )NAC )NAC )NAC )NP )NP )NP )ADVP )PP )NP )NP )NP )NP )NP )NP )NP )PP )NP )ADJP )ADJP )ADJP )NP )NP )NP )NP )NP )ADJP )ADJP )ADJP )NP )NP )NP )NP )S )S <eos>')\n",
      "('pred score:', -1841.3281095992677)\n",
      "[0.14039509, 2.5001976, 0.38071719, 1.1999305, 2.7527323, 3.4995542, 4.1623135, 4.5701604, 5.9657593, 5.1003399, 5.0680676, 5.6542654, 3.6769569, 9.3486404, 0.52801687, 3.6597183, 7.9769511, 3.0141311, 3.1615882, 2.8247075, 3.3748209, 4.1741581, 3.9242148, 4.2489362, 9.4264135, 0.70504969, 1.7202884, 6.3408699, 4.3887725, 4.1421213, 9.1077309, 5.2940583, 4.71486, 3.837142, 3.2243352, 7.2594094, 13.298658, 0.48674074, 2.985234, 3.7984104, 5.3850117, 0.0063728443, 3.9151103, 5.239697, 5.5907173, 5.8903995, 5.8234997, 5.828444, 5.7504263, 15.706933, 2.3858938, 0.6534723, 11.161205, 4.337923, 4.0931959, 5.4842606, 5.1096115, 6.1078186, 3.1718769, 6.1076837, 7.5181551, 7.5693865, 5.4341097, 5.7895985, 5.728312, 5.6886697, 5.6069708, 15.191021, 0.4379389, 0.6955781, 0.15762718, 1.0902739, 0.0015318575, 2.2373381, 0.024495438, 0.0, 7.1525551e-07, 6.9737229, 0.0030521022, 4.8164382, 4.6171932, 4.7328773, 5.3321991, 5.5368161, 5.4221621, 15.571281, 1.6151326, 1.1982324, 1.5623912, 5.4747305, 0.0053905132, 5.1030841, 4.7082114, 4.8028507, 4.7428794, 4.766799, 4.7680883, 13.566125, 7.8164234, 0.011794829, 1.3851061, 5.1593642, 0.00031573555, 8.923377, 0.46533039, 6.3798642, 5.8959932, 6.0439596, 5.8527894, 5.7553501, 15.453121, 0.18819079, 2.1083229, 6.3694487, 2.7937655, 0.2029146, 5.1702127, 4.8210149, 4.9314609, 4.8816957, 4.8886461, 12.759046, 7.1955109, 0.00080219511, 0.35695282, 11.603696, 0.39388043, 1.1759865, 7.3009796, 0.1382408, 5.1196766, 4.7435741, 12.952397, 0.14049101, 2.1426384, 2.6899037, 4.9265838, 0.00085829606, 1.493634, 1.0157973, 0.0, 0.0021239596, 1.7972696, 0.6200313, 6.6876321, 2.0160718, 8.3239946, 0.0077761081, 5.0457077, 5.0654202, 5.2350926, 5.1678648, 9.7415771, 0.00038973842, 1.2375294, 4.8558035, 0.0063317409, 2.6767788, 3.8917255, 3.4430017, 4.1996584, 0.0773651, 4.708656e-05, 6.134244, 0.0013921104, 4.9001007, 4.5850439, 5.0812097, 4.9660807, 5.067997, 5.0438118, 11.686656, 0.69683927, 2.5692534, 6.410954, 1.8843819, 0.94357693, 5.6635313, 5.4394374, 5.579195, 5.5140538, 5.5398121, 11.560002, 6.3774933e-05, 3.9313514, 5.1348071, 2.536227, 0.59740382, 11.023682, 5.4667234, 4.7044039, 4.6420174, 4.5020409, 9.4753761, 1.4753541, 4.6236305, 1.2835457, 0.0059550954, 6.9685135, 0.0032254835, 0.0, 13.1224, 1.3441283, 4.4762225, 5.0210752, 5.3015018, 5.2409811, 7.1395526, 6.796052, 16.177691, 5.7543688, 5.8366179, 0.70467985, 5.6449413, 8.4384403, 7.6444359, 6.7938561, 6.159862, 12.232525, 12.826695, 13.117203, 13.41743, 7.0283298, 7.532095, 0.032938484, 13.408538, 8.7350855, 9.9043293, 9.5780773, 10.292773, 3.9229262, 11.382936, 9.7238064, 10.787879, 10.81044, 10.806052, 10.728996, 13.464367, 11.863745, 8.2202721, 7.7738247, 8.9238462, 8.9032297, 9.0132236, 8.972868, 2.9035678, 12.127959, 8.9934263, 0.0018291423, 8.3270502, 9.0267096, 8.2734613, 8.622097, 8.8435612, 9.3665848, 9.7474136, 1.7180657, 17.106627, 9.7874928, 10.439682, 10.343228, 10.760113, 2.3914018, 0.0053588552, 11.157097, 12.135284, 11.887756, 12.275467, 12.438459, 12.631565, 12.713019, 12.773863, 12.8254, 12.897405, 12.985353, 13.088023, 15.371821, 12.592015, 12.196854, 4.6517224, 9.8156767, 8.7070799, 11.648707, 7.1071773, 4.9368887, 8.6060047, 7.8802543, 8.0321035, 7.812706, 7.8673286, 7.8275232, 6.2126575, 6.5220346, 9.5551252, 9.9276209, 10.969054, 7.6884794, 8.0369768, 7.9563079, 8.1946993, 8.1445875, 9.5367489, 10.373994, 11.029415, 8.2784243, 8.3643751, 8.405365, 8.5837545, 5.1469727, 8.0256166, 6.4586921]\n",
      "('rescore:', 1841.3281095992677)\n"
     ]
    }
   ],
   "source": [
    "with tf.Graph().as_default(), tf.Session() as session:\n",
    "    small_config = copy.copy(config)\n",
    "    small_config.batch_size = 1\n",
    "    small_config.num_steps = 1\n",
    "    initializer = tf.random_uniform_initializer(-small_config.init_scale,\n",
    "                                                small_config.init_scale)\n",
    "    \n",
    "    with tf.variable_scope(\"model\", reuse=None, initializer=initializer):\n",
    "        m = PTBModel(is_training=False, config=small_config)\n",
    "    saver = tf.train.Saver()\n",
    "    saver.restore(session, model_path)\n",
    "    \n",
    "    bs = search.BeamSearch(session, m, word_to_id)\n",
    "    \n",
    "#     for i, gold_action_indices in enumerate(reader.ptb_iterator2_single_sentence(valid_nbest_data['data'], valid_nbest_data['idx2tree'], word_to_id['<eos>'])):\n",
    "    i, gold_action_indices = next(enumerate(reader.ptb_iterator2_single_sentence(valid_nbest_data['data'], valid_nbest_data['idx2tree'], word_to_id['<eos>'])))\n",
    "    word_indices = get_words(id_to_word, gold_action_indices)\n",
    "    pred_action_indices, pred_score = bs.beam_search(word_indices, 5)\n",
    "    print(i)\n",
    "    print(\"gold sent:\", display_parse(word_indices))\n",
    "    print(\"pred sent:\", display_parse(get_words(id_to_word, pred_action_indices)))\n",
    "    print(\"gold:\", display_parse(gold_action_indices))\n",
    "    print(\"pred:\", display_parse(pred_action_indices))\n",
    "    print(\"pred score:\", pred_score)\n",
    "    print(\"rescore:\", score.score_single_tree(session, m, np.array(pred_action_indices)))"
   ]
  },
  {
   "cell_type": "code",
   "execution_count": 37,
   "metadata": {
    "collapsed": false
   },
   "outputs": [
    {
     "data": {
      "text/plain": [
       "{'yellow': 6920,\n",
       " 'four': 419,\n",
       " 'mirage': 5898,\n",
       " 'looking': 819,\n",
       " 'eligible': 5026,\n",
       " 'electricity': 3719,\n",
       " 'refunding': 6357,\n",
       " 'savaiko': 6374,\n",
       " 'regional': 1586,\n",
       " 'dell': 5809,\n",
       " 'hdtv': 4269,\n",
       " 'bringing': 2561,\n",
       " 'wednesday': 1079,\n",
       " 'straight': 3911,\n",
       " 'non-violent': 5620,\n",
       " 'charter': 3700,\n",
       " 'miller': 2274,\n",
       " 'merieux': 4295,\n",
       " '270': 4950,\n",
       " 'second': 395,\n",
       " 'resignations': 5661,\n",
       " 'errors': 5266,\n",
       " 'contributed': 1378,\n",
       " 'bonuses': 4214,\n",
       " 'designing': 6593,\n",
       " 'increasing': 1206,\n",
       " 'specialist': 2990,\n",
       " 'reporter': 4493,\n",
       " 'avery': 4209,\n",
       " 'here': 418,\n",
       " 'reported': 281,\n",
       " 'china': 752,\n",
       " 'affiliated': 6074,\n",
       " 'borrowers': 5475,\n",
       " 'cyclical': 4406,\n",
       " 'kids': 3739,\n",
       " 'k': 3378,\n",
       " 'climbed': 1458,\n",
       " 'reports': 773,\n",
       " 'controversy': 3359,\n",
       " 'military': 863,\n",
       " 'criticism': 2423,\n",
       " 'golden': 1863,\n",
       " 'projection': 6784,\n",
       " 'explained': 4609,\n",
       " 'replace': 2170,\n",
       " 'brought': 1223,\n",
       " 'repurchase': 3519,\n",
       " 'beneficiaries': 4979,\n",
       " 'unit': 215,\n",
       " 'opponents': 3386,\n",
       " 'marketers': 4291,\n",
       " 'music': 1890,\n",
       " 'telegraph': 3656,\n",
       " 'strike': 1273,\n",
       " 'until': 396,\n",
       " 'b.a.t': 1970,\n",
       " 'successful': 1816,\n",
       " 'brings': 5212,\n",
       " 'hurt': 1109,\n",
       " '99': 2945,\n",
       " 'glass': 2190,\n",
       " '91': 5450,\n",
       " '90': 1354,\n",
       " '93': 4551,\n",
       " 'hold': 927,\n",
       " '95': 3003,\n",
       " '97': 3334,\n",
       " 'circumstances': 2520,\n",
       " 'locked': 6717,\n",
       " 'pursue': 2484,\n",
       " 'plunged': 1811,\n",
       " 'itself': 742,\n",
       " 'temperatures': 6404,\n",
       " 'revenues': 2655,\n",
       " 'example': 575,\n",
       " 'wang': 2064,\n",
       " 'household': 2389,\n",
       " 'organized': 3505,\n",
       " 'currency': 895,\n",
       " 'caution': 3256,\n",
       " 'reviewing': 5111,\n",
       " 'want': 433,\n",
       " 'counseling': 6578,\n",
       " 'travel': 1644,\n",
       " 'damage': 560,\n",
       " 'machine': 1179,\n",
       " 'how': 303,\n",
       " 'hot': 3107,\n",
       " 'beauty': 5763,\n",
       " 'modest': 1522,\n",
       " 'promotion': 3122,\n",
       " 'types': 2601,\n",
       " 'effective': 1254,\n",
       " 'wins': 5167,\n",
       " 'deutsche': 4599,\n",
       " 'cigarettes': 4577,\n",
       " 'keeps': 5311,\n",
       " 'democratic': 1071,\n",
       " 'wind': 4729,\n",
       " 'wine': 6916,\n",
       " 'senators': 2096,\n",
       " '<cunkest>': 2414,\n",
       " 'vary': 3427,\n",
       " 'benefited': 4569,\n",
       " 'fidelity': 3475,\n",
       " 'fit': 3103,\n",
       " 'stevens': 3532,\n",
       " 'conner': 3357,\n",
       " 'hidden': 5569,\n",
       " 'easier': 2626,\n",
       " '<unk->': 54,\n",
       " 'lambert': 2164,\n",
       " 'slate': 5683,\n",
       " 'effects': 1781,\n",
       " 'schools': 1957,\n",
       " 'township': 6884,\n",
       " 'silver': 2128,\n",
       " 'structural': 2203,\n",
       " 'represents': 1730,\n",
       " 'ruth': 6371,\n",
       " 'debut': 4809,\n",
       " 'cftc': 6114,\n",
       " 'crops': 5506,\n",
       " 'financial': 196,\n",
       " 'series': 528,\n",
       " '250,000': 3675,\n",
       " 'substantially': 1960,\n",
       " 'laboratory': 3861,\n",
       " 'freeze': 6648,\n",
       " 'mason': 5319,\n",
       " 'semiconductor': 2354,\n",
       " 'encourage': 2694,\n",
       " 'engineer': 5824,\n",
       " 'strategist': 3534,\n",
       " 'foundation': 2974,\n",
       " 'md.': 5610,\n",
       " 'assured': 5465,\n",
       " 'noriega': 1067,\n",
       " 'threatened': 2994,\n",
       " 'surveys': 5142,\n",
       " 'estimate': 926,\n",
       " 'enormous': 2378,\n",
       " 'bates': 4067,\n",
       " 'silicon': 4703,\n",
       " 'shipped': 4908,\n",
       " '1970s': 2252,\n",
       " 'r.': 1452,\n",
       " 'nigel': 4306,\n",
       " 'channels': 6548,\n",
       " 'wash': 6434,\n",
       " 'chevron': 3818,\n",
       " 'resisted': 5967,\n",
       " '170': 3930,\n",
       " 'basketball': 4210,\n",
       " 'exchequer': 3968,\n",
       " 'service': 411,\n",
       " 'similarly': 4704,\n",
       " 'lawsuits': 2347,\n",
       " 'needed': 1045,\n",
       " 'master': 3870,\n",
       " 'listed': 1835,\n",
       " 'bitter': 4984,\n",
       " 'ranging': 2921,\n",
       " 'listen': 4642,\n",
       " 'rewards': 6364,\n",
       " 'collapse': 1651,\n",
       " 'geneva': 4266,\n",
       " 'wisdom': 5718,\n",
       " 'tires': 6883,\n",
       " 'showed': 1139,\n",
       " 'nations': 2117,\n",
       " 'project': 838,\n",
       " 'idle': 4440,\n",
       " 'feeling': 3182,\n",
       " 'acquisition': 571,\n",
       " 'willingness': 6915,\n",
       " 'boston': 763,\n",
       " 'dozen': 1861,\n",
       " 'affairs': 2002,\n",
       " 'person': 1760,\n",
       " 'responsible': 1989,\n",
       " '2.75': 6461,\n",
       " 'recommended': 3124,\n",
       " 'causing': 2876,\n",
       " 'doors': 4414,\n",
       " 'shipments': 2487,\n",
       " 'transactions': 1337,\n",
       " 'wells': 1998,\n",
       " 'letter': 1214,\n",
       " 'conceded': 3953,\n",
       " 'singer': 4705,\n",
       " 'episode': 6620,\n",
       " 'antitrust': 2677,\n",
       " 'professor': 2278,\n",
       " 'camp': 6541,\n",
       " 'detectors': 6160,\n",
       " 'came': 631,\n",
       " 'saying': 843,\n",
       " 'meetings': 2224,\n",
       " 'gauge': 5837,\n",
       " 'participate': 3623,\n",
       " 'hungary': 2635,\n",
       " 'busy': 3162,\n",
       " 'headline': 6228,\n",
       " '(PP': 6,\n",
       " 'interbank': 3489,\n",
       " 'rico': 2353,\n",
       " 'theme': 3660,\n",
       " 'rich': 2171,\n",
       " 'milton': 3615,\n",
       " 'capel': 5482,\n",
       " 'rica': 3407,\n",
       " 'plate': 6329,\n",
       " 'salespeople': 4688,\n",
       " 'klein': 6705,\n",
       " 'honda': 3978,\n",
       " 'lenders': 2221,\n",
       " 'altogether': 4964,\n",
       " 'volatility': 1198,\n",
       " 'jaguar': 654,\n",
       " 'openly': 6752,\n",
       " 'three-year': 3661,\n",
       " 'release': 1765,\n",
       " 'respond': 2987,\n",
       " 'leasing': 3741,\n",
       " 'disaster': 1460,\n",
       " 'fair': 2298,\n",
       " 'unexpectedly': 5425,\n",
       " 'result': 500,\n",
       " 'fail': 3841,\n",
       " 'resigned': 1367,\n",
       " 'best': 681,\n",
       " 'pressured': 6778,\n",
       " 'lots': 3609,\n",
       " 'irs': 1258,\n",
       " 'injuries': 3602,\n",
       " 'pressures': 3631,\n",
       " 'score': 5384,\n",
       " 'ira': 5059,\n",
       " 'preserve': 4667,\n",
       " 'wage': 1454,\n",
       " 'men': 1090,\n",
       " 'nationwide': 2773,\n",
       " 'nature': 2348,\n",
       " 'rolled': 4499,\n",
       " 'felony': 6198,\n",
       " 'affiliates': 4056,\n",
       " 'extent': 2380,\n",
       " 'carbon': 5777,\n",
       " 'debt': 261,\n",
       " 'accident': 3805,\n",
       " 'country': 479,\n",
       " '62.5': 4548,\n",
       " 'heating': 6229,\n",
       " 'demanded': 5244,\n",
       " 'planned': 1102,\n",
       " 'logic': 5880,\n",
       " 'argue': 2212,\n",
       " 'adapted': 6486,\n",
       " 'asked': 697,\n",
       " 'irresponsible': 6254,\n",
       " '102': 3798,\n",
       " 'pregnancy': 5355,\n",
       " '250': 1824,\n",
       " 'fema': 6199,\n",
       " 'billing': 4983,\n",
       " 'union': 373,\n",
       " '.': 11,\n",
       " 'much': 172,\n",
       " 'stadium': 3909,\n",
       " 'rubbermaid': 6825,\n",
       " 'privilege': 6338,\n",
       " 'life': 466,\n",
       " 'eastern': 832,\n",
       " 'worker': 2941,\n",
       " 'irving': 5594,\n",
       " 'wish': 3546,\n",
       " 'dave': 6152,\n",
       " 'lift': 3865,\n",
       " 'doubts': 4415,\n",
       " 'worked': 1487,\n",
       " 'spin': 4341,\n",
       " 'diverted': 6169,\n",
       " 'commerce': 1578,\n",
       " 'presidency': 5094,\n",
       " 'appeals': 2071,\n",
       " 'elaborate': 3179,\n",
       " 'played': 1952,\n",
       " 'player': 2647,\n",
       " 'upscale': 4933,\n",
       " 'violin': 6028,\n",
       " 'specter': 5989,\n",
       " 'damaged': 1779,\n",
       " 'taped': 6401,\n",
       " 'things': 692,\n",
       " 'cumulative': 4087,\n",
       " 'achenbaum': 4198,\n",
       " 'bid': 302,\n",
       " 'european': 640,\n",
       " 'fairly': 2111,\n",
       " 'boiler': 6524,\n",
       " 'ownership': 1623,\n",
       " 'academic': 3680,\n",
       " 'corporate': 442,\n",
       " 'opinions': 5924,\n",
       " 'capitol': 3696,\n",
       " 'distribute': 5018,\n",
       " 'financially': 3723,\n",
       " 'birmingham': 6520,\n",
       " 'rushing': 5668,\n",
       " 'succeeding': 3318,\n",
       " 'previous': 665,\n",
       " 'politburo': 5091,\n",
       " 'phillips': 2022,\n",
       " 'ease': 1944,\n",
       " 'had': 88,\n",
       " 'ideal': 5578,\n",
       " 'easy': 1780,\n",
       " 'prison': 2920,\n",
       " 'has': 58,\n",
       " 'municipal': 1661,\n",
       " 'survival': 5699,\n",
       " 'possible': 602,\n",
       " 'possibly': 2780,\n",
       " 'shadow': 5122,\n",
       " 'desire': 2820,\n",
       " 'psychological': 6346,\n",
       " 'bobby': 5766,\n",
       " 'steps': 1732,\n",
       " 'beneficial': 4771,\n",
       " 'right': 484,\n",
       " 'old': 474,\n",
       " 'creek': 6146,\n",
       " 'crowd': 3172,\n",
       " 'people': 157,\n",
       " 'northrop': 5915,\n",
       " 'consultants': 2039,\n",
       " 'enemies': 6618,\n",
       " 'for': 29,\n",
       " 'bottom': 2813,\n",
       " 'fox': 3279,\n",
       " 'p.m.': 2227,\n",
       " 'contributing': 6136,\n",
       " 'continue': 463,\n",
       " '6,000': 4953,\n",
       " 'shifting': 5677,\n",
       " 'defensive': 2965,\n",
       " 'losing': 1980,\n",
       " 'brokerage': 882,\n",
       " 'manufacturing': 937,\n",
       " 'spoke': 5127,\n",
       " 'filipino': 4828,\n",
       " 'dollars': 684,\n",
       " 'citizens': 2562,\n",
       " 'annualized': 3684,\n",
       " 'lacked': 6707,\n",
       " 'slightly': 866,\n",
       " 'nixon': 4477,\n",
       " 'raised': 899,\n",
       " 'statements': 2721,\n",
       " 'facility': 1677,\n",
       " 'maxwell': 2640,\n",
       " 'marshall': 2835,\n",
       " 'soo': 6851,\n",
       " 'son': 2598,\n",
       " 'magazines': 1477,\n",
       " 'raises': 3764,\n",
       " 'reducing': 2653,\n",
       " 'defendants': 2009,\n",
       " 'fabric': 6629,\n",
       " 'support': 508,\n",
       " 'constantly': 5499,\n",
       " 'knowing': 6262,\n",
       " 'one-time': 2645,\n",
       " 'joseph': 2051,\n",
       " 'authorized': 3445,\n",
       " 'resulted': 2654,\n",
       " 'overhead': 5629,\n",
       " 'launching': 5065,\n",
       " 'happy': 3481,\n",
       " 'manufacturers': 1065,\n",
       " 'robertson': 4498,\n",
       " 'nov.': 505,\n",
       " 'inside': 2344,\n",
       " 'devices': 1915,\n",
       " 'vanguard': 6900,\n",
       " 'jan.': 2162,\n",
       " 'panels': 6761,\n",
       " 'azt': 4977,\n",
       " '<unk>': 22,\n",
       " '150': 1106,\n",
       " 'adopt': 4053,\n",
       " 'liberal': 3381,\n",
       " 'steady': 2851,\n",
       " 'proven': 5954,\n",
       " \"''\": 37,\n",
       " 'exist': 3471,\n",
       " 'accounting': 1440,\n",
       " 'dealer': 2424,\n",
       " 'negotiations': 1463,\n",
       " 'posting': 4665,\n",
       " 'solicitation': 6386,\n",
       " 'eventual': 5828,\n",
       " 'floor': 1164,\n",
       " '3\\\\/8': 916,\n",
       " 'actor': 4961,\n",
       " 'role': 939,\n",
       " 'ambitious': 4202,\n",
       " 'developers': 2692,\n",
       " 'roll': 2595,\n",
       " \"'s\": 28,\n",
       " 'models': 2056,\n",
       " 'ramada': 5652,\n",
       " \"'d\": 1199,\n",
       " 'invested': 2581,\n",
       " 'rolling': 4154,\n",
       " \"'m\": 948,\n",
       " 'reorganization': 1640,\n",
       " '98': 2608,\n",
       " 'time': 149,\n",
       " 'push': 1986,\n",
       " 'cincinnati': 3258,\n",
       " 'chain': 1393,\n",
       " 'resources': 1166,\n",
       " 'chair': 6115,\n",
       " 'midst': 4860,\n",
       " 'venice': 6428,\n",
       " '92': 6067,\n",
       " 'burlington': 6537,\n",
       " '96': 4741,\n",
       " 'veterans': 5711,\n",
       " 'allegations': 2553,\n",
       " 'consolidation': 4587,\n",
       " 'choice': 2257,\n",
       " 'drexel': 1009,\n",
       " 'corp.': 110,\n",
       " 'exact': 5829,\n",
       " 'minute': 4298,\n",
       " 'leave': 1330,\n",
       " 'settle': 2126,\n",
       " 'defaults': 4408,\n",
       " 'team': 932,\n",
       " 'depository': 5514,\n",
       " 'speculation': 1607,\n",
       " 'prevent': 1664,\n",
       " 'findings': 4102,\n",
       " 'sign': 1404,\n",
       " 'hewlett-packard': 2191,\n",
       " 'current': 342,\n",
       " '7.25': 5732,\n",
       " 'falling': 1886,\n",
       " 'boost': 1080,\n",
       " 'jury': 1493,\n",
       " 'understanding': 5155,\n",
       " 'address': 2946,\n",
       " 'alone': 1468,\n",
       " 'along': 785,\n",
       " 'benson': 4390,\n",
       " 'passengers': 4315,\n",
       " 'redemption': 4014,\n",
       " 'studied': 5403,\n",
       " 'funded': 4263,\n",
       " 'financiere': 6200,\n",
       " 'studies': 2100,\n",
       " 'tasks': 5145,\n",
       " 'love': 3036,\n",
       " 'prefer': 3395,\n",
       " 'carol': 5778,\n",
       " 'opposes': 6306,\n",
       " 'working': 778,\n",
       " 'positive': 2059,\n",
       " 'angry': 4203,\n",
       " 'predictions': 5640,\n",
       " 'opposed': 2120,\n",
       " 'wondering': 6440,\n",
       " 'films': 5037,\n",
       " 'prosecutor': 4885,\n",
       " 'introducing': 6253,\n",
       " '``': 36,\n",
       " 'afford': 3078,\n",
       " 'apparent': 2868,\n",
       " 'oregon': 4658,\n",
       " 'sierra': 5124,\n",
       " 'riders': 6365,\n",
       " 'behalf': 2950,\n",
       " 'valued': 1390,\n",
       " 'originally': 3387,\n",
       " 'abortion': 1064,\n",
       " 'believes': 1281,\n",
       " 'printing': 3396,\n",
       " 'values': 1821,\n",
       " 'fresenius': 4831,\n",
       " 'believed': 1630,\n",
       " 'webster': 3145,\n",
       " 'n.y.': 2305,\n",
       " 'unveiled': 4176,\n",
       " 'allowed': 1276,\n",
       " '230': 6055,\n",
       " 'monitoring': 3502,\n",
       " 'winter': 2858,\n",
       " 'divided': 3466,\n",
       " 'immune': 4442,\n",
       " 's.': 2172,\n",
       " 'five-year': 2827,\n",
       " 'spot': 2446,\n",
       " 'applications': 2869,\n",
       " 'improving': 4275,\n",
       " 'such': 136,\n",
       " 'acceptances': 5739,\n",
       " 'data': 530,\n",
       " 'stress': 3317,\n",
       " 'natural': 1101,\n",
       " 'sectors': 3903,\n",
       " 'yielding': 5721,\n",
       " 'ciba-geigy': 5218,\n",
       " 'so': 154,\n",
       " 'pulled': 2593,\n",
       " 'nynex': 5918,\n",
       " 'sell-off': 2788,\n",
       " 'years': 114,\n",
       " 'hiring': 3852,\n",
       " 'experiments': 2971,\n",
       " 'overhaul': 3506,\n",
       " 'lackluster': 3987,\n",
       " 'jim': 3193,\n",
       " 'troubles': 2726,\n",
       " 'louisville': 4288,\n",
       " 'suspension': 3654,\n",
       " 'troubled': 1737,\n",
       " 'decades': 3264,\n",
       " 'petition': 6770,\n",
       " 'modestly': 4469,\n",
       " 'thereby': 6407,\n",
       " 'nation': 611,\n",
       " 'records': 2234,\n",
       " 'drilling': 3177,\n",
       " 'subscribers': 3535,\n",
       " 'subordinated': 1609,\n",
       " 'matched': 5609,\n",
       " 'establishing': 5535,\n",
       " 'bowling': 6528,\n",
       " 'quarter': 155,\n",
       " 'square': 2241,\n",
       " 'revised': 1569,\n",
       " 'sponsor': 5397,\n",
       " 'entering': 5262,\n",
       " 'disasters': 3714,\n",
       " 'container': 6134,\n",
       " 'pittston': 6327,\n",
       " 'seriously': 3905,\n",
       " 'investigation': 1461,\n",
       " 'suggesting': 4516,\n",
       " 'formula': 4259,\n",
       " 'million': 49,\n",
       " 'incentives': 2979,\n",
       " 'possibility': 2540,\n",
       " 'quite': 1688,\n",
       " 'lucrative': 4644,\n",
       " 'besides': 3009,\n",
       " 'remainder': 5105,\n",
       " 'training': 2321,\n",
       " 'programming': 3884,\n",
       " 'wrong': 1878,\n",
       " 'massive': 2585,\n",
       " 'thurmond': 6881,\n",
       " 'routes': 4501,\n",
       " 'squibb': 5129,\n",
       " 'saving': 4903,\n",
       " 'clause': 6120,\n",
       " 'one': 91,\n",
       " 'reopen': 5373,\n",
       " 'specifically': 3649,\n",
       " 'spanish': 4031,\n",
       " 'vote': 924,\n",
       " 'open': 760,\n",
       " 'city': 365,\n",
       " 'boren': 3250,\n",
       " 'structured': 5137,\n",
       " 'indicate': 2271,\n",
       " '2': 356,\n",
       " 'shoppers': 6841,\n",
       " 'structures': 4036,\n",
       " 'williams': 6034,\n",
       " 'proving': 6787,\n",
       " 'ridiculous': 6818,\n",
       " 'slashed': 4511,\n",
       " 'specialists': 2547,\n",
       " 'representing': 2235,\n",
       " ')NAC': 278,\n",
       " 'conn.': 2420,\n",
       " 'depressed': 3831,\n",
       " 'rival': 2404,\n",
       " '<cunk.>': 460,\n",
       " 'future': 629,\n",
       " 'prospect': 2650,\n",
       " 'san': 364,\n",
       " 'sam': 3309,\n",
       " 'turned': 1049,\n",
       " 'locations': 5314,\n",
       " 'headquarters': 1317,\n",
       " 'say': 169,\n",
       " 'buried': 6106,\n",
       " 'financier': 3593,\n",
       " 'allen': 3006,\n",
       " 'turner': 2664,\n",
       " 'borough': 5769,\n",
       " 'saw': 1570,\n",
       " 'sat': 4027,\n",
       " 'fashionable': 6632,\n",
       " 'aside': 2509,\n",
       " '(NAC': 277,\n",
       " 'note': 1091,\n",
       " 'intends': 2219,\n",
       " 'take': 275,\n",
       " 'destroy': 5517,\n",
       " 'europeans': 5536,\n",
       " 'ironically': 6696,\n",
       " 'printer': 6780,\n",
       " 'opposite': 4657,\n",
       " 'knew': 3607,\n",
       " 'printed': 6779,\n",
       " 'remarks': 3304,\n",
       " 'pages': 2167,\n",
       " 'honecker': 2580,\n",
       " 'lawn': 5870,\n",
       " 'neb.': 6741,\n",
       " 'average': 247,\n",
       " ')WHNP': 33,\n",
       " 'drive': 1593,\n",
       " 'occidental': 6748,\n",
       " 'ways': 1274,\n",
       " 'refining': 4326,\n",
       " 'atlantic': 2415,\n",
       " '30,000': 5176,\n",
       " 'liquidity': 1806,\n",
       " 'laws': 1703,\n",
       " 'madison': 5885,\n",
       " 'surplus': 3063,\n",
       " 'lotus': 3866,\n",
       " 'merit': 6733,\n",
       " 'far-reaching': 6195,\n",
       " 'bright': 4572,\n",
       " 'steelmakers': 3531,\n",
       " 'subsidiary': 716,\n",
       " 'aggressive': 2288,\n",
       " 'slow': 1420,\n",
       " 'going': 377,\n",
       " 'azoff': 4762,\n",
       " 'congressional': 1056,\n",
       " 'carolina': 2814,\n",
       " 'assistant': 1907,\n",
       " 'prime': 1076,\n",
       " 'artist': 4384,\n",
       " 'borrow': 3695,\n",
       " 'worried': 2412,\n",
       " 'roger': 3639,\n",
       " 'worries': 4184,\n",
       " 'where': 314,\n",
       " 'vision': 4536,\n",
       " 'corry': 2817,\n",
       " 'surgery': 4925,\n",
       " 'jumped': 1111,\n",
       " 'representatives': 1928,\n",
       " 'bureau': 1532,\n",
       " 'affecting': 4055,\n",
       " 'jobs': 1398,\n",
       " 'marvin': 4857,\n",
       " 'screen': 3773,\n",
       " 'supermarket': 5698,\n",
       " 'concentrate': 3572,\n",
       " 'spare': 6854,\n",
       " 'spark': 6387,\n",
       " 'undermine': 6891,\n",
       " 'concentrated': 5498,\n",
       " 'oust': 5627,\n",
       " 'many': 145,\n",
       " 'myself': 5905,\n",
       " 'deduction': 6155,\n",
       " 's': 5115,\n",
       " 'bpca': 6530,\n",
       " 'comeback': 6126,\n",
       " 'considers': 5225,\n",
       " 'boat': 6098,\n",
       " 'teddy': 4927,\n",
       " 'stretch': 4035,\n",
       " 'west': 449,\n",
       " 'airlines': 774,\n",
       " 'concede': 5789,\n",
       " 'hutton': 1476,\n",
       " 'defined': 4595,\n",
       " 'combined': 1773,\n",
       " 'stripped': 6863,\n",
       " 'wants': 957,\n",
       " 'enable': 3965,\n",
       " 'chan': 5781,\n",
       " 'thousand': 4040,\n",
       " 'formed': 2426,\n",
       " 'photos': 5936,\n",
       " 'former': 409,\n",
       " 'polly': 5940,\n",
       " 'consultant': 1470,\n",
       " 'reebok': 4489,\n",
       " 'polls': 3628,\n",
       " 'engineering': 1518,\n",
       " 'policies': 1481,\n",
       " 'pennzoil': 6317,\n",
       " 'squeezed': 4917,\n",
       " 'situation': 1062,\n",
       " 'engaged': 3100,\n",
       " '13.8': 6047,\n",
       " '13.4': 6453,\n",
       " 'technology': 532,\n",
       " 'fame': 6194,\n",
       " '13.1': 5726,\n",
       " 'expenditures': 4252,\n",
       " 'missiles': 6290,\n",
       " 'honeywell': 4437,\n",
       " 'sterling': 1815,\n",
       " 'edged': 4091,\n",
       " 'singapore': 2356,\n",
       " 'boosted': 2144,\n",
       " 'wpp': 3797,\n",
       " 'allocation': 6078,\n",
       " 'harris': 2765,\n",
       " 'packwood': 4480,\n",
       " 'costa': 2293,\n",
       " 'tracking': 6020,\n",
       " '60,000': 6059,\n",
       " 'vacant': 6899,\n",
       " 'costs': 325,\n",
       " 'sunnyvale': 6002,\n",
       " 'minpeco': 4651,\n",
       " 'summer': 1123,\n",
       " 'being': 260,\n",
       " 'rest': 1158,\n",
       " 'rubens': 5666,\n",
       " 'weekly': 2207,\n",
       " '(X': 693,\n",
       " 'temblor': 4717,\n",
       " '(S': 4,\n",
       " 'instrument': 4628,\n",
       " 'aspects': 3561,\n",
       " 'around': 464,\n",
       " 'period': 421,\n",
       " 'dark': 4807,\n",
       " 'traffic': 1819,\n",
       " 'preference': 5354,\n",
       " 'world': 272,\n",
       " 'postal': 5352,\n",
       " 'satisfaction': 4690,\n",
       " 'intel': 2345,\n",
       " 'beverly': 4570,\n",
       " 'colon': 5496,\n",
       " 'lebanon': 3742,\n",
       " 'tvs': 3922,\n",
       " 'racial': 3887,\n",
       " 'tva': 4175,\n",
       " 'thinks': 2063,\n",
       " 'scandals': 5975,\n",
       " '13.50': 6046,\n",
       " 'memories': 3500,\n",
       " 'noon': 6745,\n",
       " 'scientific': 2406,\n",
       " 'power': 420,\n",
       " 'intimate': 5591,\n",
       " 'retains': 5374,\n",
       " 'leadership': 2017,\n",
       " 'inflation-adjusted': 5581,\n",
       " 'stone': 3533,\n",
       " 'package': 1451,\n",
       " 'industry': 198,\n",
       " 'favorite': 3722,\n",
       " 'tumor': 6887,\n",
       " 'five-cent': 6640,\n",
       " 'act': 905,\n",
       " 'mean': 1621,\n",
       " 'image': 1445,\n",
       " 'parties': 1625,\n",
       " 'her': 267,\n",
       " 'philadelphia': 2777,\n",
       " 'brazilian': 6532,\n",
       " 'lang': 2430,\n",
       " 'recommends': 6353,\n",
       " 'complete': 1616,\n",
       " 'saatchi': 2200,\n",
       " 'survived': 6005,\n",
       " 'technologies': 2317,\n",
       " 'with': 48,\n",
       " 'buying': 423,\n",
       " 'pull': 4676,\n",
       " 'rush': 4502,\n",
       " 'october': 777,\n",
       " 'taught': 6874,\n",
       " 'abuses': 6482,\n",
       " '<unkly>': 102,\n",
       " 'politically': 4882,\n",
       " 'advantage': 2001,\n",
       " 'agree': 1938,\n",
       " 'detailed': 3463,\n",
       " 'gone': 1977,\n",
       " 'ab': 4052,\n",
       " 'ad': 827,\n",
       " 'ag': 1825,\n",
       " 'certain': 523,\n",
       " 'am': 1629,\n",
       " 'an': 59,\n",
       " 'as': 46,\n",
       " 'at': 44,\n",
       " 'watched': 3670,\n",
       " 'nomura': 3205,\n",
       " 'shortages': 6842,\n",
       " 'graduate': 6663,\n",
       " 'tight': 3662,\n",
       " '6.25': 4369,\n",
       " 'trelleborg': 3424,\n",
       " 'a$': 2673,\n",
       " 'congress': 383,\n",
       " 'moderately': 6736,\n",
       " 'a.': 1124,\n",
       " 'planners': 2778,\n",
       " 'shipping': 2315,\n",
       " 'anticipates': 5749,\n",
       " 'fraudulent': 5554,\n",
       " 'mass': 2836,\n",
       " 'nelson': 4473,\n",
       " 'original': 1564,\n",
       " 'sci': 1929,\n",
       " 'consider': 1043,\n",
       " 'caused': 1107,\n",
       " 'mccaw': 2019,\n",
       " 'welfare': 6439,\n",
       " 'causes': 3352,\n",
       " 'tv': 733,\n",
       " 'tw': 3923,\n",
       " 'illustrates': 6675,\n",
       " 'cheney': 5217,\n",
       " 'to': 15,\n",
       " '<cunkal>': 650,\n",
       " 'midwest': 4130,\n",
       " 'case': 376,\n",
       " 'khmer': 4635,\n",
       " 'calif.': 1019,\n",
       " 'appointment': 4205,\n",
       " 'returned': 2313,\n",
       " '1,500': 4542,\n",
       " 'condition': 2260,\n",
       " '`': 941,\n",
       " 'cable': 1302,\n",
       " 'accompanying': 5741,\n",
       " 'joined': 2087,\n",
       " 't.': 2490,\n",
       " 'sand': 3772,\n",
       " 'adjust': 4746,\n",
       " 'harry': 4112,\n",
       " 'small': 386,\n",
       " 'sank': 5382,\n",
       " 'kemper': 3985,\n",
       " 'population': 2917,\n",
       " 'eurocom': 4098,\n",
       " 'penalties': 3752,\n",
       " '190': 4735,\n",
       " 'past': 282,\n",
       " 'displays': 4601,\n",
       " 'pass': 2277,\n",
       " 'investment': 201,\n",
       " 'richard': 984,\n",
       " 'section': 1465,\n",
       " 'scientists': 1711,\n",
       " 'method': 3747,\n",
       " 'contrast': 2075,\n",
       " 'full': 757,\n",
       " 'installations': 6248,\n",
       " 'lobbyist': 5879,\n",
       " 'hours': 990,\n",
       " 'citicorp': 1910,\n",
       " 'november': 1622,\n",
       " 'compliance': 4231,\n",
       " 'experience': 1721,\n",
       " 'prior': 2092,\n",
       " 'pick': 2435,\n",
       " 'action': 740,\n",
       " 'luck': 6721,\n",
       " '240': 6056,\n",
       " 'tax-free': 5702,\n",
       " 'via': 750,\n",
       " 'followed': 1293,\n",
       " 'send': 3412,\n",
       " 'select': 4694,\n",
       " '850': 6480,\n",
       " 'trips': 6419,\n",
       " 'objectives': 4655,\n",
       " 'petroleum': 1603,\n",
       " '6': 747,\n",
       " 'more': 84,\n",
       " 'door': 2334,\n",
       " 'company': 67,\n",
       " 'tested': 5414,\n",
       " 'objections': 5919,\n",
       " '<unks>': 25,\n",
       " 'refinery': 3302,\n",
       " 'keeping': 2163,\n",
       " 'science': 3221,\n",
       " 'sent': 1068,\n",
       " 'morgan': 991,\n",
       " 'learn': 3380,\n",
       " 'knocked': 4636,\n",
       " 'male': 4462,\n",
       " 'prompt': 6341,\n",
       " 'stated': 3530,\n",
       " 'suggestions': 4517,\n",
       " 'accept': 1613,\n",
       " 'states': 723,\n",
       " 'fiercely': 6634,\n",
       " 'sense': 1225,\n",
       " 'dress': 5260,\n",
       " 'huge': 944,\n",
       " 'equities': 4097,\n",
       " 'hugo': 1178,\n",
       " 'dismissed': 4412,\n",
       " 'earnings': 185,\n",
       " 'plant': 481,\n",
       " 'seoul': 4335,\n",
       " 'plane': 3755,\n",
       " 'director': 340,\n",
       " 'waves': 5431,\n",
       " 'appealed': 5195,\n",
       " 'acquisitions': 1649,\n",
       " 'refuse': 4896,\n",
       " 'organization': 1412,\n",
       " 'register': 6358,\n",
       " 'broadcasting': 1575,\n",
       " 'fundamental': 3282,\n",
       " '11.5': 6045,\n",
       " 'geographic': 6217,\n",
       " 'mexican': 4648,\n",
       " 'installed': 4276,\n",
       " 'resorts': 4151,\n",
       " 'attitude': 3157,\n",
       " 'paper': 515,\n",
       " 'scott': 3134,\n",
       " 'signs': 1895,\n",
       " 'itt': 4449,\n",
       " 'its': 55,\n",
       " 'rapidly': 2485,\n",
       " 'gerald': 4267,\n",
       " 'symptoms': 5701,\n",
       " 'ally': 4378,\n",
       " 'tentatively': 3657,\n",
       " 'severely': 5981,\n",
       " '(VP': 2,\n",
       " 'speculate': 5990,\n",
       " 'always': 1001,\n",
       " 'courses': 6580,\n",
       " 'found': 675,\n",
       " 'investigators': 4120,\n",
       " 'reactions': 5365,\n",
       " 'england': 2081,\n",
       " '179': 6051,\n",
       " 'reduce': 842,\n",
       " 'slowdown': 1845,\n",
       " 'mackenzie': 5883,\n",
       " 'advertisers': 1792,\n",
       " 'operation': 1216,\n",
       " 'nicaraguan': 4475,\n",
       " 'really': 900,\n",
       " 'anxious': 5461,\n",
       " 'aeroflot': 3807,\n",
       " 'psychology': 4889,\n",
       " 'blacks': 2143,\n",
       " 'research': 432,\n",
       " 'fha': 4256,\n",
       " 'ftc': 5836,\n",
       " 'occurs': 6749,\n",
       " 'highway': 2049,\n",
       " 'belief': 4388,\n",
       " 'risen': 3130,\n",
       " 'sparked': 5395,\n",
       " 'qualify': 5097,\n",
       " 'proxy': 5955,\n",
       " 'imagine': 6239,\n",
       " 'rises': 5112,\n",
       " 'driven': 3963,\n",
       " 'owners': 1414,\n",
       " 'retained': 4023,\n",
       " 'major': 187,\n",
       " 'slipped': 2129,\n",
       " 'recruiting': 6355,\n",
       " 'thereafter': 4718,\n",
       " 'number': 389,\n",
       " 'mid-october': 4859,\n",
       " 'contended': 4799,\n",
       " 'guess': 5047,\n",
       " 'heads': 2829,\n",
       " 'leverage': 3291,\n",
       " 'jet': 5597,\n",
       " 'introduction': 5305,\n",
       " 'threatening': 4523,\n",
       " 'contra': 4401,\n",
       " 'calculations': 4221,\n",
       " ...}"
      ]
     },
     "execution_count": 37,
     "metadata": {},
     "output_type": "execute_result"
    }
   ],
   "source": [
    "word_to_id"
   ]
  },
  {
   "cell_type": "code",
   "execution_count": 38,
   "metadata": {
    "collapsed": false
   },
   "outputs": [
    {
     "data": {
      "text/plain": [
       "[')NAC',\n",
       " ')WHNP',\n",
       " ')X',\n",
       " ')S',\n",
       " ')ADJP',\n",
       " ')UCP',\n",
       " ')RRC',\n",
       " ')SBARQ',\n",
       " ')WHPP',\n",
       " ')INTJ',\n",
       " ')CONJP',\n",
       " ')VP',\n",
       " ')PP',\n",
       " ')WHADJP',\n",
       " ')NX',\n",
       " ')NP',\n",
       " ')PRT',\n",
       " ')PRN',\n",
       " ')WHADVP',\n",
       " ')FRAG',\n",
       " ')SQ',\n",
       " ')SINV',\n",
       " ')LST',\n",
       " ')QP',\n",
       " ')SBAR',\n",
       " ')ADVP']"
      ]
     },
     "execution_count": 38,
     "metadata": {},
     "output_type": "execute_result"
    }
   ],
   "source": [
    "[x for x in word_to_id.keys() if ')' in x]"
   ]
  },
  {
   "cell_type": "code",
   "execution_count": 39,
   "metadata": {
    "collapsed": false
   },
   "outputs": [
    {
     "data": {
      "text/plain": [
       "['non-violent',\n",
       " '<unk->',\n",
       " 'three-year',\n",
       " 'one-time',\n",
       " 'hewlett-packard',\n",
       " 'five-year',\n",
       " 'ciba-geigy',\n",
       " 'sell-off',\n",
       " 'far-reaching',\n",
       " 'inflation-adjusted',\n",
       " 'five-cent',\n",
       " 'tax-free',\n",
       " 'mid-october',\n",
       " 'computer-guided',\n",
       " 'toronto-based',\n",
       " 'three-month',\n",
       " 'financial-services',\n",
       " 'long-term',\n",
       " 'coca-cola',\n",
       " 'savings-and-loan',\n",
       " '300-day',\n",
       " 'start-up',\n",
       " 'real-estate',\n",
       " 'foreign-exchange',\n",
       " 'equity-purchase',\n",
       " 'year-earlier',\n",
       " 'state-controlled',\n",
       " 'so-called',\n",
       " 'program-trading',\n",
       " 'chicago-based',\n",
       " 'near-term',\n",
       " 'day-to-day',\n",
       " 'high-definition',\n",
       " 'tax-exempt',\n",
       " 'london-based',\n",
       " '190-point',\n",
       " 'anti-abortion',\n",
       " 'prudential-bache',\n",
       " '12-year',\n",
       " 'department-store',\n",
       " 'year-end',\n",
       " 'world-wide',\n",
       " 'zero-coupon',\n",
       " 'interest-rate',\n",
       " 'high-quality',\n",
       " 'private-sector',\n",
       " '-rrb-',\n",
       " '10-year',\n",
       " 'investment-grade',\n",
       " 'buy-back',\n",
       " 'health-care',\n",
       " 'two-thirds',\n",
       " 'blue-chip',\n",
       " 'ru-486',\n",
       " '--',\n",
       " 'bristol-myers',\n",
       " 'cost-cutting',\n",
       " 'gramm-rudman',\n",
       " 'fast-food',\n",
       " 'well-known',\n",
       " 'abortion-rights',\n",
       " 'state-owned',\n",
       " 'soft-drink',\n",
       " 'second-largest',\n",
       " 'second-quarter',\n",
       " 'over-the-counter',\n",
       " 'stock-market',\n",
       " 'investment-banking',\n",
       " 'fixed-rate',\n",
       " 'fixed-income',\n",
       " 'less-developed',\n",
       " 'write-down',\n",
       " 'house-senate',\n",
       " 'high-grade',\n",
       " 'labor-management',\n",
       " '300-a-share',\n",
       " 'full-year',\n",
       " 'four-year',\n",
       " 'gen-probe',\n",
       " 'write-downs',\n",
       " 'georgia-pacific',\n",
       " 'exchange-rate',\n",
       " 'double-a',\n",
       " 'high-yield',\n",
       " 'schering-plough',\n",
       " 'line-item',\n",
       " '30-share',\n",
       " 'buy-out',\n",
       " 'short-term',\n",
       " 'bank-backed',\n",
       " 'per-share',\n",
       " 'long-distance',\n",
       " 'one-third',\n",
       " '-lcb-',\n",
       " 'high-tech',\n",
       " 'prime-time',\n",
       " 'deficit-reduction',\n",
       " 'iran-contra',\n",
       " '<cunk->',\n",
       " 'asset-backed',\n",
       " 'two-day',\n",
       " 'buy-outs',\n",
       " 'six-month',\n",
       " 'half-hour',\n",
       " 'would-be',\n",
       " 'one-year',\n",
       " 'junk-bond',\n",
       " '-lrb-',\n",
       " 'daimler-benz',\n",
       " 'fourth-quarter',\n",
       " 'year-ago',\n",
       " 'in-house',\n",
       " 'capital-gains',\n",
       " 'profit-taking',\n",
       " 'pro-choice',\n",
       " 'single-a-3',\n",
       " 'single-a-2',\n",
       " 'forest-products',\n",
       " 'nine-month',\n",
       " '30-year',\n",
       " '-',\n",
       " 'after-tax',\n",
       " 'mutual-fund',\n",
       " 'takeover-stock',\n",
       " 'credit-card',\n",
       " '30-day',\n",
       " 'luxury-car',\n",
       " 'non-u.s.',\n",
       " 'low-income',\n",
       " 'free-market',\n",
       " 'loan-loss',\n",
       " 'tele-communications',\n",
       " 'money-market',\n",
       " 'third-quarter',\n",
       " 'stock-index',\n",
       " 'low-cost',\n",
       " '100-share',\n",
       " 'two-year',\n",
       " 'first-half',\n",
       " 'white-collar',\n",
       " 'triple-a',\n",
       " 'packaged-goods',\n",
       " 'air-freight',\n",
       " 'mortgage-backed',\n",
       " 'seven-day',\n",
       " 'small-business',\n",
       " 'computer-driven',\n",
       " 'bankruptcy-law',\n",
       " '500-stock',\n",
       " 'guber-peters',\n",
       " 'angeles-based',\n",
       " '20-year',\n",
       " '-rcb-',\n",
       " 'high-risk',\n",
       " 'york-based']"
      ]
     },
     "execution_count": 39,
     "metadata": {},
     "output_type": "execute_result"
    }
   ],
   "source": [
    "[x for x in word_to_id.keys() if '-' in x]"
   ]
  },
  {
   "cell_type": "code",
   "execution_count": 40,
   "metadata": {
    "collapsed": false
   },
   "outputs": [],
   "source": [
    "import search"
   ]
  },
  {
   "cell_type": "code",
   "execution_count": 41,
   "metadata": {
    "collapsed": false
   },
   "outputs": [
    {
     "data": {
      "text/plain": [
       "{'ADJP': (23, 24),\n",
       " 'ADVP': (17, 18),\n",
       " 'CONJP': (402, 403),\n",
       " 'FRAG': (224, 226),\n",
       " 'INTJ': (914, 915),\n",
       " 'LST': (2501, 2502),\n",
       " 'NAC': (277, 278),\n",
       " 'NP': (0, 1),\n",
       " 'NX': (107, 108),\n",
       " 'PP': (6, 7),\n",
       " 'PRN': (68, 69),\n",
       " 'PRT': (63, 64),\n",
       " 'QP': (26, 27),\n",
       " 'RRC': (2137, 2138),\n",
       " 'S': (4, 5),\n",
       " 'SBAR': (12, 13),\n",
       " 'SBARQ': (609, 610),\n",
       " 'SINV': (81, 82),\n",
       " 'SQ': (344, 345),\n",
       " 'UCP': (225, 227),\n",
       " 'VP': (2, 3),\n",
       " 'WHADJP': (1769, 1770),\n",
       " 'WHADVP': (77, 78),\n",
       " 'WHNP': (32, 33),\n",
       " 'WHPP': (294, 295),\n",
       " 'X': (693, 694)}"
      ]
     },
     "execution_count": 41,
     "metadata": {},
     "output_type": "execute_result"
    }
   ],
   "source": [
    "search.make_matching_brackets(word_to_id)"
   ]
  },
  {
   "cell_type": "code",
   "execution_count": 45,
   "metadata": {
    "collapsed": false
   },
   "outputs": [],
   "source": [
    "x = next(reader.ptb_iterator_single_sentence(valid_data, word_to_id['<eos>']))"
   ]
  },
  {
   "cell_type": "code",
   "execution_count": 54,
   "metadata": {
    "collapsed": false
   },
   "outputs": [
    {
     "data": {
      "text/plain": [
       "<module 'reader' from 'reader.py'>"
      ]
     },
     "execution_count": 54,
     "metadata": {},
     "output_type": "execute_result"
    }
   ],
   "source": [
    "import reader\n",
    "reload(reader)"
   ]
  },
  {
   "cell_type": "code",
   "execution_count": 47,
   "metadata": {
    "collapsed": false
   },
   "outputs": [
    {
     "data": {
      "text/plain": [
       "<module 'utils' from 'utils.pyc'>"
      ]
     },
     "execution_count": 47,
     "metadata": {},
     "output_type": "execute_result"
    }
   ],
   "source": [
    "import utils\n",
    "reload(utils)"
   ]
  },
  {
   "cell_type": "code",
   "execution_count": 48,
   "metadata": {
    "collapsed": false
   },
   "outputs": [
    {
     "data": {
      "text/plain": [
       "'<eos> (S (NP chicago investor william <cunk> )NP (VP agreed (S (VP to (VP sell (NP (NP three divisions )NP (PP of (NP <cunk> peabody & co. )NP )PP )NP (PP for (NP (QP about $ 600 million )QP )NP )PP (PP to (NP (NP <cunk> s.a. )NP , (NP (NP a (ADJP closely held )ADJP clothing maker )NP (VP based (PP in (NP paris )NP )PP )VP )NP )NP )PP )VP )VP )S )VP . )S <eos>'"
      ]
     },
     "execution_count": 48,
     "metadata": {},
     "output_type": "execute_result"
    }
   ],
   "source": [
    "display_parse(x)"
   ]
  },
  {
   "cell_type": "code",
   "execution_count": 49,
   "metadata": {
    "collapsed": true
   },
   "outputs": [],
   "source": [
    "id_to_word = {id_:word for word, id_ in word_to_id.items()}"
   ]
  },
  {
   "cell_type": "code",
   "execution_count": 50,
   "metadata": {
    "collapsed": false
   },
   "outputs": [
    {
     "data": {
      "text/plain": [
       "'(S (NP (XX chicago ) (XX investor ) (XX william ) (XX <cunk> ) ) (VP (XX agreed ) (S (VP (XX to ) (VP (XX sell ) (NP (NP (XX three ) (XX divisions ) ) (PP (XX of ) (NP (XX <cunk> ) (XX peabody ) (XX & ) (XX co. ) ) ) ) (PP (XX for ) (NP (QP (XX about ) (XX $ ) (XX 600 ) (XX million ) ) ) ) (PP (XX to ) (NP (NP (XX <cunk> ) (XX s.a. ) ) (XX , ) (NP (NP (XX a ) (ADJP (XX closely ) (XX held ) ) (XX clothing ) (XX maker ) ) (VP (XX based ) (PP (XX in ) (NP (XX paris ) ) ) ) ) ) ) ) ) ) ) (XX . ) )'"
      ]
     },
     "execution_count": 50,
     "metadata": {},
     "output_type": "execute_result"
    }
   ],
   "source": [
    "' '.join(utils.convert_to_ptb_format(id_to_word, x))"
   ]
  },
  {
   "cell_type": "code",
   "execution_count": 82,
   "metadata": {
    "collapsed": false,
    "scrolled": true
   },
   "outputs": [
    {
     "name": "stdout",
     "output_type": "stream",
     "text": [
      "Automatic pdb calling has been turned ON\n"
     ]
    }
   ],
   "source": [
    "pdb on"
   ]
  },
  {
   "cell_type": "code",
   "execution_count": 56,
   "metadata": {
    "collapsed": true
   },
   "outputs": [],
   "source": [
    "import ptb_reader"
   ]
  },
  {
   "cell_type": "code",
   "execution_count": 65,
   "metadata": {
    "collapsed": false
   },
   "outputs": [
    {
     "data": {
      "text/plain": [
       "<module 'utils' from 'utils.py'>"
      ]
     },
     "execution_count": 65,
     "metadata": {},
     "output_type": "execute_result"
    }
   ],
   "source": [
    "import utils\n",
    "reload(utils)"
   ]
  },
  {
   "cell_type": "code",
   "execution_count": 63,
   "metadata": {
    "collapsed": true
   },
   "outputs": [],
   "source": [
    "import gzip"
   ]
  },
  {
   "cell_type": "code",
   "execution_count": 67,
   "metadata": {
    "collapsed": false
   },
   "outputs": [],
   "source": [
    "with open(\"/tmp/dev_reformatted.txt\", 'w') as fout, gzip.open(\"wsj/dev_22.txt.stripped.gz\") as fdev:\n",
    "    for i, (x, dev_line) in enumerate(zip(reader.ptb_iterator_single_sentence(valid_data, word_to_id['<eos>']),\n",
    "                                          fdev)):\n",
    "        gold_tags, gold_tokens, gold_lc = ptb_reader.get_tags_tokens_lowercase(dev_line)\n",
    "        if len(x) >= 2:\n",
    "            fout.write(\"%s\\n\" % ' '.join(utils.convert_to_ptb_format(id_to_word, x, gold_tags=gold_tags, gold_tokens=gold_tokens)))"
   ]
  }
 ],
 "metadata": {
  "kernelspec": {
   "display_name": "Python 2",
   "language": "python",
   "name": "python2"
  },
  "language_info": {
   "codemirror_mode": {
    "name": "ipython",
    "version": 2
   },
   "file_extension": ".py",
   "mimetype": "text/x-python",
   "name": "python",
   "nbconvert_exporter": "python",
   "pygments_lexer": "ipython2",
   "version": "2.7.12"
  }
 },
 "nbformat": 4,
 "nbformat_minor": 0
}
